{
 "cells": [
  {
   "cell_type": "code",
   "execution_count": 66,
   "metadata": {},
   "outputs": [
    {
     "name": "stdout",
     "output_type": "stream",
     "text": [
      "The autoreload extension is already loaded. To reload it, use:\n",
      "  %reload_ext autoreload\n"
     ]
    }
   ],
   "source": [
    "%load_ext autoreload"
   ]
  },
  {
   "cell_type": "code",
   "execution_count": 67,
   "metadata": {},
   "outputs": [
    {
     "name": "stdout",
     "output_type": "stream",
     "text": [
      "Relative path:  /home/bnherrerac/alveolar-perfusion-transport-modeling\n",
      "Imported src files\n"
     ]
    }
   ],
   "source": [
    "__author__ = 'biherrera'\n",
    "__email__ = 'biherrera@uc.cl'\n",
    "\n",
    "import sys\n",
    "import os\n",
    "import time\n",
    "sys.path.append(os.getcwd()[:-6])\n",
    "print(\"Relative path: \", os.getcwd()[:-6])\n",
    "import dolfin\n",
    "from fenics import *\n",
    "from src.model_nd import NondimensionalPerfusionGasExchangeModel\n",
    "from src.params import params\n",
    "print(\"Imported src files\")"
   ]
  },
  {
   "cell_type": "code",
   "execution_count": 68,
   "metadata": {},
   "outputs": [],
   "source": [
    "%autoreload\n",
    "\n",
    "def run_model(name, fname, solver, preconditioner, max_dims, min_dims, side_length, amount):\n",
    "    print(\"Starting...\")\n",
    "    folder = fname + \"/\" + name\n",
    "    path = os.path.join(\"../local-results-data\", folder)\n",
    "    model = NondimensionalPerfusionGasExchangeModel(folder_path=path, params=params, solver='gmres', f_dim = 2, vecf_dim=1)\n",
    "    print(\"Model initialised\")\n",
    "    \n",
    "    model.import_mesh(max_dims=max_dims, min_dims=min_dims, tol=0.1, box_side_length = side_length, box_nodes = amount)\n",
    "    print(\"Mesh initialized\")\n",
    "    \n",
    "    model.instance_nondimensional_params()\n",
    "    \n",
    "    model.mesh = dolfin.refine(model.mesh) # Esto duplica la cantidad de nodos\n",
    "    print(\"Mesh refined\")\n",
    "    \n",
    "    print(\"Starting (P) simulation\")\n",
    "    model.sim_p(save=True, meshtype=\"tkd\")\n",
    "    print(\"(P) simulation done\")\n",
    "    \n",
    "    print(\"Starting linear (T) simulation\")\n",
    "    x = model.sim_t(hb=False, save=True, solver=\"bicgstab\")\n",
    "    print(\"Finished (linear) guess generation\")\n",
    "    \n",
    "    print(\"Starting nonlinear (T) simulation\")\n",
    "    solution = model.sim_t(hb=True, save=True, guess=x, solver=solver, preconditioner=preconditioner)\n",
    "    print(\"Generated non-linear solution\")\n",
    "    print(\"Done\")"
   ]
  },
  {
   "cell_type": "code",
   "execution_count": 69,
   "metadata": {},
   "outputs": [
    {
     "name": "stdout",
     "output_type": "stream",
     "text": [
      "Comienza la iteración con amount = 5 y side_length = 50.\n",
      "Starting...\n",
      "Model initialised\n",
      "Created b\n",
      "Coordinates have shape  (216, 3)\n",
      "Mesh initialized\n",
      "Re = 0.00034288653313141134\n",
      "Tau = 116656.66666666667\n",
      "Pe_O2 = 0.7407407407407407\n",
      "Pe_CO2 = 1.2\n",
      "Da'_(T, O2) = 1520.0\n",
      "Da'_(T, CO2) = 0.8639999999999999\n",
      "Da'_O2 = 1266.6666666666667\n",
      "Da'_CO2 = 2.3039999999999996e-05\n",
      "Da_O2 = 0.6444444444444445\n",
      "Da_CO2 = 17999999.999999996\n",
      "H_O2 = 52530338849.48779\n",
      "H_CO2 = 84048.54215918045\n",
      "S_(O2, T) = 0.00011392439361845755\n",
      "S_(CO2, T) = 0.02498341965317052\n",
      "S_(O2, O2) = 9.493699468204798e-05\n",
      "S_(CO2, CO2) = 6.662245240845473e-07\n",
      "S_(O2, CO2) = 3.0379838298255346e-09\n",
      "S_(CO2, O2) = 0.020819516377642105\n",
      "W_O2 = 0.87\n",
      "W_CO2 = 15000000.0\n",
      "R_O2 = 12.34567901234568\n",
      "R_CO2 = 18.280000000000005\n",
      "Mesh refined\n",
      "Starting (P) simulation\n",
      "\n",
      " ############## (P) problem simulation ############\n",
      "Instancing boundaries\n",
      "gamma_in.dir_min =  0\n",
      "gamma_in.dir_max =  50\n",
      "gamma_out.dir_min =  0\n",
      "gamma_out.dir_max =  50\n",
      "gamma_air.dir_min_y =  0\n",
      "gamma_air.dir_max_y =  50\n",
      "gamma_air.dir_min_z =  0\n",
      "gamma_air.dir_max_z =  50\n",
      "boundaries instanced\n",
      "self.f_dim = 2\n",
      "self.vecf_dim = 1\n",
      "P problem solved\n",
      "u problem solved\n",
      "Saving solutions\n",
      "saved\n",
      "(P) simulation done\n",
      "Starting linear (T) simulation\n",
      "\n",
      " ############## (LT) and (T) problem simulation ############\n",
      "began sim_t, with solver =  bicgstab  and WITHOUT preconditioner.\n",
      "Solving with solver = bicgstab and without preconditioner.\n",
      "Finished (linear) guess generation\n",
      "Starting nonlinear (T) simulation\n",
      "\n",
      " ############## (LT) and (T) problem simulation ############\n",
      "began sim_t, with solver =  mumps  and WITHOUT preconditioner.\n",
      "Solving with solver = mumps and without preconditioner.\n",
      "Calling FFC just-in-time (JIT) compiler, this may take some time.\n",
      "Calling FFC just-in-time (JIT) compiler, this may take some time.\n"
     ]
    },
    {
     "ename": "RuntimeError",
     "evalue": "\n\n*** -------------------------------------------------------------------------\n*** DOLFIN encountered an error. If you are not able to resolve this issue\n*** using the information listed below, you can ask for help at\n***\n***     fenics-support@googlegroups.com\n***\n*** Remember to include the error message listed below and, if possible,\n*** include a *minimal* running example to reproduce the error.\n***\n*** -------------------------------------------------------------------------\n*** Error:   Unable to solve nonlinear system with NewtonSolver.\n*** Reason:  Newton solver did not converge because maximum number of iterations reached.\n*** Where:   This error was encountered inside NewtonSolver.cpp.\n*** Process: 0\n*** \n*** DOLFIN version: 2019.2.0.dev0\n*** Git changeset:  unknown\n*** -------------------------------------------------------------------------\n",
     "output_type": "error",
     "traceback": [
      "\u001b[0;31m---------------------------------------------------------------------------\u001b[0m",
      "\u001b[0;31mRuntimeError\u001b[0m                              Traceback (most recent call last)",
      "\u001b[0;32m<ipython-input-69-9a3d44e2883d>\u001b[0m in \u001b[0;36m<module>\u001b[0;34m\u001b[0m\n\u001b[1;32m     16\u001b[0m \u001b[0mfname\u001b[0m \u001b[0;34m=\u001b[0m \u001b[0;34m\"nd_side_\"\u001b[0m \u001b[0;34m+\u001b[0m \u001b[0mstr\u001b[0m\u001b[0;34m(\u001b[0m\u001b[0mside_length\u001b[0m\u001b[0;34m)\u001b[0m\u001b[0;34m\u001b[0m\u001b[0;34m\u001b[0m\u001b[0m\n\u001b[1;32m     17\u001b[0m \u001b[0;34m\u001b[0m\u001b[0m\n\u001b[0;32m---> 18\u001b[0;31m \u001b[0mrun_model\u001b[0m\u001b[0;34m(\u001b[0m\u001b[0mname\u001b[0m\u001b[0;34m,\u001b[0m \u001b[0mfname\u001b[0m\u001b[0;34m,\u001b[0m \u001b[0;34m\"mumps\"\u001b[0m\u001b[0;34m,\u001b[0m \u001b[0;32mNone\u001b[0m\u001b[0;34m,\u001b[0m \u001b[0mmax_dims\u001b[0m\u001b[0;34m,\u001b[0m \u001b[0mmin_dims\u001b[0m\u001b[0;34m,\u001b[0m \u001b[0mside_length\u001b[0m\u001b[0;34m,\u001b[0m \u001b[0mamount\u001b[0m\u001b[0;34m)\u001b[0m\u001b[0;34m\u001b[0m\u001b[0;34m\u001b[0m\u001b[0m\n\u001b[0m",
      "\u001b[0;32m<ipython-input-68-4a1e02085589>\u001b[0m in \u001b[0;36mrun_model\u001b[0;34m(name, fname, solver, preconditioner, max_dims, min_dims, side_length, amount)\u001b[0m\n\u001b[1;32m     25\u001b[0m \u001b[0;34m\u001b[0m\u001b[0m\n\u001b[1;32m     26\u001b[0m     \u001b[0mprint\u001b[0m\u001b[0;34m(\u001b[0m\u001b[0;34m\"Starting nonlinear (T) simulation\"\u001b[0m\u001b[0;34m)\u001b[0m\u001b[0;34m\u001b[0m\u001b[0;34m\u001b[0m\u001b[0m\n\u001b[0;32m---> 27\u001b[0;31m     \u001b[0msolution\u001b[0m \u001b[0;34m=\u001b[0m \u001b[0mmodel\u001b[0m\u001b[0;34m.\u001b[0m\u001b[0msim_t\u001b[0m\u001b[0;34m(\u001b[0m\u001b[0mhb\u001b[0m\u001b[0;34m=\u001b[0m\u001b[0;32mTrue\u001b[0m\u001b[0;34m,\u001b[0m \u001b[0msave\u001b[0m\u001b[0;34m=\u001b[0m\u001b[0;32mTrue\u001b[0m\u001b[0;34m,\u001b[0m \u001b[0mguess\u001b[0m\u001b[0;34m=\u001b[0m\u001b[0mx\u001b[0m\u001b[0;34m,\u001b[0m \u001b[0msolver\u001b[0m\u001b[0;34m=\u001b[0m\u001b[0msolver\u001b[0m\u001b[0;34m,\u001b[0m \u001b[0mpreconditioner\u001b[0m\u001b[0;34m=\u001b[0m\u001b[0mpreconditioner\u001b[0m\u001b[0;34m)\u001b[0m\u001b[0;34m\u001b[0m\u001b[0;34m\u001b[0m\u001b[0m\n\u001b[0m\u001b[1;32m     28\u001b[0m     \u001b[0mprint\u001b[0m\u001b[0;34m(\u001b[0m\u001b[0;34m\"Generated non-linear solution\"\u001b[0m\u001b[0;34m)\u001b[0m\u001b[0;34m\u001b[0m\u001b[0;34m\u001b[0m\u001b[0m\n\u001b[1;32m     29\u001b[0m     \u001b[0mprint\u001b[0m\u001b[0;34m(\u001b[0m\u001b[0;34m\"Done\"\u001b[0m\u001b[0;34m)\u001b[0m\u001b[0;34m\u001b[0m\u001b[0;34m\u001b[0m\u001b[0m\n",
      "\u001b[0;32m~/alveolar-perfusion-transport-modeling/src/model_nd.py\u001b[0m in \u001b[0;36msim_t\u001b[0;34m(self, hb, save, guess, solver, preconditioner, opt, stab_param)\u001b[0m\n\u001b[1;32m    461\u001b[0m                         \u001b[0;34m\"relative_tolerance\"\u001b[0m\u001b[0;34m:\u001b[0m \u001b[0;36m1E-8\u001b[0m\u001b[0;34m,\u001b[0m\u001b[0;34m\u001b[0m\u001b[0;34m\u001b[0m\u001b[0m\n\u001b[1;32m    462\u001b[0m                         \u001b[0;34m\"absolute_tolerance\"\u001b[0m\u001b[0;34m:\u001b[0m \u001b[0;36m1E-8\u001b[0m\u001b[0;34m,\u001b[0m\u001b[0;34m\u001b[0m\u001b[0;34m\u001b[0m\u001b[0m\n\u001b[0;32m--> 463\u001b[0;31m                         \u001b[0;34m\"linear_solver\"\u001b[0m\u001b[0;34m:\u001b[0m \u001b[0msolver\u001b[0m\u001b[0;34m\u001b[0m\u001b[0;34m\u001b[0m\u001b[0m\n\u001b[0m\u001b[1;32m    464\u001b[0m                     }}\n\u001b[1;32m    465\u001b[0m                 )\n",
      "\u001b[0;32m/usr/lib/petsc/lib/python3/dist-packages/dolfin/fem/solving.py\u001b[0m in \u001b[0;36msolve\u001b[0;34m(*args, **kwargs)\u001b[0m\n\u001b[1;32m    231\u001b[0m     \u001b[0;31m# tolerance)\u001b[0m\u001b[0;34m\u001b[0m\u001b[0;34m\u001b[0m\u001b[0;34m\u001b[0m\u001b[0m\n\u001b[1;32m    232\u001b[0m     \u001b[0;32melif\u001b[0m \u001b[0misinstance\u001b[0m\u001b[0;34m(\u001b[0m\u001b[0margs\u001b[0m\u001b[0;34m[\u001b[0m\u001b[0;36m0\u001b[0m\u001b[0;34m]\u001b[0m\u001b[0;34m,\u001b[0m \u001b[0mufl\u001b[0m\u001b[0;34m.\u001b[0m\u001b[0mclasses\u001b[0m\u001b[0;34m.\u001b[0m\u001b[0mEquation\u001b[0m\u001b[0;34m)\u001b[0m\u001b[0;34m:\u001b[0m\u001b[0;34m\u001b[0m\u001b[0;34m\u001b[0m\u001b[0m\n\u001b[0;32m--> 233\u001b[0;31m         \u001b[0m_solve_varproblem\u001b[0m\u001b[0;34m(\u001b[0m\u001b[0;34m*\u001b[0m\u001b[0margs\u001b[0m\u001b[0;34m,\u001b[0m \u001b[0;34m**\u001b[0m\u001b[0mkwargs\u001b[0m\u001b[0;34m)\u001b[0m\u001b[0;34m\u001b[0m\u001b[0;34m\u001b[0m\u001b[0m\n\u001b[0m\u001b[1;32m    234\u001b[0m \u001b[0;34m\u001b[0m\u001b[0m\n\u001b[1;32m    235\u001b[0m     \u001b[0;31m# Default case, just call the wrapped C++ solve function\u001b[0m\u001b[0;34m\u001b[0m\u001b[0;34m\u001b[0m\u001b[0;34m\u001b[0m\u001b[0m\n",
      "\u001b[0;32m/usr/lib/petsc/lib/python3/dist-packages/dolfin/fem/solving.py\u001b[0m in \u001b[0;36m_solve_varproblem\u001b[0;34m(*args, **kwargs)\u001b[0m\n\u001b[1;32m    312\u001b[0m             \u001b[0msolver\u001b[0m \u001b[0;34m=\u001b[0m \u001b[0mNonlinearVariationalSolver\u001b[0m\u001b[0;34m(\u001b[0m\u001b[0mproblem\u001b[0m\u001b[0;34m)\u001b[0m\u001b[0;34m\u001b[0m\u001b[0;34m\u001b[0m\u001b[0m\n\u001b[1;32m    313\u001b[0m             \u001b[0msolver\u001b[0m\u001b[0;34m.\u001b[0m\u001b[0mparameters\u001b[0m\u001b[0;34m.\u001b[0m\u001b[0mupdate\u001b[0m\u001b[0;34m(\u001b[0m\u001b[0msolver_parameters\u001b[0m\u001b[0;34m)\u001b[0m\u001b[0;34m\u001b[0m\u001b[0;34m\u001b[0m\u001b[0m\n\u001b[0;32m--> 314\u001b[0;31m             \u001b[0msolver\u001b[0m\u001b[0;34m.\u001b[0m\u001b[0msolve\u001b[0m\u001b[0;34m(\u001b[0m\u001b[0;34m)\u001b[0m\u001b[0;34m\u001b[0m\u001b[0;34m\u001b[0m\u001b[0m\n\u001b[0m\u001b[1;32m    315\u001b[0m \u001b[0;34m\u001b[0m\u001b[0m\n\u001b[1;32m    316\u001b[0m \u001b[0;34m\u001b[0m\u001b[0m\n",
      "\u001b[0;31mRuntimeError\u001b[0m: \n\n*** -------------------------------------------------------------------------\n*** DOLFIN encountered an error. If you are not able to resolve this issue\n*** using the information listed below, you can ask for help at\n***\n***     fenics-support@googlegroups.com\n***\n*** Remember to include the error message listed below and, if possible,\n*** include a *minimal* running example to reproduce the error.\n***\n*** -------------------------------------------------------------------------\n*** Error:   Unable to solve nonlinear system with NewtonSolver.\n*** Reason:  Newton solver did not converge because maximum number of iterations reached.\n*** Where:   This error was encountered inside NewtonSolver.cpp.\n*** Process: 0\n*** \n*** DOLFIN version: 2019.2.0.dev0\n*** Git changeset:  unknown\n*** -------------------------------------------------------------------------\n"
     ]
    }
   ],
   "source": [
    "####################### VARIAR ESTOS DOS PARÁMETROS\n",
    "%autoreload\n",
    "\n",
    "\n",
    "amount = 5\n",
    "side_length = 50\n",
    "\n",
    "####################### Ejecución\n",
    "\n",
    "print(f\"Comienza la iteración con amount = {str(amount)} y side_length = {str(side_length)}.\")\n",
    "\n",
    "max_dims = [side_length, side_length, side_length]\n",
    "min_dims = [0,0,0]\n",
    "\n",
    "name = \"a_\" + str(amount)\n",
    "fname = \"nd_side_\" + str(side_length)\n",
    "\n",
    "run_model(name, fname, \"mumps\", None, max_dims, min_dims, side_length, amount)"
   ]
  },
  {
   "cell_type": "code",
   "execution_count": null,
   "metadata": {},
   "outputs": [],
   "source": []
  },
  {
   "cell_type": "code",
   "execution_count": null,
   "metadata": {},
   "outputs": [],
   "source": []
  },
  {
   "cell_type": "code",
   "execution_count": null,
   "metadata": {},
   "outputs": [],
   "source": []
  }
 ],
 "metadata": {
  "kernelspec": {
   "display_name": "Python 3",
   "language": "python",
   "name": "python3"
  },
  "language_info": {
   "codemirror_mode": {
    "name": "ipython",
    "version": 3
   },
   "file_extension": ".py",
   "mimetype": "text/x-python",
   "name": "python",
   "nbconvert_exporter": "python",
   "pygments_lexer": "ipython3",
   "version": "3.6.9"
  }
 },
 "nbformat": 4,
 "nbformat_minor": 2
}
