{
 "cells": [
  {
   "cell_type": "code",
   "execution_count": 1,
   "metadata": {},
   "outputs": [
    {
     "name": "stdout",
     "output_type": "stream",
     "text": [
      "0.7.2\n"
     ]
    }
   ],
   "source": [
    "import numpy as np\n",
    "import matplotlib.pyplot as plt\n",
    "import pyvista\n",
    "import ufl\n",
    "import time\n",
    "from mpi4py import MPI\n",
    "from petsc4py import PETSc\n",
    "import dolfinx\n",
    "from dolfinx import fem, mesh, plot, nls, log, io\n",
    "from dolfinx import cpp as _cpp\n",
    "import meshio\n",
    "import os\n",
    "import sys\n",
    "\n",
    "sys.path.append('../')\n",
    "%load_ext autoreload\n",
    "%autoreload 2\n",
    "\n",
    "print(dolfinx.__version__)"
   ]
  },
  {
   "cell_type": "code",
   "execution_count": 2,
   "metadata": {},
   "outputs": [],
   "source": [
    "from src.utils import *\n",
    "from src.model import *"
   ]
  },
  {
   "cell_type": "code",
   "execution_count": 3,
   "metadata": {},
   "outputs": [],
   "source": [
    "# 3D geometry\n",
    "\n",
    "# def all(x):\n",
    "#     return np.full(x.shape[1], True, dtype=bool)\n",
    "\n",
    "with io.XDMFFile(MPI.COMM_WORLD, '../raw-data/mesh225_eroded/rve_225_eroded.xdmf', 'r') as xdmf:\n",
    "    domain = xdmf.read_mesh(name='Grid')\n",
    "    # cells_local = np.arange(domain.topology.index_map(domain.topology.dim).size_local, dtype=np.int32)\n",
    "    # midpoints = dolfinx.mesh.compute_midpoints(domain, domain.topology.dim, cells_local).T\n",
    "    # should_refine = np.flatnonzero(all(midpoints)).astype(np.int32)\n",
    "    # domain.topology.create_entities(1)\n",
    "    # local_edges = dolfinx.mesh.compute_incident_entities(domain, should_refine, domain.topology.dim, 1)\n",
    "    # domain = dolfinx.mesh.refine(domain, local_edges)\n",
    "\n",
    "    # edges = mesh.locate_entities(domain, domain.topology.dim - 1, all)\n",
    "    # domain.topology\n",
    "    # domain = mesh.refine(domain, edges)\n",
    "    # V = fem.VectorFunctionSpace(domain, ('Lagrange', 2))"
   ]
  },
  {
   "cell_type": "code",
   "execution_count": 4,
   "metadata": {},
   "outputs": [],
   "source": [
    "topology, cells, geometry = plot.vtk_mesh(domain, domain.topology.dim)"
   ]
  },
  {
   "cell_type": "code",
   "execution_count": 5,
   "metadata": {},
   "outputs": [
    {
     "data": {
      "text/plain": [
       "(29724, 3)"
      ]
     },
     "execution_count": 5,
     "metadata": {},
     "output_type": "execute_result"
    }
   ],
   "source": [
    "geometry.shape"
   ]
  },
  {
   "cell_type": "code",
   "execution_count": 6,
   "metadata": {},
   "outputs": [
    {
     "data": {
      "text/plain": [
       "(98282,)"
      ]
     },
     "execution_count": 6,
     "metadata": {},
     "output_type": "execute_result"
    }
   ],
   "source": [
    "cells.shape"
   ]
  },
  {
   "cell_type": "code",
   "execution_count": 7,
   "metadata": {},
   "outputs": [
    {
     "data": {
      "text/plain": [
       "(491410,)"
      ]
     },
     "execution_count": 7,
     "metadata": {},
     "output_type": "execute_result"
    }
   ],
   "source": [
    "topology.shape"
   ]
  },
  {
   "cell_type": "code",
   "execution_count": 8,
   "metadata": {},
   "outputs": [
    {
     "data": {
      "application/vnd.jupyter.widget-view+json": {
       "model_id": "157da4c2bc5844f5915df702c7d93bc9",
       "version_major": 2,
       "version_minor": 0
      },
      "text/plain": [
       "Widget(value=\"<iframe src='http://localhost:44135/index.html?ui=P_0x7f71c1fdb430_0&reconnect=auto' style='widt…"
      ]
     },
     "metadata": {},
     "output_type": "display_data"
    }
   ],
   "source": [
    "plot_mesh(domain)"
   ]
  },
  {
   "cell_type": "code",
   "execution_count": 9,
   "metadata": {},
   "outputs": [],
   "source": [
    "results_folder = r\"../../results-data/\"\n",
    "exp_folder = \"rve_225\""
   ]
  },
  {
   "cell_type": "code",
   "execution_count": 10,
   "metadata": {},
   "outputs": [],
   "source": [
    "model = PerfusionGasExchangeModel(mesh_path=None,\n",
    "                                  results_path=results_folder,\n",
    "                                  exp_path=exp_folder,\n",
    "                                  params=None)"
   ]
  },
  {
   "cell_type": "code",
   "execution_count": 11,
   "metadata": {},
   "outputs": [
    {
     "name": "stdout",
     "output_type": "stream",
     "text": [
      "max_dims = [226.01744, 224.76256, 224.7918]\n",
      "min_dims = [-1.2616, 0.4544, 0.2872]\n"
     ]
    }
   ],
   "source": [
    "# max_dims = [76.07255, 74.9075,  74.99651]\n",
    "# min_dims = [-1.12887,  0.07919,  0.09616]\n",
    "\n",
    "# rve_225\n",
    "# max_dims = [226.4988, 225.138, 225.2962]\n",
    "# min_dims = [-1.4086, 0.08677, 0.0389]\n",
    "\n",
    "# rve_225_normal\n",
    "# max_dims = [226.4988, 225.1387, 225.2962]\n",
    "# min_dims = [-1.4082, 0.0866, 0.03899]\n",
    "\n",
    "# mesh225_dilated\n",
    "# max_dims = [226.3880, 224.8622, 225.0170]\n",
    "# min_dims = [-1.14634, -0.0851, 0.2545]\n",
    "\n",
    "# mesh225_eroded\n",
    "max_dims = [226.01744, 224.76256, 224.7918]\n",
    "min_dims = [-1.2616, 0.4544, 0.2872]\n",
    "\n",
    "model.Setup(domain, atol = 1E-3, max_dims = max_dims, min_dims = min_dims, imported=True)\n",
    "model.parameter_setup()"
   ]
  },
  {
   "cell_type": "code",
   "execution_count": 12,
   "metadata": {},
   "outputs": [
    {
     "name": "stdout",
     "output_type": "stream",
     "text": [
      "Problem instanced.\n"
     ]
    },
    {
     "ename": "Error",
     "evalue": "error code 55\n[0] KSPSolve() line 1085 in ./src/ksp/ksp/interface/itfunc.c\n[0] KSPSolve_Private() line 850 in ./src/ksp/ksp/interface/itfunc.c\n[0] KSPSetUp() line 406 in ./src/ksp/ksp/interface/itfunc.c\n[0] PCSetUp() line 1017 in ./src/ksp/pc/interface/precon.c\n[0] PCSetUp_LU() line 94 in ./src/ksp/pc/impls/factor/lu/lu.c\n[0] MatLUFactorSymbolic() line 3140 in ./src/mat/interface/matrix.c\n[0] MatLUFactorSymbolic_SeqAIJ() line 352 in ./src/mat/impls/aij/seq/aijfact.c\n[0] PetscFreeSpaceGet() line 11 in ./src/mat/utils/freespace.c\n[0] PetscMallocA() line 416 in ./src/sys/memory/mal.c\n[0] PetscFreeSpaceGet() line 11 in ./src/mat/utils/freespace.c\n[0] Out of memory. Allocated: 0, Used by process: 526807040\n[0] Memory requested 5958348448",
     "output_type": "error",
     "traceback": [
      "\u001b[0;31m---------------------------------------------------------------------------\u001b[0m",
      "\u001b[0;31mError\u001b[0m                                     Traceback (most recent call last)",
      "Cell \u001b[0;32mIn[12], line 1\u001b[0m\n\u001b[0;32m----> 1\u001b[0m p, u \u001b[38;5;241m=\u001b[39m \u001b[43mmodel\u001b[49m\u001b[38;5;241;43m.\u001b[39;49m\u001b[43mPerfusion\u001b[49m\u001b[43m(\u001b[49m\u001b[43mdomain\u001b[49m\u001b[43m,\u001b[49m\u001b[43m \u001b[49m\u001b[43mplot\u001b[49m\u001b[38;5;241;43m=\u001b[39;49m\u001b[38;5;28;43;01mTrue\u001b[39;49;00m\u001b[43m,\u001b[49m\u001b[43m \u001b[49m\u001b[43msave\u001b[49m\u001b[38;5;241;43m=\u001b[39;49m\u001b[38;5;28;43;01mTrue\u001b[39;49;00m\u001b[43m)\u001b[49m\n",
      "File \u001b[0;32m~/alveolar-perfusion-transport-modeling/tests/../src/model.py:119\u001b[0m, in \u001b[0;36mPerfusionGasExchangeModel.Perfusion\u001b[0;34m(self, domain, plot, save)\u001b[0m\n\u001b[1;32m    115\u001b[0m \u001b[38;5;66;03m### Solving\u001b[39;00m\n\u001b[1;32m    116\u001b[0m \n\u001b[1;32m    117\u001b[0m \u001b[38;5;66;03m# Pressure\u001b[39;00m\n\u001b[1;32m    118\u001b[0m log\u001b[38;5;241m.\u001b[39mset_log_level(log\u001b[38;5;241m.\u001b[39mLogLevel\u001b[38;5;241m.\u001b[39mINFO)\n\u001b[0;32m--> 119\u001b[0m ph \u001b[38;5;241m=\u001b[39m \u001b[43mproblem\u001b[49m\u001b[38;5;241;43m.\u001b[39;49m\u001b[43msolve\u001b[49m\u001b[43m(\u001b[49m\u001b[43m)\u001b[49m\n\u001b[1;32m    120\u001b[0m log\u001b[38;5;241m.\u001b[39mset_log_level(log\u001b[38;5;241m.\u001b[39mLogLevel\u001b[38;5;241m.\u001b[39mERROR)\n\u001b[1;32m    121\u001b[0m \u001b[38;5;28mprint\u001b[39m(\u001b[38;5;124m\"\u001b[39m\u001b[38;5;124mPressure field found.\u001b[39m\u001b[38;5;124m\"\u001b[39m)\n",
      "File \u001b[0;32m/usr/lib/petsc/lib/python3/dist-packages/dolfinx/fem/petsc.py:651\u001b[0m, in \u001b[0;36mLinearProblem.solve\u001b[0;34m(self)\u001b[0m\n\u001b[1;32m    648\u001b[0m set_bc(\u001b[38;5;28mself\u001b[39m\u001b[38;5;241m.\u001b[39m_b, \u001b[38;5;28mself\u001b[39m\u001b[38;5;241m.\u001b[39mbcs)\n\u001b[1;32m    650\u001b[0m \u001b[38;5;66;03m# Solve linear system and update ghost values in the solution\u001b[39;00m\n\u001b[0;32m--> 651\u001b[0m \u001b[38;5;28;43mself\u001b[39;49m\u001b[38;5;241;43m.\u001b[39;49m\u001b[43m_solver\u001b[49m\u001b[38;5;241;43m.\u001b[39;49m\u001b[43msolve\u001b[49m\u001b[43m(\u001b[49m\u001b[38;5;28;43mself\u001b[39;49m\u001b[38;5;241;43m.\u001b[39;49m\u001b[43m_b\u001b[49m\u001b[43m,\u001b[49m\u001b[43m \u001b[49m\u001b[38;5;28;43mself\u001b[39;49m\u001b[38;5;241;43m.\u001b[39;49m\u001b[43m_x\u001b[49m\u001b[43m)\u001b[49m\n\u001b[1;32m    652\u001b[0m \u001b[38;5;28mself\u001b[39m\u001b[38;5;241m.\u001b[39mu\u001b[38;5;241m.\u001b[39mx\u001b[38;5;241m.\u001b[39mscatter_forward()\n\u001b[1;32m    654\u001b[0m \u001b[38;5;28;01mreturn\u001b[39;00m \u001b[38;5;28mself\u001b[39m\u001b[38;5;241m.\u001b[39mu\n",
      "File \u001b[0;32mPETSc/KSP.pyx:395\u001b[0m, in \u001b[0;36mpetsc4py.PETSc.KSP.solve\u001b[0;34m()\u001b[0m\n",
      "\u001b[0;31mError\u001b[0m: error code 55\n[0] KSPSolve() line 1085 in ./src/ksp/ksp/interface/itfunc.c\n[0] KSPSolve_Private() line 850 in ./src/ksp/ksp/interface/itfunc.c\n[0] KSPSetUp() line 406 in ./src/ksp/ksp/interface/itfunc.c\n[0] PCSetUp() line 1017 in ./src/ksp/pc/interface/precon.c\n[0] PCSetUp_LU() line 94 in ./src/ksp/pc/impls/factor/lu/lu.c\n[0] MatLUFactorSymbolic() line 3140 in ./src/mat/interface/matrix.c\n[0] MatLUFactorSymbolic_SeqAIJ() line 352 in ./src/mat/impls/aij/seq/aijfact.c\n[0] PetscFreeSpaceGet() line 11 in ./src/mat/utils/freespace.c\n[0] PetscMallocA() line 416 in ./src/sys/memory/mal.c\n[0] PetscFreeSpaceGet() line 11 in ./src/mat/utils/freespace.c\n[0] Out of memory. Allocated: 0, Used by process: 526807040\n[0] Memory requested 5958348448"
     ]
    }
   ],
   "source": [
    "p, u = model.Perfusion(domain, plot=True, save=True)"
   ]
  },
  {
   "cell_type": "code",
   "execution_count": null,
   "metadata": {},
   "outputs": [
    {
     "data": {
      "text/plain": [
       "'../../results-data/rve_test'"
      ]
     },
     "execution_count": 9,
     "metadata": {},
     "output_type": "execute_result"
    }
   ],
   "source": [
    "model.results_path"
   ]
  },
  {
   "cell_type": "code",
   "execution_count": null,
   "metadata": {},
   "outputs": [
    {
     "name": "stderr",
     "output_type": "stream",
     "text": [
      "2024-01-09 03:53:16.816 (  11.585s) [main            ]              petsc.cpp:698   INFO| PETSc Krylov solver starting to solve system.\n",
      "2024-01-09 03:53:16.855 (  11.623s) [main            ]              petsc.cpp:698   INFO| PETSc Krylov solver starting to solve system.\n",
      "2024-01-09 03:53:16.879 (  11.647s) [main            ]       NewtonSolver.cpp:36    INFO| Newton iteration 2: r (abs) = 2.78133e-12 (tol = 1e-08) r (rel) = 6.74188e-16(tol = 1e-08)\n",
      "2024-01-09 03:53:16.879 (  11.647s) [main            ]       NewtonSolver.cpp:255   INFO| Newton solver finished in 2 iterations and 2 linear solver iterations.\n"
     ]
    },
    {
     "name": "stdout",
     "output_type": "stream",
     "text": [
      "Problem solved in 2 iterations.\n",
      "Starting nonlinear problem with previous guess.\n",
      "p_val = 0.1\n"
     ]
    },
    {
     "name": "stderr",
     "output_type": "stream",
     "text": [
      "2024-01-09 03:53:17.130 (  11.898s) [main            ]              petsc.cpp:698   INFO| PETSc Krylov solver starting to solve system.\n",
      "2024-01-09 03:53:17.294 (  12.062s) [main            ]              petsc.cpp:698   INFO| PETSc Krylov solver starting to solve system.\n",
      "2024-01-09 03:53:17.339 (  12.107s) [main            ]       NewtonSolver.cpp:36    INFO| Newton iteration 2: r (abs) = 107.418 (tol = 1e-08) r (rel) = 0.15953(tol = 1e-08)\n",
      "2024-01-09 03:53:17.450 (  12.218s) [main            ]              petsc.cpp:698   INFO| PETSc Krylov solver starting to solve system.\n",
      "2024-01-09 03:53:17.499 (  12.267s) [main            ]       NewtonSolver.cpp:36    INFO| Newton iteration 3: r (abs) = 15.2096 (tol = 1e-08) r (rel) = 0.0225882(tol = 1e-08)\n",
      "2024-01-09 03:53:17.614 (  12.382s) [main            ]              petsc.cpp:698   INFO| PETSc Krylov solver starting to solve system.\n",
      "2024-01-09 03:53:17.661 (  12.429s) [main            ]       NewtonSolver.cpp:36    INFO| Newton iteration 4: r (abs) = 0.455335 (tol = 1e-08) r (rel) = 0.000676231(tol = 1e-08)\n",
      "2024-01-09 03:53:17.775 (  12.543s) [main            ]              petsc.cpp:698   INFO| PETSc Krylov solver starting to solve system.\n",
      "2024-01-09 03:53:17.824 (  12.592s) [main            ]       NewtonSolver.cpp:36    INFO| Newton iteration 5: r (abs) = 0.000761686 (tol = 1e-08) r (rel) = 1.1312e-06(tol = 1e-08)\n",
      "2024-01-09 03:53:17.945 (  12.713s) [main            ]              petsc.cpp:698   INFO| PETSc Krylov solver starting to solve system.\n",
      "2024-01-09 03:53:17.994 (  12.762s) [main            ]       NewtonSolver.cpp:36    INFO| Newton iteration 6: r (abs) = 3.27627e-09 (tol = 1e-08) r (rel) = 4.86568e-12(tol = 1e-08)\n",
      "2024-01-09 03:53:17.994 (  12.762s) [main            ]       NewtonSolver.cpp:255   INFO| Newton solver finished in 6 iterations and 6 linear solver iterations.\n"
     ]
    },
    {
     "name": "stdout",
     "output_type": "stream",
     "text": [
      "Problem solved in 6 iterations.\n",
      "Starting nonlinear problem with previous guess.\n",
      "p_val = 0.2\n"
     ]
    },
    {
     "name": "stderr",
     "output_type": "stream",
     "text": [
      "2024-01-09 03:53:18.227 (  12.995s) [main            ]              petsc.cpp:698   INFO| PETSc Krylov solver starting to solve system.\n",
      "2024-01-09 03:53:18.394 (  13.162s) [main            ]              petsc.cpp:698   INFO| PETSc Krylov solver starting to solve system.\n",
      "2024-01-09 03:53:18.449 (  13.217s) [main            ]       NewtonSolver.cpp:36    INFO| Newton iteration 2: r (abs) = 20.9798 (tol = 1e-08) r (rel) = 0.0576066(tol = 1e-08)\n",
      "2024-01-09 03:53:18.571 (  13.339s) [main            ]              petsc.cpp:698   INFO| PETSc Krylov solver starting to solve system.\n",
      "2024-01-09 03:53:18.618 (  13.386s) [main            ]       NewtonSolver.cpp:36    INFO| Newton iteration 3: r (abs) = 0.394508 (tol = 1e-08) r (rel) = 0.00108325(tol = 1e-08)\n",
      "2024-01-09 03:53:18.749 (  13.517s) [main            ]              petsc.cpp:698   INFO| PETSc Krylov solver starting to solve system.\n",
      "2024-01-09 03:53:18.806 (  13.574s) [main            ]       NewtonSolver.cpp:36    INFO| Newton iteration 4: r (abs) = 0.000309777 (tol = 1e-08) r (rel) = 8.50591e-07(tol = 1e-08)\n",
      "2024-01-09 03:53:18.937 (  13.705s) [main            ]              petsc.cpp:698   INFO| PETSc Krylov solver starting to solve system.\n",
      "2024-01-09 03:53:18.988 (  13.756s) [main            ]       NewtonSolver.cpp:36    INFO| Newton iteration 5: r (abs) = 2.64338e-10 (tol = 1e-08) r (rel) = 7.25824e-13(tol = 1e-08)\n",
      "2024-01-09 03:53:18.988 (  13.756s) [main            ]       NewtonSolver.cpp:255   INFO| Newton solver finished in 5 iterations and 5 linear solver iterations.\n"
     ]
    },
    {
     "name": "stdout",
     "output_type": "stream",
     "text": [
      "Problem solved in 5 iterations.\n",
      "Starting nonlinear problem with previous guess.\n",
      "p_val = 0.30000000000000004\n"
     ]
    },
    {
     "name": "stderr",
     "output_type": "stream",
     "text": [
      "2024-01-09 03:53:19.230 (  13.998s) [main            ]              petsc.cpp:698   INFO| PETSc Krylov solver starting to solve system.\n",
      "2024-01-09 03:53:19.412 (  14.180s) [main            ]              petsc.cpp:698   INFO| PETSc Krylov solver starting to solve system.\n",
      "2024-01-09 03:53:19.463 (  14.231s) [main            ]       NewtonSolver.cpp:36    INFO| Newton iteration 2: r (abs) = 12.8796 (tol = 1e-08) r (rel) = 0.0462178(tol = 1e-08)\n",
      "2024-01-09 03:53:19.595 (  14.363s) [main            ]              petsc.cpp:698   INFO| PETSc Krylov solver starting to solve system.\n",
      "2024-01-09 03:53:19.649 (  14.417s) [main            ]       NewtonSolver.cpp:36    INFO| Newton iteration 3: r (abs) = 0.132447 (tol = 1e-08) r (rel) = 0.00047528(tol = 1e-08)\n",
      "2024-01-09 03:53:19.782 (  14.551s) [main            ]              petsc.cpp:698   INFO| PETSc Krylov solver starting to solve system.\n",
      "2024-01-09 03:53:19.839 (  14.607s) [main            ]       NewtonSolver.cpp:36    INFO| Newton iteration 4: r (abs) = 6.07471e-05 (tol = 1e-08) r (rel) = 2.17989e-07(tol = 1e-08)\n",
      "2024-01-09 03:53:19.956 (  14.724s) [main            ]              petsc.cpp:698   INFO| PETSc Krylov solver starting to solve system.\n",
      "2024-01-09 03:53:20.005 (  14.773s) [main            ]       NewtonSolver.cpp:36    INFO| Newton iteration 5: r (abs) = 2.66506e-11 (tol = 1e-08) r (rel) = 9.56345e-14(tol = 1e-08)\n",
      "2024-01-09 03:53:20.005 (  14.773s) [main            ]       NewtonSolver.cpp:255   INFO| Newton solver finished in 5 iterations and 5 linear solver iterations.\n"
     ]
    },
    {
     "name": "stdout",
     "output_type": "stream",
     "text": [
      "Problem solved in 5 iterations.\n",
      "Starting nonlinear problem with previous guess.\n",
      "p_val = 0.4\n"
     ]
    },
    {
     "name": "stderr",
     "output_type": "stream",
     "text": [
      "2024-01-09 03:53:20.247 (  15.015s) [main            ]              petsc.cpp:698   INFO| PETSc Krylov solver starting to solve system.\n",
      "2024-01-09 03:53:20.424 (  15.192s) [main            ]              petsc.cpp:698   INFO| PETSc Krylov solver starting to solve system.\n",
      "2024-01-09 03:53:20.471 (  15.239s) [main            ]       NewtonSolver.cpp:36    INFO| Newton iteration 2: r (abs) = 9.3912 (tol = 1e-08) r (rel) = 0.0407771(tol = 1e-08)\n",
      "2024-01-09 03:53:20.594 (  15.362s) [main            ]              petsc.cpp:698   INFO| PETSc Krylov solver starting to solve system.\n",
      "2024-01-09 03:53:20.648 (  15.416s) [main            ]       NewtonSolver.cpp:36    INFO| Newton iteration 3: r (abs) = 0.0357886 (tol = 1e-08) r (rel) = 0.000155396(tol = 1e-08)\n",
      "2024-01-09 03:53:20.764 (  15.532s) [main            ]              petsc.cpp:698   INFO| PETSc Krylov solver starting to solve system.\n",
      "2024-01-09 03:53:20.811 (  15.580s) [main            ]       NewtonSolver.cpp:36    INFO| Newton iteration 4: r (abs) = 2.57096e-06 (tol = 1e-08) r (rel) = 1.11632e-08(tol = 1e-08)\n",
      "2024-01-09 03:53:20.930 (  15.698s) [main            ]              petsc.cpp:698   INFO| PETSc Krylov solver starting to solve system.\n",
      "2024-01-09 03:53:20.980 (  15.748s) [main            ]       NewtonSolver.cpp:36    INFO| Newton iteration 5: r (abs) = 5.53004e-13 (tol = 1e-08) r (rel) = 2.40117e-15(tol = 1e-08)\n",
      "2024-01-09 03:53:20.980 (  15.748s) [main            ]       NewtonSolver.cpp:255   INFO| Newton solver finished in 5 iterations and 5 linear solver iterations.\n"
     ]
    },
    {
     "name": "stdout",
     "output_type": "stream",
     "text": [
      "Problem solved in 5 iterations.\n",
      "Starting nonlinear problem with previous guess.\n",
      "p_val = 0.5\n"
     ]
    },
    {
     "name": "stderr",
     "output_type": "stream",
     "text": [
      "2024-01-09 03:53:21.217 (  15.985s) [main            ]              petsc.cpp:698   INFO| PETSc Krylov solver starting to solve system.\n",
      "2024-01-09 03:53:21.406 (  16.174s) [main            ]              petsc.cpp:698   INFO| PETSc Krylov solver starting to solve system.\n",
      "2024-01-09 03:53:21.463 (  16.231s) [main            ]       NewtonSolver.cpp:36    INFO| Newton iteration 2: r (abs) = 6.97129 (tol = 1e-08) r (rel) = 0.0346766(tol = 1e-08)\n",
      "2024-01-09 03:53:21.576 (  16.344s) [main            ]              petsc.cpp:698   INFO| PETSc Krylov solver starting to solve system.\n",
      "2024-01-09 03:53:21.626 (  16.394s) [main            ]       NewtonSolver.cpp:36    INFO| Newton iteration 3: r (abs) = 0.0166979 (tol = 1e-08) r (rel) = 8.30589e-05(tol = 1e-08)\n",
      "2024-01-09 03:53:21.746 (  16.514s) [main            ]              petsc.cpp:698   INFO| PETSc Krylov solver starting to solve system.\n",
      "2024-01-09 03:53:21.795 (  16.563s) [main            ]       NewtonSolver.cpp:36    INFO| Newton iteration 4: r (abs) = 7.51734e-07 (tol = 1e-08) r (rel) = 3.73928e-09(tol = 1e-08)\n",
      "2024-01-09 03:53:21.795 (  16.563s) [main            ]       NewtonSolver.cpp:255   INFO| Newton solver finished in 4 iterations and 4 linear solver iterations.\n"
     ]
    },
    {
     "name": "stdout",
     "output_type": "stream",
     "text": [
      "Problem solved in 4 iterations.\n",
      "Starting nonlinear problem with previous guess.\n",
      "p_val = 0.6\n"
     ]
    },
    {
     "name": "stderr",
     "output_type": "stream",
     "text": [
      "2024-01-09 03:53:22.036 (  16.804s) [main            ]              petsc.cpp:698   INFO| PETSc Krylov solver starting to solve system.\n",
      "2024-01-09 03:53:22.206 (  16.974s) [main            ]              petsc.cpp:698   INFO| PETSc Krylov solver starting to solve system.\n",
      "2024-01-09 03:53:22.252 (  17.020s) [main            ]       NewtonSolver.cpp:36    INFO| Newton iteration 2: r (abs) = 5.18066 (tol = 1e-08) r (rel) = 0.0284001(tol = 1e-08)\n",
      "2024-01-09 03:53:22.365 (  17.133s) [main            ]              petsc.cpp:698   INFO| PETSc Krylov solver starting to solve system.\n",
      "2024-01-09 03:53:22.416 (  17.184s) [main            ]       NewtonSolver.cpp:36    INFO| Newton iteration 3: r (abs) = 0.00817263 (tol = 1e-08) r (rel) = 4.4802e-05(tol = 1e-08)\n",
      "2024-01-09 03:53:22.552 (  17.320s) [main            ]              petsc.cpp:698   INFO| PETSc Krylov solver starting to solve system.\n",
      "2024-01-09 03:53:22.601 (  17.369s) [main            ]       NewtonSolver.cpp:36    INFO| Newton iteration 4: r (abs) = 1.26982e-07 (tol = 1e-08) r (rel) = 6.96109e-10(tol = 1e-08)\n",
      "2024-01-09 03:53:22.601 (  17.369s) [main            ]       NewtonSolver.cpp:255   INFO| Newton solver finished in 4 iterations and 4 linear solver iterations.\n"
     ]
    },
    {
     "name": "stdout",
     "output_type": "stream",
     "text": [
      "Problem solved in 4 iterations.\n",
      "Starting nonlinear problem with previous guess.\n",
      "p_val = 0.7\n"
     ]
    },
    {
     "name": "stderr",
     "output_type": "stream",
     "text": [
      "2024-01-09 03:53:22.901 (  17.669s) [main            ]              petsc.cpp:698   INFO| PETSc Krylov solver starting to solve system.\n",
      "2024-01-09 03:53:23.082 (  17.850s) [main            ]              petsc.cpp:698   INFO| PETSc Krylov solver starting to solve system.\n",
      "2024-01-09 03:53:23.139 (  17.907s) [main            ]       NewtonSolver.cpp:36    INFO| Newton iteration 2: r (abs) = 4.11031 (tol = 1e-08) r (rel) = 0.0242386(tol = 1e-08)\n",
      "2024-01-09 03:53:23.265 (  18.033s) [main            ]              petsc.cpp:698   INFO| PETSc Krylov solver starting to solve system.\n",
      "2024-01-09 03:53:23.317 (  18.085s) [main            ]       NewtonSolver.cpp:36    INFO| Newton iteration 3: r (abs) = 0.00481286 (tol = 1e-08) r (rel) = 2.83816e-05(tol = 1e-08)\n",
      "2024-01-09 03:53:23.451 (  18.219s) [main            ]              petsc.cpp:698   INFO| PETSc Krylov solver starting to solve system.\n",
      "2024-01-09 03:53:23.502 (  18.270s) [main            ]       NewtonSolver.cpp:36    INFO| Newton iteration 4: r (abs) = 2.20589e-08 (tol = 1e-08) r (rel) = 1.30082e-10(tol = 1e-08)\n",
      "2024-01-09 03:53:23.502 (  18.270s) [main            ]       NewtonSolver.cpp:255   INFO| Newton solver finished in 4 iterations and 4 linear solver iterations.\n"
     ]
    },
    {
     "name": "stdout",
     "output_type": "stream",
     "text": [
      "Problem solved in 4 iterations.\n",
      "Starting nonlinear problem with previous guess.\n",
      "p_val = 0.7999999999999999\n"
     ]
    },
    {
     "name": "stderr",
     "output_type": "stream",
     "text": [
      "2024-01-09 03:53:23.782 (  18.550s) [main            ]              petsc.cpp:698   INFO| PETSc Krylov solver starting to solve system.\n",
      "2024-01-09 03:53:23.967 (  18.735s) [main            ]              petsc.cpp:698   INFO| PETSc Krylov solver starting to solve system.\n",
      "2024-01-09 03:53:24.020 (  18.789s) [main            ]       NewtonSolver.cpp:36    INFO| Newton iteration 2: r (abs) = 3.55315 (tol = 1e-08) r (rel) = 0.0222074(tol = 1e-08)\n",
      "2024-01-09 03:53:24.143 (  18.911s) [main            ]              petsc.cpp:698   INFO| PETSc Krylov solver starting to solve system.\n",
      "2024-01-09 03:53:24.194 (  18.962s) [main            ]       NewtonSolver.cpp:36    INFO| Newton iteration 3: r (abs) = 0.00388531 (tol = 1e-08) r (rel) = 2.42834e-05(tol = 1e-08)\n",
      "2024-01-09 03:53:24.314 (  19.083s) [main            ]              petsc.cpp:698   INFO| PETSc Krylov solver starting to solve system.\n",
      "2024-01-09 03:53:24.364 (  19.132s) [main            ]       NewtonSolver.cpp:36    INFO| Newton iteration 4: r (abs) = 1.79476e-08 (tol = 1e-08) r (rel) = 1.12174e-10(tol = 1e-08)\n",
      "2024-01-09 03:53:24.364 (  19.132s) [main            ]       NewtonSolver.cpp:255   INFO| Newton solver finished in 4 iterations and 4 linear solver iterations.\n"
     ]
    },
    {
     "name": "stdout",
     "output_type": "stream",
     "text": [
      "Problem solved in 4 iterations.\n",
      "Starting nonlinear problem with previous guess.\n",
      "p_val = 0.8999999999999999\n"
     ]
    },
    {
     "name": "stderr",
     "output_type": "stream",
     "text": [
      "2024-01-09 03:53:24.599 (  19.367s) [main            ]              petsc.cpp:698   INFO| PETSc Krylov solver starting to solve system.\n",
      "2024-01-09 03:53:24.772 (  19.540s) [main            ]              petsc.cpp:698   INFO| PETSc Krylov solver starting to solve system.\n",
      "2024-01-09 03:53:24.821 (  19.589s) [main            ]       NewtonSolver.cpp:36    INFO| Newton iteration 2: r (abs) = 3.2193 (tol = 1e-08) r (rel) = 0.0211033(tol = 1e-08)\n",
      "2024-01-09 03:53:24.943 (  19.711s) [main            ]              petsc.cpp:698   INFO| PETSc Krylov solver starting to solve system.\n",
      "2024-01-09 03:53:24.988 (  19.756s) [main            ]       NewtonSolver.cpp:36    INFO| Newton iteration 3: r (abs) = 0.00414683 (tol = 1e-08) r (rel) = 2.71835e-05(tol = 1e-08)\n",
      "2024-01-09 03:53:25.104 (  19.872s) [main            ]              petsc.cpp:698   INFO| PETSc Krylov solver starting to solve system.\n",
      "2024-01-09 03:53:25.156 (  19.924s) [main            ]       NewtonSolver.cpp:36    INFO| Newton iteration 4: r (abs) = 2.67046e-08 (tol = 1e-08) r (rel) = 1.75055e-10(tol = 1e-08)\n",
      "2024-01-09 03:53:25.156 (  19.924s) [main            ]       NewtonSolver.cpp:255   INFO| Newton solver finished in 4 iterations and 4 linear solver iterations.\n"
     ]
    },
    {
     "name": "stdout",
     "output_type": "stream",
     "text": [
      "Problem solved in 4 iterations.\n",
      "Starting nonlinear problem with previous guess.\n",
      "p_val = 0.9999999999999999\n"
     ]
    },
    {
     "name": "stderr",
     "output_type": "stream",
     "text": [
      "2024-01-09 03:53:25.408 (  20.176s) [main            ]              petsc.cpp:698   INFO| PETSc Krylov solver starting to solve system.\n",
      "2024-01-09 03:53:25.573 (  20.341s) [main            ]              petsc.cpp:698   INFO| PETSc Krylov solver starting to solve system.\n",
      "2024-01-09 03:53:25.620 (  20.388s) [main            ]       NewtonSolver.cpp:36    INFO| Newton iteration 2: r (abs) = 2.93272 (tol = 1e-08) r (rel) = 0.019991(tol = 1e-08)\n",
      "2024-01-09 03:53:25.738 (  20.506s) [main            ]              petsc.cpp:698   INFO| PETSc Krylov solver starting to solve system.\n",
      "2024-01-09 03:53:25.790 (  20.558s) [main            ]       NewtonSolver.cpp:36    INFO| Newton iteration 3: r (abs) = 0.00450513 (tol = 1e-08) r (rel) = 3.07094e-05(tol = 1e-08)\n",
      "2024-01-09 03:53:25.906 (  20.674s) [main            ]              petsc.cpp:698   INFO| PETSc Krylov solver starting to solve system.\n",
      "2024-01-09 03:53:25.957 (  20.725s) [main            ]       NewtonSolver.cpp:36    INFO| Newton iteration 4: r (abs) = 3.52304e-08 (tol = 1e-08) r (rel) = 2.40149e-10(tol = 1e-08)\n"
     ]
    },
    {
     "name": "stdout",
     "output_type": "stream",
     "text": [
      "Problem solved in 4 iterations.\n",
      "Folder did not exist, created.\n",
      "Starting postprocessing.\n"
     ]
    },
    {
     "name": "stderr",
     "output_type": "stream",
     "text": [
      "2024-01-09 03:53:25.957 (  20.725s) [main            ]       NewtonSolver.cpp:255   INFO| Newton solver finished in 4 iterations and 4 linear solver iterations.\n"
     ]
    },
    {
     "ename": "MemoryError",
     "evalue": "Unable to allocate 11.5 GiB for an array with shape (39304, 39304) and data type float64",
     "output_type": "error",
     "traceback": [
      "\u001b[0;31m---------------------------------------------------------------------------\u001b[0m",
      "\u001b[0;31mMemoryError\u001b[0m                               Traceback (most recent call last)",
      "Cell \u001b[0;32mIn[10], line 13\u001b[0m\n\u001b[1;32m      9\u001b[0m     guess \u001b[38;5;241m=\u001b[39m model\u001b[38;5;241m.\u001b[39mGasExchange(domain, guess\u001b[38;5;241m=\u001b[39mguess, save\u001b[38;5;241m=\u001b[39m\u001b[38;5;28;01mFalse\u001b[39;00m, \n\u001b[1;32m     10\u001b[0m                               plot\u001b[38;5;241m=\u001b[39m\u001b[38;5;28;01mFalse\u001b[39;00m, p_val \u001b[38;5;241m=\u001b[39m p_val, \n\u001b[1;32m     11\u001b[0m                               postprocess\u001b[38;5;241m=\u001b[39m\u001b[38;5;28;01mFalse\u001b[39;00m, plot_lines\u001b[38;5;241m=\u001b[39m\u001b[38;5;28;01mFalse\u001b[39;00m)\n\u001b[1;32m     12\u001b[0m \u001b[38;5;28;01melse\u001b[39;00m:\n\u001b[0;32m---> 13\u001b[0m     guess \u001b[38;5;241m=\u001b[39m \u001b[43mmodel\u001b[49m\u001b[38;5;241;43m.\u001b[39;49m\u001b[43mGasExchange\u001b[49m\u001b[43m(\u001b[49m\u001b[43mdomain\u001b[49m\u001b[43m,\u001b[49m\u001b[43m \u001b[49m\u001b[43mguess\u001b[49m\u001b[38;5;241;43m=\u001b[39;49m\u001b[43mguess\u001b[49m\u001b[43m,\u001b[49m\u001b[43m \u001b[49m\u001b[43msave\u001b[49m\u001b[38;5;241;43m=\u001b[39;49m\u001b[38;5;28;43;01mTrue\u001b[39;49;00m\u001b[43m,\u001b[49m\u001b[43m \u001b[49m\n\u001b[1;32m     14\u001b[0m \u001b[43m                              \u001b[49m\u001b[43mplot\u001b[49m\u001b[38;5;241;43m=\u001b[39;49m\u001b[38;5;28;43;01mFalse\u001b[39;49;00m\u001b[43m,\u001b[49m\u001b[43m \u001b[49m\u001b[43mp_val\u001b[49m\u001b[43m \u001b[49m\u001b[38;5;241;43m=\u001b[39;49m\u001b[43m \u001b[49m\u001b[43mp_val\u001b[49m\u001b[43m,\u001b[49m\u001b[43m \u001b[49m\n\u001b[1;32m     15\u001b[0m \u001b[43m                              \u001b[49m\u001b[43mpostprocess\u001b[49m\u001b[38;5;241;43m=\u001b[39;49m\u001b[38;5;28;43;01mTrue\u001b[39;49;00m\u001b[43m,\u001b[49m\u001b[43m \u001b[49m\u001b[43mplot_lines\u001b[49m\u001b[38;5;241;43m=\u001b[39;49m\u001b[38;5;28;43;01mFalse\u001b[39;49;00m\u001b[43m)\u001b[49m\n",
      "File \u001b[0;32m~/ibm2020-alveolar-mechanics-perfusion/tests/ice3031/model.py:420\u001b[0m, in \u001b[0;36mPerfusionGasExchangeModel.GasExchange\u001b[0;34m(self, domain, guess, save, plot, p_val, postprocess, plot_lines)\u001b[0m\n\u001b[1;32m    402\u001b[0m \u001b[38;5;66;03m# # grad(p_O2)\u001b[39;00m\n\u001b[1;32m    403\u001b[0m \u001b[38;5;66;03m# grad_p_O2_out = fem.Function(fem.VectorFunctionSpace(domain, ('CG',1)), name=\"grad(p_O2)\") \u001b[39;00m\n\u001b[1;32m    404\u001b[0m \u001b[38;5;66;03m# project(ufl.grad(p_O2), grad_p_O2_out)\u001b[39;00m\n\u001b[0;32m   (...)\u001b[0m\n\u001b[1;32m    417\u001b[0m \n\u001b[1;32m    418\u001b[0m \u001b[38;5;66;03m# j_O2 = -d_pla_O2 * grad(c_O2) (diffusive flux)\u001b[39;00m\n\u001b[1;32m    419\u001b[0m j_O2_out \u001b[38;5;241m=\u001b[39m fem\u001b[38;5;241m.\u001b[39mFunction(fem\u001b[38;5;241m.\u001b[39mVectorFunctionSpace(domain, (\u001b[38;5;124m'\u001b[39m\u001b[38;5;124mCG\u001b[39m\u001b[38;5;124m'\u001b[39m,\u001b[38;5;241m1\u001b[39m)), name\u001b[38;5;241m=\u001b[39m\u001b[38;5;124m\"\u001b[39m\u001b[38;5;124mj_O2\u001b[39m\u001b[38;5;124m\"\u001b[39m) \n\u001b[0;32m--> 420\u001b[0m \u001b[43mproject\u001b[49m\u001b[43m(\u001b[49m\u001b[38;5;241;43m-\u001b[39;49m\u001b[43md_pla_O2\u001b[49m\u001b[43m \u001b[49m\u001b[38;5;241;43m*\u001b[39;49m\u001b[43m \u001b[49m\u001b[43mufl\u001b[49m\u001b[38;5;241;43m.\u001b[39;49m\u001b[43mgrad\u001b[49m\u001b[43m(\u001b[49m\u001b[43mc_O2\u001b[49m\u001b[43m)\u001b[49m\u001b[43m,\u001b[49m\u001b[43m \u001b[49m\u001b[43mj_O2_out\u001b[49m\u001b[43m)\u001b[49m\n\u001b[1;32m    422\u001b[0m j_O2_xdmf \u001b[38;5;241m=\u001b[39m io\u001b[38;5;241m.\u001b[39mXDMFFile(domain\u001b[38;5;241m.\u001b[39mcomm, os\u001b[38;5;241m.\u001b[39mpath\u001b[38;5;241m.\u001b[39mjoin(\u001b[38;5;28mself\u001b[39m\u001b[38;5;241m.\u001b[39mresults_path, \u001b[38;5;124m\"\u001b[39m\u001b[38;5;124mgas_exchange/j_O2.xdmf\u001b[39m\u001b[38;5;124m\"\u001b[39m), \u001b[38;5;124m\"\u001b[39m\u001b[38;5;124mw\u001b[39m\u001b[38;5;124m\"\u001b[39m)\n\u001b[1;32m    423\u001b[0m j_O2_xdmf\u001b[38;5;241m.\u001b[39mwrite_mesh(domain)\n",
      "File \u001b[0;32m~/ibm2020-alveolar-mechanics-perfusion/tests/ice3031/utils.py:119\u001b[0m, in \u001b[0;36mproject\u001b[0;34m(v, target_func, bcs)\u001b[0m\n\u001b[1;32m    117\u001b[0m Pv \u001b[38;5;241m=\u001b[39m ufl\u001b[38;5;241m.\u001b[39mTrialFunction(V)\n\u001b[1;32m    118\u001b[0m a \u001b[38;5;241m=\u001b[39m fem\u001b[38;5;241m.\u001b[39mform(ufl\u001b[38;5;241m.\u001b[39minner(Pv, w) \u001b[38;5;241m*\u001b[39m dx)\n\u001b[0;32m--> 119\u001b[0m L \u001b[38;5;241m=\u001b[39m \u001b[43mfem\u001b[49m\u001b[38;5;241;43m.\u001b[39;49m\u001b[43mform\u001b[49m\u001b[43m(\u001b[49m\u001b[43mufl\u001b[49m\u001b[38;5;241;43m.\u001b[39;49m\u001b[43minner\u001b[49m\u001b[43m(\u001b[49m\u001b[43mv\u001b[49m\u001b[43m,\u001b[49m\u001b[43m \u001b[49m\u001b[43mw\u001b[49m\u001b[43m)\u001b[49m\u001b[43m \u001b[49m\u001b[38;5;241;43m*\u001b[39;49m\u001b[43m \u001b[49m\u001b[43mdx\u001b[49m\u001b[43m)\u001b[49m\n\u001b[1;32m    121\u001b[0m \u001b[38;5;66;03m# Assemble linear system\u001b[39;00m\n\u001b[1;32m    122\u001b[0m A \u001b[38;5;241m=\u001b[39m fem\u001b[38;5;241m.\u001b[39mpetsc\u001b[38;5;241m.\u001b[39massemble_matrix(a, bcs)\n",
      "File \u001b[0;32m/usr/lib/petsc/lib/python3/dist-packages/dolfinx/fem/forms.py:188\u001b[0m, in \u001b[0;36mform\u001b[0;34m(form, dtype, form_compiler_options, jit_options)\u001b[0m\n\u001b[1;32m    185\u001b[0m         \u001b[38;5;28;01mreturn\u001b[39;00m \u001b[38;5;28mlist\u001b[39m(\u001b[38;5;28mmap\u001b[39m(\u001b[38;5;28;01mlambda\u001b[39;00m sub_form: _create_form(sub_form), form))\n\u001b[1;32m    186\u001b[0m     \u001b[38;5;28;01mreturn\u001b[39;00m form\n\u001b[0;32m--> 188\u001b[0m \u001b[38;5;28;01mreturn\u001b[39;00m \u001b[43m_create_form\u001b[49m\u001b[43m(\u001b[49m\u001b[43mform\u001b[49m\u001b[43m)\u001b[49m\n",
      "File \u001b[0;32m/usr/lib/petsc/lib/python3/dist-packages/dolfinx/fem/forms.py:183\u001b[0m, in \u001b[0;36mform.<locals>._create_form\u001b[0;34m(form)\u001b[0m\n\u001b[1;32m    180\u001b[0m \u001b[38;5;250m\u001b[39m\u001b[38;5;124;03m\"\"\"Recursively convert ufl.Forms to dolfinx.fem.Form, otherwise\u001b[39;00m\n\u001b[1;32m    181\u001b[0m \u001b[38;5;124;03mreturn form argument\"\"\"\u001b[39;00m\n\u001b[1;32m    182\u001b[0m \u001b[38;5;28;01mif\u001b[39;00m \u001b[38;5;28misinstance\u001b[39m(form, ufl\u001b[38;5;241m.\u001b[39mForm):\n\u001b[0;32m--> 183\u001b[0m     \u001b[38;5;28;01mreturn\u001b[39;00m \u001b[43m_form\u001b[49m\u001b[43m(\u001b[49m\u001b[43mform\u001b[49m\u001b[43m)\u001b[49m\n\u001b[1;32m    184\u001b[0m \u001b[38;5;28;01melif\u001b[39;00m \u001b[38;5;28misinstance\u001b[39m(form, collections\u001b[38;5;241m.\u001b[39mabc\u001b[38;5;241m.\u001b[39mIterable):\n\u001b[1;32m    185\u001b[0m     \u001b[38;5;28;01mreturn\u001b[39;00m \u001b[38;5;28mlist\u001b[39m(\u001b[38;5;28mmap\u001b[39m(\u001b[38;5;28;01mlambda\u001b[39;00m sub_form: _create_form(sub_form), form))\n",
      "File \u001b[0;32m/usr/lib/petsc/lib/python3/dist-packages/dolfinx/fem/forms.py:141\u001b[0m, in \u001b[0;36mform.<locals>._form\u001b[0;34m(form)\u001b[0m\n\u001b[1;32m    139\u001b[0m \u001b[38;5;28;01mif\u001b[39;00m mesh \u001b[38;5;129;01mis\u001b[39;00m \u001b[38;5;28;01mNone\u001b[39;00m:\n\u001b[1;32m    140\u001b[0m     \u001b[38;5;28;01mraise\u001b[39;00m \u001b[38;5;167;01mRuntimeError\u001b[39;00m(\u001b[38;5;124m\"\u001b[39m\u001b[38;5;124mExpecting to find a Mesh in the form.\u001b[39m\u001b[38;5;124m\"\u001b[39m)\n\u001b[0;32m--> 141\u001b[0m ufcx_form, module, code \u001b[38;5;241m=\u001b[39m \u001b[43mjit\u001b[49m\u001b[38;5;241;43m.\u001b[39;49m\u001b[43mffcx_jit\u001b[49m\u001b[43m(\u001b[49m\u001b[43mmesh\u001b[49m\u001b[38;5;241;43m.\u001b[39;49m\u001b[43mcomm\u001b[49m\u001b[43m,\u001b[49m\u001b[43m \u001b[49m\u001b[43mform\u001b[49m\u001b[43m,\u001b[49m\n\u001b[1;32m    142\u001b[0m \u001b[43m                                       \u001b[49m\u001b[43mform_compiler_options\u001b[49m\u001b[38;5;241;43m=\u001b[39;49m\u001b[43mform_compiler_options\u001b[49m\u001b[43m,\u001b[49m\n\u001b[1;32m    143\u001b[0m \u001b[43m                                       \u001b[49m\u001b[43mjit_options\u001b[49m\u001b[38;5;241;43m=\u001b[39;49m\u001b[43mjit_options\u001b[49m\u001b[43m)\u001b[49m\n\u001b[1;32m    145\u001b[0m \u001b[38;5;66;03m# For each argument in form extract its function space\u001b[39;00m\n\u001b[1;32m    146\u001b[0m V \u001b[38;5;241m=\u001b[39m [arg\u001b[38;5;241m.\u001b[39mufl_function_space()\u001b[38;5;241m.\u001b[39m_cpp_object \u001b[38;5;28;01mfor\u001b[39;00m arg \u001b[38;5;129;01min\u001b[39;00m form\u001b[38;5;241m.\u001b[39marguments()]\n",
      "File \u001b[0;32m/usr/lib/petsc/lib/python3/dist-packages/dolfinx/jit.py:56\u001b[0m, in \u001b[0;36mmpi_jit_decorator.<locals>.mpi_jit\u001b[0;34m(comm, *args, **kwargs)\u001b[0m\n\u001b[1;32m     51\u001b[0m \u001b[38;5;129m@functools\u001b[39m\u001b[38;5;241m.\u001b[39mwraps(local_jit)\n\u001b[1;32m     52\u001b[0m \u001b[38;5;28;01mdef\u001b[39;00m \u001b[38;5;21mmpi_jit\u001b[39m(comm, \u001b[38;5;241m*\u001b[39margs, \u001b[38;5;241m*\u001b[39m\u001b[38;5;241m*\u001b[39mkwargs):\n\u001b[1;32m     53\u001b[0m \n\u001b[1;32m     54\u001b[0m     \u001b[38;5;66;03m# Just call JIT compiler when running in serial\u001b[39;00m\n\u001b[1;32m     55\u001b[0m     \u001b[38;5;28;01mif\u001b[39;00m comm\u001b[38;5;241m.\u001b[39msize \u001b[38;5;241m==\u001b[39m \u001b[38;5;241m1\u001b[39m:\n\u001b[0;32m---> 56\u001b[0m         \u001b[38;5;28;01mreturn\u001b[39;00m \u001b[43mlocal_jit\u001b[49m\u001b[43m(\u001b[49m\u001b[38;5;241;43m*\u001b[39;49m\u001b[43margs\u001b[49m\u001b[43m,\u001b[49m\u001b[43m \u001b[49m\u001b[38;5;241;43m*\u001b[39;49m\u001b[38;5;241;43m*\u001b[39;49m\u001b[43mkwargs\u001b[49m\u001b[43m)\u001b[49m\n\u001b[1;32m     58\u001b[0m     \u001b[38;5;66;03m# Default status (0 == ok, 1 == fail)\u001b[39;00m\n\u001b[1;32m     59\u001b[0m     status \u001b[38;5;241m=\u001b[39m \u001b[38;5;241m0\u001b[39m\n",
      "File \u001b[0;32m/usr/lib/petsc/lib/python3/dist-packages/dolfinx/jit.py:204\u001b[0m, in \u001b[0;36mffcx_jit\u001b[0;34m(ufl_object, form_compiler_options, jit_options)\u001b[0m\n\u001b[1;32m    202\u001b[0m \u001b[38;5;66;03m# Switch on type and compile, returning cffi object\u001b[39;00m\n\u001b[1;32m    203\u001b[0m \u001b[38;5;28;01mif\u001b[39;00m \u001b[38;5;28misinstance\u001b[39m(ufl_object, ufl\u001b[38;5;241m.\u001b[39mForm):\n\u001b[0;32m--> 204\u001b[0m     r \u001b[38;5;241m=\u001b[39m \u001b[43mffcx\u001b[49m\u001b[38;5;241;43m.\u001b[39;49m\u001b[43mcodegeneration\u001b[49m\u001b[38;5;241;43m.\u001b[39;49m\u001b[43mjit\u001b[49m\u001b[38;5;241;43m.\u001b[39;49m\u001b[43mcompile_forms\u001b[49m\u001b[43m(\u001b[49m\u001b[43m[\u001b[49m\u001b[43mufl_object\u001b[49m\u001b[43m]\u001b[49m\u001b[43m,\u001b[49m\u001b[43m \u001b[49m\u001b[43moptions\u001b[49m\u001b[38;5;241;43m=\u001b[39;49m\u001b[43mp_ffcx\u001b[49m\u001b[43m,\u001b[49m\u001b[43m \u001b[49m\u001b[38;5;241;43m*\u001b[39;49m\u001b[38;5;241;43m*\u001b[39;49m\u001b[43mp_jit\u001b[49m\u001b[43m)\u001b[49m\n\u001b[1;32m    205\u001b[0m \u001b[38;5;28;01melif\u001b[39;00m \u001b[38;5;28misinstance\u001b[39m(ufl_object, ufl\u001b[38;5;241m.\u001b[39mFiniteElementBase):\n\u001b[1;32m    206\u001b[0m     r \u001b[38;5;241m=\u001b[39m ffcx\u001b[38;5;241m.\u001b[39mcodegeneration\u001b[38;5;241m.\u001b[39mjit\u001b[38;5;241m.\u001b[39mcompile_elements([ufl_object], options\u001b[38;5;241m=\u001b[39mp_ffcx, \u001b[38;5;241m*\u001b[39m\u001b[38;5;241m*\u001b[39mp_jit)\n",
      "File \u001b[0;32m/usr/lib/python3/dist-packages/ffcx/codegeneration/jit.py:199\u001b[0m, in \u001b[0;36mcompile_forms\u001b[0;34m(forms, options, cache_dir, timeout, cffi_extra_compile_args, cffi_verbose, cffi_debug, cffi_libraries)\u001b[0m\n\u001b[1;32m    197\u001b[0m     \u001b[38;5;28;01mexcept\u001b[39;00m \u001b[38;5;167;01mException\u001b[39;00m:\n\u001b[1;32m    198\u001b[0m         \u001b[38;5;28;01mpass\u001b[39;00m\n\u001b[0;32m--> 199\u001b[0m     \u001b[38;5;28;01mraise\u001b[39;00m e\n\u001b[1;32m    201\u001b[0m obj, module \u001b[38;5;241m=\u001b[39m _load_objects(cache_dir, module_name, form_names)\n\u001b[1;32m    202\u001b[0m \u001b[38;5;28;01mreturn\u001b[39;00m obj, module, (decl, impl)\n",
      "File \u001b[0;32m/usr/lib/python3/dist-packages/ffcx/codegeneration/jit.py:190\u001b[0m, in \u001b[0;36mcompile_forms\u001b[0;34m(forms, options, cache_dir, timeout, cffi_extra_compile_args, cffi_verbose, cffi_debug, cffi_libraries)\u001b[0m\n\u001b[1;32m    187\u001b[0m     \u001b[38;5;28;01mfor\u001b[39;00m name \u001b[38;5;129;01min\u001b[39;00m form_names:\n\u001b[1;32m    188\u001b[0m         decl \u001b[38;5;241m+\u001b[39m\u001b[38;5;241m=\u001b[39m form_template\u001b[38;5;241m.\u001b[39mformat(name\u001b[38;5;241m=\u001b[39mname)\n\u001b[0;32m--> 190\u001b[0m     impl \u001b[38;5;241m=\u001b[39m \u001b[43m_compile_objects\u001b[49m\u001b[43m(\u001b[49m\u001b[43mdecl\u001b[49m\u001b[43m,\u001b[49m\u001b[43m \u001b[49m\u001b[43mforms\u001b[49m\u001b[43m,\u001b[49m\u001b[43m \u001b[49m\u001b[43mform_names\u001b[49m\u001b[43m,\u001b[49m\u001b[43m \u001b[49m\u001b[43mmodule_name\u001b[49m\u001b[43m,\u001b[49m\u001b[43m \u001b[49m\u001b[43mp\u001b[49m\u001b[43m,\u001b[49m\u001b[43m \u001b[49m\u001b[43mcache_dir\u001b[49m\u001b[43m,\u001b[49m\n\u001b[1;32m    191\u001b[0m \u001b[43m                            \u001b[49m\u001b[43mcffi_extra_compile_args\u001b[49m\u001b[43m,\u001b[49m\u001b[43m \u001b[49m\u001b[43mcffi_verbose\u001b[49m\u001b[43m,\u001b[49m\u001b[43m \u001b[49m\u001b[43mcffi_debug\u001b[49m\u001b[43m,\u001b[49m\u001b[43m \u001b[49m\u001b[43mcffi_libraries\u001b[49m\u001b[43m)\u001b[49m\n\u001b[1;32m    192\u001b[0m \u001b[38;5;28;01mexcept\u001b[39;00m \u001b[38;5;167;01mException\u001b[39;00m \u001b[38;5;28;01mas\u001b[39;00m e:\n\u001b[1;32m    193\u001b[0m     \u001b[38;5;28;01mtry\u001b[39;00m:\n\u001b[1;32m    194\u001b[0m         \u001b[38;5;66;03m# remove c file so that it will not timeout next time\u001b[39;00m\n",
      "File \u001b[0;32m/usr/lib/python3/dist-packages/ffcx/codegeneration/jit.py:260\u001b[0m, in \u001b[0;36m_compile_objects\u001b[0;34m(decl, ufl_objects, object_names, module_name, options, cache_dir, cffi_extra_compile_args, cffi_verbose, cffi_debug, cffi_libraries)\u001b[0m\n\u001b[1;32m    256\u001b[0m \u001b[38;5;28;01mimport\u001b[39;00m \u001b[38;5;21;01mffcx\u001b[39;00m\u001b[38;5;21;01m.\u001b[39;00m\u001b[38;5;21;01mcompiler\u001b[39;00m\n\u001b[1;32m    258\u001b[0m \u001b[38;5;66;03m# JIT uses module_name as prefix, which is needed to make names of all struct/function\u001b[39;00m\n\u001b[1;32m    259\u001b[0m \u001b[38;5;66;03m# unique across modules\u001b[39;00m\n\u001b[0;32m--> 260\u001b[0m _, code_body \u001b[38;5;241m=\u001b[39m \u001b[43mffcx\u001b[49m\u001b[38;5;241;43m.\u001b[39;49m\u001b[43mcompiler\u001b[49m\u001b[38;5;241;43m.\u001b[39;49m\u001b[43mcompile_ufl_objects\u001b[49m\u001b[43m(\u001b[49m\u001b[43mufl_objects\u001b[49m\u001b[43m,\u001b[49m\u001b[43m \u001b[49m\u001b[43mprefix\u001b[49m\u001b[38;5;241;43m=\u001b[39;49m\u001b[43mmodule_name\u001b[49m\u001b[43m,\u001b[49m\u001b[43m \u001b[49m\u001b[43moptions\u001b[49m\u001b[38;5;241;43m=\u001b[39;49m\u001b[43moptions\u001b[49m\u001b[43m)\u001b[49m\n\u001b[1;32m    262\u001b[0m ffibuilder \u001b[38;5;241m=\u001b[39m cffi\u001b[38;5;241m.\u001b[39mFFI()\n\u001b[1;32m    263\u001b[0m ffibuilder\u001b[38;5;241m.\u001b[39mset_source(module_name, code_body, include_dirs\u001b[38;5;241m=\u001b[39m[ffcx\u001b[38;5;241m.\u001b[39mcodegeneration\u001b[38;5;241m.\u001b[39mget_include_path()],\n\u001b[1;32m    264\u001b[0m                       extra_compile_args\u001b[38;5;241m=\u001b[39mcffi_extra_compile_args, libraries\u001b[38;5;241m=\u001b[39mcffi_libraries)\n",
      "File \u001b[0;32m/usr/lib/python3/dist-packages/ffcx/compiler.py:102\u001b[0m, in \u001b[0;36mcompile_ufl_objects\u001b[0;34m(ufl_objects, object_names, prefix, options, visualise)\u001b[0m\n\u001b[1;32m    100\u001b[0m \u001b[38;5;66;03m# Stage 2: intermediate representation\u001b[39;00m\n\u001b[1;32m    101\u001b[0m cpu_time \u001b[38;5;241m=\u001b[39m time()\n\u001b[0;32m--> 102\u001b[0m ir \u001b[38;5;241m=\u001b[39m \u001b[43mcompute_ir\u001b[49m\u001b[43m(\u001b[49m\u001b[43manalysis\u001b[49m\u001b[43m,\u001b[49m\u001b[43m \u001b[49m\u001b[43mobject_names\u001b[49m\u001b[43m,\u001b[49m\u001b[43m \u001b[49m\u001b[43mprefix\u001b[49m\u001b[43m,\u001b[49m\u001b[43m \u001b[49m\u001b[43moptions\u001b[49m\u001b[43m,\u001b[49m\u001b[43m \u001b[49m\u001b[43mvisualise\u001b[49m\u001b[43m)\u001b[49m\n\u001b[1;32m    103\u001b[0m _print_timing(\u001b[38;5;241m2\u001b[39m, time() \u001b[38;5;241m-\u001b[39m cpu_time)\n\u001b[1;32m    105\u001b[0m \u001b[38;5;66;03m# Stage 3: code generation\u001b[39;00m\n",
      "File \u001b[0;32m/usr/lib/python3/dist-packages/ffcx/ir/representation.py:197\u001b[0m, in \u001b[0;36mcompute_ir\u001b[0;34m(analysis, object_names, prefix, options, visualise)\u001b[0m\n\u001b[1;32m    191\u001b[0m ir_elements \u001b[38;5;241m=\u001b[39m [_compute_element_ir(e, analysis\u001b[38;5;241m.\u001b[39melement_numbers, finite_element_names)\n\u001b[1;32m    192\u001b[0m                \u001b[38;5;28;01mfor\u001b[39;00m e \u001b[38;5;129;01min\u001b[39;00m analysis\u001b[38;5;241m.\u001b[39munique_elements]\n\u001b[1;32m    194\u001b[0m ir_dofmaps \u001b[38;5;241m=\u001b[39m [_compute_dofmap_ir(e, analysis\u001b[38;5;241m.\u001b[39melement_numbers, dofmap_names)\n\u001b[1;32m    195\u001b[0m               \u001b[38;5;28;01mfor\u001b[39;00m e \u001b[38;5;129;01min\u001b[39;00m analysis\u001b[38;5;241m.\u001b[39munique_elements]\n\u001b[0;32m--> 197\u001b[0m irs \u001b[38;5;241m=\u001b[39m [_compute_integral_ir(fd, i, analysis\u001b[38;5;241m.\u001b[39melement_numbers, integral_names, finite_element_names,\n\u001b[1;32m    198\u001b[0m                             options, visualise)\n\u001b[1;32m    199\u001b[0m        \u001b[38;5;28;01mfor\u001b[39;00m (i, fd) \u001b[38;5;129;01min\u001b[39;00m \u001b[38;5;28menumerate\u001b[39m(analysis\u001b[38;5;241m.\u001b[39mform_data)]\n\u001b[1;32m    200\u001b[0m ir_integrals \u001b[38;5;241m=\u001b[39m \u001b[38;5;28mlist\u001b[39m(itertools\u001b[38;5;241m.\u001b[39mchain(\u001b[38;5;241m*\u001b[39mirs))\n\u001b[1;32m    202\u001b[0m ir_forms \u001b[38;5;241m=\u001b[39m [_compute_form_ir(fd, i, prefix, form_names, integral_names, analysis\u001b[38;5;241m.\u001b[39melement_numbers,\n\u001b[1;32m    203\u001b[0m                              finite_element_names, dofmap_names, object_names)\n\u001b[1;32m    204\u001b[0m             \u001b[38;5;28;01mfor\u001b[39;00m (i, fd) \u001b[38;5;129;01min\u001b[39;00m \u001b[38;5;28menumerate\u001b[39m(analysis\u001b[38;5;241m.\u001b[39mform_data)]\n",
      "File \u001b[0;32m/usr/lib/python3/dist-packages/ffcx/ir/representation.py:197\u001b[0m, in \u001b[0;36m<listcomp>\u001b[0;34m(.0)\u001b[0m\n\u001b[1;32m    191\u001b[0m ir_elements \u001b[38;5;241m=\u001b[39m [_compute_element_ir(e, analysis\u001b[38;5;241m.\u001b[39melement_numbers, finite_element_names)\n\u001b[1;32m    192\u001b[0m                \u001b[38;5;28;01mfor\u001b[39;00m e \u001b[38;5;129;01min\u001b[39;00m analysis\u001b[38;5;241m.\u001b[39munique_elements]\n\u001b[1;32m    194\u001b[0m ir_dofmaps \u001b[38;5;241m=\u001b[39m [_compute_dofmap_ir(e, analysis\u001b[38;5;241m.\u001b[39melement_numbers, dofmap_names)\n\u001b[1;32m    195\u001b[0m               \u001b[38;5;28;01mfor\u001b[39;00m e \u001b[38;5;129;01min\u001b[39;00m analysis\u001b[38;5;241m.\u001b[39munique_elements]\n\u001b[0;32m--> 197\u001b[0m irs \u001b[38;5;241m=\u001b[39m [\u001b[43m_compute_integral_ir\u001b[49m\u001b[43m(\u001b[49m\u001b[43mfd\u001b[49m\u001b[43m,\u001b[49m\u001b[43m \u001b[49m\u001b[43mi\u001b[49m\u001b[43m,\u001b[49m\u001b[43m \u001b[49m\u001b[43manalysis\u001b[49m\u001b[38;5;241;43m.\u001b[39;49m\u001b[43melement_numbers\u001b[49m\u001b[43m,\u001b[49m\u001b[43m \u001b[49m\u001b[43mintegral_names\u001b[49m\u001b[43m,\u001b[49m\u001b[43m \u001b[49m\u001b[43mfinite_element_names\u001b[49m\u001b[43m,\u001b[49m\n\u001b[1;32m    198\u001b[0m \u001b[43m                            \u001b[49m\u001b[43moptions\u001b[49m\u001b[43m,\u001b[49m\u001b[43m \u001b[49m\u001b[43mvisualise\u001b[49m\u001b[43m)\u001b[49m\n\u001b[1;32m    199\u001b[0m        \u001b[38;5;28;01mfor\u001b[39;00m (i, fd) \u001b[38;5;129;01min\u001b[39;00m \u001b[38;5;28menumerate\u001b[39m(analysis\u001b[38;5;241m.\u001b[39mform_data)]\n\u001b[1;32m    200\u001b[0m ir_integrals \u001b[38;5;241m=\u001b[39m \u001b[38;5;28mlist\u001b[39m(itertools\u001b[38;5;241m.\u001b[39mchain(\u001b[38;5;241m*\u001b[39mirs))\n\u001b[1;32m    202\u001b[0m ir_forms \u001b[38;5;241m=\u001b[39m [_compute_form_ir(fd, i, prefix, form_names, integral_names, analysis\u001b[38;5;241m.\u001b[39melement_numbers,\n\u001b[1;32m    203\u001b[0m                              finite_element_names, dofmap_names, object_names)\n\u001b[1;32m    204\u001b[0m             \u001b[38;5;28;01mfor\u001b[39;00m (i, fd) \u001b[38;5;129;01min\u001b[39;00m \u001b[38;5;28menumerate\u001b[39m(analysis\u001b[38;5;241m.\u001b[39mform_data)]\n",
      "File \u001b[0;32m/usr/lib/python3/dist-packages/ffcx/ir/representation.py:492\u001b[0m, in \u001b[0;36m_compute_integral_ir\u001b[0;34m(form_data, form_index, element_numbers, integral_names, finite_element_names, options, visualise)\u001b[0m\n\u001b[1;32m    489\u001b[0m integrands \u001b[38;5;241m=\u001b[39m {rule: integral\u001b[38;5;241m.\u001b[39mintegrand() \u001b[38;5;28;01mfor\u001b[39;00m rule, integral \u001b[38;5;129;01min\u001b[39;00m sorted_integrals\u001b[38;5;241m.\u001b[39mitems()}\n\u001b[1;32m    491\u001b[0m \u001b[38;5;66;03m# Build more specific intermediate representation\u001b[39;00m\n\u001b[0;32m--> 492\u001b[0m integral_ir \u001b[38;5;241m=\u001b[39m \u001b[43mcompute_integral_ir\u001b[49m\u001b[43m(\u001b[49m\u001b[43mitg_data\u001b[49m\u001b[38;5;241;43m.\u001b[39;49m\u001b[43mdomain\u001b[49m\u001b[38;5;241;43m.\u001b[39;49m\u001b[43mufl_cell\u001b[49m\u001b[43m(\u001b[49m\u001b[43m)\u001b[49m\u001b[43m,\u001b[49m\u001b[43m \u001b[49m\u001b[43mitg_data\u001b[49m\u001b[38;5;241;43m.\u001b[39;49m\u001b[43mintegral_type\u001b[49m\u001b[43m,\u001b[49m\n\u001b[1;32m    493\u001b[0m \u001b[43m                                  \u001b[49m\u001b[43mir\u001b[49m\u001b[43m[\u001b[49m\u001b[38;5;124;43m\"\u001b[39;49m\u001b[38;5;124;43mentitytype\u001b[39;49m\u001b[38;5;124;43m\"\u001b[39;49m\u001b[43m]\u001b[49m\u001b[43m,\u001b[49m\u001b[43m \u001b[49m\u001b[43mintegrands\u001b[49m\u001b[43m,\u001b[49m\u001b[43m \u001b[49m\u001b[43mir\u001b[49m\u001b[43m[\u001b[49m\u001b[38;5;124;43m\"\u001b[39;49m\u001b[38;5;124;43mtensor_shape\u001b[39;49m\u001b[38;5;124;43m\"\u001b[39;49m\u001b[43m]\u001b[49m\u001b[43m,\u001b[49m\n\u001b[1;32m    494\u001b[0m \u001b[43m                                  \u001b[49m\u001b[43moptions\u001b[49m\u001b[43m,\u001b[49m\u001b[43m \u001b[49m\u001b[43mvisualise\u001b[49m\u001b[43m)\u001b[49m\n\u001b[1;32m    496\u001b[0m ir\u001b[38;5;241m.\u001b[39mupdate(integral_ir)\n\u001b[1;32m    498\u001b[0m \u001b[38;5;66;03m# Fetch name\u001b[39;00m\n",
      "File \u001b[0;32m/usr/lib/python3/dist-packages/ffcx/ir/integral.py:84\u001b[0m, in \u001b[0;36mcompute_integral_ir\u001b[0;34m(cell, integral_type, entitytype, integrands, argument_shape, p, visualise)\u001b[0m\n\u001b[1;32m     74\u001b[0m \u001b[38;5;66;03m# Build terminal_data from V here before factorization. Then we\u001b[39;00m\n\u001b[1;32m     75\u001b[0m \u001b[38;5;66;03m# can use it to derive table properties for all modified\u001b[39;00m\n\u001b[1;32m     76\u001b[0m \u001b[38;5;66;03m# terminals, and then use that to rebuild the scalar graph more\u001b[39;00m\n\u001b[1;32m     77\u001b[0m \u001b[38;5;66;03m# efficiently before argument factorization. We can build\u001b[39;00m\n\u001b[1;32m     78\u001b[0m \u001b[38;5;66;03m# terminal_data again after factorization if that's necessary.\u001b[39;00m\n\u001b[1;32m     80\u001b[0m initial_terminals \u001b[38;5;241m=\u001b[39m {i: analyse_modified_terminal(v[\u001b[38;5;124m'\u001b[39m\u001b[38;5;124mexpression\u001b[39m\u001b[38;5;124m'\u001b[39m])\n\u001b[1;32m     81\u001b[0m                      \u001b[38;5;28;01mfor\u001b[39;00m i, v \u001b[38;5;129;01min\u001b[39;00m S\u001b[38;5;241m.\u001b[39mnodes\u001b[38;5;241m.\u001b[39mitems()\n\u001b[1;32m     82\u001b[0m                      \u001b[38;5;28;01mif\u001b[39;00m is_modified_terminal(v[\u001b[38;5;124m'\u001b[39m\u001b[38;5;124mexpression\u001b[39m\u001b[38;5;124m'\u001b[39m])}\n\u001b[0;32m---> 84\u001b[0m mt_table_reference \u001b[38;5;241m=\u001b[39m \u001b[43mbuild_optimized_tables\u001b[49m\u001b[43m(\u001b[49m\n\u001b[1;32m     85\u001b[0m \u001b[43m    \u001b[49m\u001b[43mquadrature_rule\u001b[49m\u001b[43m,\u001b[49m\n\u001b[1;32m     86\u001b[0m \u001b[43m    \u001b[49m\u001b[43mcell\u001b[49m\u001b[43m,\u001b[49m\n\u001b[1;32m     87\u001b[0m \u001b[43m    \u001b[49m\u001b[43mintegral_type\u001b[49m\u001b[43m,\u001b[49m\n\u001b[1;32m     88\u001b[0m \u001b[43m    \u001b[49m\u001b[43mentitytype\u001b[49m\u001b[43m,\u001b[49m\n\u001b[1;32m     89\u001b[0m \u001b[43m    \u001b[49m\u001b[43minitial_terminals\u001b[49m\u001b[38;5;241;43m.\u001b[39;49m\u001b[43mvalues\u001b[49m\u001b[43m(\u001b[49m\u001b[43m)\u001b[49m\u001b[43m,\u001b[49m\n\u001b[1;32m     90\u001b[0m \u001b[43m    \u001b[49m\u001b[43mir\u001b[49m\u001b[43m[\u001b[49m\u001b[38;5;124;43m\"\u001b[39;49m\u001b[38;5;124;43munique_tables\u001b[39;49m\u001b[38;5;124;43m\"\u001b[39;49m\u001b[43m]\u001b[49m\u001b[43m,\u001b[49m\n\u001b[1;32m     91\u001b[0m \u001b[43m    \u001b[49m\u001b[43mrtol\u001b[49m\u001b[38;5;241;43m=\u001b[39;49m\u001b[43mp\u001b[49m\u001b[43m[\u001b[49m\u001b[38;5;124;43m\"\u001b[39;49m\u001b[38;5;124;43mtable_rtol\u001b[39;49m\u001b[38;5;124;43m\"\u001b[39;49m\u001b[43m]\u001b[49m\u001b[43m,\u001b[49m\n\u001b[1;32m     92\u001b[0m \u001b[43m    \u001b[49m\u001b[43matol\u001b[49m\u001b[38;5;241;43m=\u001b[39;49m\u001b[43mp\u001b[49m\u001b[43m[\u001b[49m\u001b[38;5;124;43m\"\u001b[39;49m\u001b[38;5;124;43mtable_atol\u001b[39;49m\u001b[38;5;124;43m\"\u001b[39;49m\u001b[43m]\u001b[49m\u001b[43m)\u001b[49m\n\u001b[1;32m     94\u001b[0m \u001b[38;5;66;03m# Fetch unique tables for this quadrature rule\u001b[39;00m\n\u001b[1;32m     95\u001b[0m table_types \u001b[38;5;241m=\u001b[39m {v\u001b[38;5;241m.\u001b[39mname: v\u001b[38;5;241m.\u001b[39mttype \u001b[38;5;28;01mfor\u001b[39;00m v \u001b[38;5;129;01min\u001b[39;00m mt_table_reference\u001b[38;5;241m.\u001b[39mvalues()}\n",
      "File \u001b[0;32m/usr/lib/python3/dist-packages/ffcx/ir/elementtables.py:366\u001b[0m, in \u001b[0;36mbuild_optimized_tables\u001b[0;34m(quadrature_rule, cell, integral_type, entitytype, modified_terminals, existing_tables, rtol, atol)\u001b[0m\n\u001b[1;32m    364\u001b[0m \u001b[38;5;66;03m# Clean up table\u001b[39;00m\n\u001b[1;32m    365\u001b[0m tbl \u001b[38;5;241m=\u001b[39m clamp_table_small_numbers(t[\u001b[38;5;124m'\u001b[39m\u001b[38;5;124marray\u001b[39m\u001b[38;5;124m'\u001b[39m], rtol\u001b[38;5;241m=\u001b[39mrtol, atol\u001b[38;5;241m=\u001b[39matol)\n\u001b[0;32m--> 366\u001b[0m tabletype \u001b[38;5;241m=\u001b[39m \u001b[43manalyse_table_type\u001b[49m\u001b[43m(\u001b[49m\u001b[43mtbl\u001b[49m\u001b[43m)\u001b[49m\n\u001b[1;32m    368\u001b[0m \u001b[38;5;28;01mif\u001b[39;00m tabletype \u001b[38;5;129;01min\u001b[39;00m piecewise_ttypes:\n\u001b[1;32m    369\u001b[0m     \u001b[38;5;66;03m# Reduce table to dimension 1 along num_points axis in generated code\u001b[39;00m\n\u001b[1;32m    370\u001b[0m     tbl \u001b[38;5;241m=\u001b[39m tbl[:, :, :\u001b[38;5;241m1\u001b[39m, :]\n",
      "File \u001b[0;32m/usr/lib/python3/dist-packages/ffcx/ir/elementtables.py:453\u001b[0m, in \u001b[0;36manalyse_table_type\u001b[0;34m(table, rtol, atol)\u001b[0m\n\u001b[1;32m    450\u001b[0m \u001b[38;5;28;01melif\u001b[39;00m is_ones_table(table, rtol\u001b[38;5;241m=\u001b[39mrtol, atol\u001b[38;5;241m=\u001b[39matol):\n\u001b[1;32m    451\u001b[0m     \u001b[38;5;66;03m# All values are 1.0\u001b[39;00m\n\u001b[1;32m    452\u001b[0m     ttype \u001b[38;5;241m=\u001b[39m \u001b[38;5;124m\"\u001b[39m\u001b[38;5;124mones\u001b[39m\u001b[38;5;124m\"\u001b[39m\n\u001b[0;32m--> 453\u001b[0m \u001b[38;5;28;01melif\u001b[39;00m \u001b[43mis_quadrature_table\u001b[49m\u001b[43m(\u001b[49m\u001b[43mtable\u001b[49m\u001b[43m,\u001b[49m\u001b[43m \u001b[49m\u001b[43mrtol\u001b[49m\u001b[38;5;241;43m=\u001b[39;49m\u001b[43mrtol\u001b[49m\u001b[43m,\u001b[49m\u001b[43m \u001b[49m\u001b[43matol\u001b[49m\u001b[38;5;241;43m=\u001b[39;49m\u001b[43matol\u001b[49m\u001b[43m)\u001b[49m:\n\u001b[1;32m    454\u001b[0m     \u001b[38;5;66;03m# Identity matrix mapping points to dofs (separately on each entity)\u001b[39;00m\n\u001b[1;32m    455\u001b[0m     ttype \u001b[38;5;241m=\u001b[39m \u001b[38;5;124m\"\u001b[39m\u001b[38;5;124mquadrature\u001b[39m\u001b[38;5;124m\"\u001b[39m\n\u001b[1;32m    456\u001b[0m \u001b[38;5;28;01melse\u001b[39;00m:\n\u001b[1;32m    457\u001b[0m     \u001b[38;5;66;03m# Equal for all points on a given entity\u001b[39;00m\n",
      "File \u001b[0;32m/usr/lib/python3/dist-packages/ffcx/ir/elementtables.py:420\u001b[0m, in \u001b[0;36mis_quadrature_table\u001b[0;34m(table, rtol, atol)\u001b[0m\n\u001b[1;32m    418\u001b[0m \u001b[38;5;28;01mdef\u001b[39;00m \u001b[38;5;21mis_quadrature_table\u001b[39m(table, rtol\u001b[38;5;241m=\u001b[39mdefault_rtol, atol\u001b[38;5;241m=\u001b[39mdefault_atol):\n\u001b[1;32m    419\u001b[0m     _, num_entities, num_points, num_dofs \u001b[38;5;241m=\u001b[39m table\u001b[38;5;241m.\u001b[39mshape\n\u001b[0;32m--> 420\u001b[0m     Id \u001b[38;5;241m=\u001b[39m \u001b[43mnp\u001b[49m\u001b[38;5;241;43m.\u001b[39;49m\u001b[43meye\u001b[49m\u001b[43m(\u001b[49m\u001b[43mnum_points\u001b[49m\u001b[43m)\u001b[49m\n\u001b[1;32m    421\u001b[0m     \u001b[38;5;28;01mreturn\u001b[39;00m (num_points \u001b[38;5;241m==\u001b[39m num_dofs \u001b[38;5;129;01mand\u001b[39;00m \u001b[38;5;28mall\u001b[39m(\n\u001b[1;32m    422\u001b[0m         np\u001b[38;5;241m.\u001b[39mallclose(table[\u001b[38;5;241m0\u001b[39m, i, :, :], Id, rtol\u001b[38;5;241m=\u001b[39mrtol, atol\u001b[38;5;241m=\u001b[39matol) \u001b[38;5;28;01mfor\u001b[39;00m i \u001b[38;5;129;01min\u001b[39;00m \u001b[38;5;28mrange\u001b[39m(num_entities)))\n",
      "File \u001b[0;32m~/.local/lib/python3.10/site-packages/numpy/lib/twodim_base.py:215\u001b[0m, in \u001b[0;36meye\u001b[0;34m(N, M, k, dtype, order, like)\u001b[0m\n\u001b[1;32m    213\u001b[0m \u001b[38;5;28;01mif\u001b[39;00m M \u001b[38;5;129;01mis\u001b[39;00m \u001b[38;5;28;01mNone\u001b[39;00m:\n\u001b[1;32m    214\u001b[0m     M \u001b[38;5;241m=\u001b[39m N\n\u001b[0;32m--> 215\u001b[0m m \u001b[38;5;241m=\u001b[39m \u001b[43mzeros\u001b[49m\u001b[43m(\u001b[49m\u001b[43m(\u001b[49m\u001b[43mN\u001b[49m\u001b[43m,\u001b[49m\u001b[43m \u001b[49m\u001b[43mM\u001b[49m\u001b[43m)\u001b[49m\u001b[43m,\u001b[49m\u001b[43m \u001b[49m\u001b[43mdtype\u001b[49m\u001b[38;5;241;43m=\u001b[39;49m\u001b[43mdtype\u001b[49m\u001b[43m,\u001b[49m\u001b[43m \u001b[49m\u001b[43morder\u001b[49m\u001b[38;5;241;43m=\u001b[39;49m\u001b[43morder\u001b[49m\u001b[43m)\u001b[49m\n\u001b[1;32m    216\u001b[0m \u001b[38;5;28;01mif\u001b[39;00m k \u001b[38;5;241m>\u001b[39m\u001b[38;5;241m=\u001b[39m M:\n\u001b[1;32m    217\u001b[0m     \u001b[38;5;28;01mreturn\u001b[39;00m m\n",
      "\u001b[0;31mMemoryError\u001b[0m: Unable to allocate 11.5 GiB for an array with shape (39304, 39304) and data type float64"
     ]
    }
   ],
   "source": [
    "p_val = 0\n",
    "guess = model.GasExchange(domain, guess=None, save=False, \n",
    "                          plot=False, p_val = p_val, \n",
    "                          postprocess=False, plot_lines=False)\n",
    "N = 10\n",
    "for i in range(N):\n",
    "    p_val += 1/N\n",
    "    if i != N-1:\n",
    "        guess = model.GasExchange(domain, guess=guess, save=False, \n",
    "                                  plot=False, p_val = p_val, \n",
    "                                  postprocess=False, plot_lines=False)\n",
    "    else:\n",
    "        guess = model.GasExchange(domain, guess=guess, save=True, \n",
    "                                  plot=False, p_val = p_val, \n",
    "                                  postprocess=True, plot_lines=False)"
   ]
  },
  {
   "cell_type": "code",
   "execution_count": 13,
   "metadata": {},
   "outputs": [],
   "source": [
    "def inlet(x):\n",
    "    return np.isclose(x[0], model.min_dims[0], atol=model.atol)\n",
    "def outlet(x):\n",
    "    return np.isclose(x[0], model.max_dims[0], atol=model.atol)\n",
    "def all(x):\n",
    "    return np.full(x.shape[1], True, dtype=bool)\n",
    "def both(x):\n",
    "    return np.logical_or(inlet(x), outlet(x))"
   ]
  },
  {
   "cell_type": "code",
   "execution_count": 14,
   "metadata": {},
   "outputs": [
    {
     "name": "stderr",
     "output_type": "stream",
     "text": [
      "2024-01-13 16:59:29.844 (  66.797s) [main            ]topologycomputation.cpp:776   INFO| Requesting connectivity 2 - 3\n",
      "2024-01-13 16:59:29.850 (  66.803s) [main            ]topologycomputation.cpp:776   INFO| Requesting connectivity 2 - 0\n",
      "2024-01-13 16:59:29.850 (  66.803s) [main            ]topologycomputation.cpp:776   INFO| Requesting connectivity 2 - 2\n",
      "2024-01-13 16:59:29.868 (  66.821s) [main            ]topologycomputation.cpp:776   INFO| Requesting connectivity 0 - 3\n",
      "2024-01-13 16:59:29.868 (  66.821s) [main            ]topologycomputation.cpp:776   INFO| Requesting connectivity 3 - 0\n",
      "2024-01-13 16:59:29.882 (  66.835s) [main            ]topologycomputation.cpp:776   INFO| Requesting connectivity 2 - 3\n",
      "2024-01-13 16:59:29.883 (  66.836s) [main            ]topologycomputation.cpp:776   INFO| Requesting connectivity 2 - 0\n",
      "2024-01-13 16:59:29.883 (  66.836s) [main            ]topologycomputation.cpp:776   INFO| Requesting connectivity 2 - 2\n",
      "2024-01-13 16:59:29.890 (  66.843s) [main            ]topologycomputation.cpp:776   INFO| Requesting connectivity 0 - 3\n",
      "2024-01-13 16:59:29.890 (  66.843s) [main            ]topologycomputation.cpp:776   INFO| Requesting connectivity 3 - 0\n",
      "2024-01-13 16:59:29.891 (  66.844s) [main            ]topologycomputation.cpp:776   INFO| Requesting connectivity 2 - 3\n",
      "2024-01-13 16:59:29.892 (  66.845s) [main            ]topologycomputation.cpp:776   INFO| Requesting connectivity 2 - 0\n",
      "2024-01-13 16:59:29.892 (  66.845s) [main            ]topologycomputation.cpp:776   INFO| Requesting connectivity 2 - 2\n",
      "2024-01-13 16:59:29.902 (  66.855s) [main            ]topologycomputation.cpp:776   INFO| Requesting connectivity 0 - 3\n",
      "2024-01-13 16:59:29.902 (  66.855s) [main            ]topologycomputation.cpp:776   INFO| Requesting connectivity 3 - 0\n",
      "2024-01-13 16:59:29.904 (  66.857s) [main            ]topologycomputation.cpp:776   INFO| Requesting connectivity 2 - 3\n",
      "2024-01-13 16:59:29.905 (  66.858s) [main            ]topologycomputation.cpp:776   INFO| Requesting connectivity 2 - 0\n",
      "2024-01-13 16:59:29.905 (  66.858s) [main            ]topologycomputation.cpp:776   INFO| Requesting connectivity 2 - 2\n",
      "2024-01-13 16:59:29.911 (  66.864s) [main            ]topologycomputation.cpp:776   INFO| Requesting connectivity 0 - 3\n",
      "2024-01-13 16:59:29.911 (  66.864s) [main            ]topologycomputation.cpp:776   INFO| Requesting connectivity 3 - 0\n"
     ]
    }
   ],
   "source": [
    "inlet_facets = mesh.locate_entities_boundary(domain, model.fdim, inlet)\n",
    "outlet_facets = mesh.locate_entities_boundary(domain, model.fdim, outlet)\n",
    "all_facets = mesh.locate_entities_boundary(domain, model.fdim, all)\n",
    "both_facets = mesh.locate_entities_boundary(domain, model.fdim, both)\n",
    "air_facets = np.setdiff1d(all_facets, both_facets)"
   ]
  },
  {
   "cell_type": "code",
   "execution_count": 15,
   "metadata": {},
   "outputs": [
    {
     "data": {
      "text/plain": [
       "array([  1291,   1296,   1306,   1355,   1356,   1851,   1856,   1910,\n",
       "         1913,   2022,   2029,   2058,   2065,   2306,   2310,   2315,\n",
       "         2325,   2466,   2468,  26243,  26244,  26275,  26276,  26398,\n",
       "        26403,  26408,  26417,  26427,  26429,  26561,  26616,  26617,\n",
       "        26618,  27695,  27700,  27704,  28183,  28188,  28197,  28217,\n",
       "        28224,  28418,  28426,  28428,  28655,  29409,  29437,  29439,\n",
       "        29848,  29849,  30350,  30368,  30439,  30443,  30449,  31610,\n",
       "        33606,  33613,  34114,  34115,  34365,  34845,  34847,  34935,\n",
       "        35110,  35917,  37129,  37233,  37766,  37796,  38422,  38429,\n",
       "        38434,  38610,  38613,  38614,  39081,  39087,  40049,  40293,\n",
       "        40449,  40452,  41828,  41832,  42427,  42428,  43721,  43728,\n",
       "        43801,  43802,  43808,  43809,  43816,  43819,  44057,  44058,\n",
       "        44334,  44338,  44339,  45497,  45593,  45731,  45735,  46094,\n",
       "        46096,  46177,  46487,  47197,  47268,  47381,  47395,  47399,\n",
       "        47401,  47544,  47545,  47547,  48429,  48853,  49311,  49313,\n",
       "        49314,  49316,  49494,  49522,  49789,  49791,  49793,  50212,\n",
       "        50216,  50219,  50329,  50330,  50331,  50936,  51087,  51089,\n",
       "        51187,  51189,  51275,  51278,  51569,  51770,  51773,  51780,\n",
       "        51789,  51795,  51796,  51839,  51840,  51846,  51900,  51910,\n",
       "        51913,  51914,  51945,  52409,  52414,  52742,  53206,  53207,\n",
       "        53336,  53512,  53791,  53795,  53805,  53808,  53816,  53821,\n",
       "        53824,  53835,  53846,  53849,  53900,  53905,  53910,  54268,\n",
       "        54274,  54276,  54284,  54286,  54380,  54801,  54983,  55015,\n",
       "        55016,  55038,  55041,  55317,  55320,  55321,  55408,  55411,\n",
       "        55424,  55752,  55972,  55973,  56042,  56048,  56378,  56380,\n",
       "        56433,  56583,  56606,  56678,  56681,  56770,  56777,  56779,\n",
       "        56786,  57001,  57004,  57135,  57138,  57170,  57171,  57419,\n",
       "        57420,  57884,  57886,  57920,  57922,  58145,  58198,  58201,\n",
       "        58213,  58383,  58386,  58504,  58568,  58732,  58734,  58755,\n",
       "        58854,  58864,  59035,  59040,  59229,  59802,  59803,  59807,\n",
       "        59808,  59809,  59813,  60167,  60168,  60229,  60681,  60686,\n",
       "        60688,  60861,  61297,  61301,  61448,  62077,  62383,  62384,\n",
       "        62450,  62747,  62749,  62752,  62792,  64420,  64421,  64427,\n",
       "        64428,  64621,  64625,  64626,  64755,  64758,  64909,  65049,\n",
       "        65200,  65261,  65296,  65839,  66908,  67150,  67432,  67436,\n",
       "        67437,  67567,  67572,  68162,  68167,  68494,  68556,  68819,\n",
       "        68820,  68840,  70764,  71404,  71409,  72581,  72586,  72727,\n",
       "        72732,  73184,  73189,  73198,  73204,  73205,  73227,  73230,\n",
       "        73233,  73334,  73346,  73355,  73385,  73390,  73498,  73535,\n",
       "        74520,  74628,  75091,  75097,  75622,  75625,  77276,  77281,\n",
       "        77298,  77307,  77830,  77986,  78407,  78410,  79194,  79195,\n",
       "        79197,  79200,  79382,  79397,  79399,  80117,  80118,  80121,\n",
       "        80578,  80583,  80585,  80597,  81007,  81011,  82114,  82115,\n",
       "        82223,  82226,  82227,  82794,  83001,  83003,  83023,  83025,\n",
       "        83736,  83855,  83893,  84771,  84841,  85018,  85022,  85110,\n",
       "        85112,  85162,  85164,  85240,  85248,  85366,  85575,  85581,\n",
       "        85586,  85587,  86978,  86982,  86985,  87241,  87423,  87429,\n",
       "        87430,  87433,  87547,  89340,  89478,  89483,  90315,  90317,\n",
       "        90400,  91590,  95831,  96939,  96943,  97135,  97145,  97151,\n",
       "        99113,  99598,  99601,  99604,  99613,  99614,  99615,  99624,\n",
       "        99664, 101593, 101943, 101945], dtype=int32)"
      ]
     },
     "execution_count": 15,
     "metadata": {},
     "output_type": "execute_result"
    }
   ],
   "source": [
    "inlet_facets"
   ]
  },
  {
   "cell_type": "code",
   "execution_count": 16,
   "metadata": {},
   "outputs": [
    {
     "name": "stderr",
     "output_type": "stream",
     "text": [
      "2024-01-13 16:59:38.547 (  75.500s) [main            ]topologycomputation.cpp:776   INFO| Requesting connectivity 2 - 3\n",
      "2024-01-13 16:59:38.548 (  75.501s) [main            ]topologycomputation.cpp:776   INFO| Requesting connectivity 2 - 0\n",
      "2024-01-13 16:59:38.548 (  75.501s) [main            ]topologycomputation.cpp:776   INFO| Requesting connectivity 2 - 2\n",
      "2024-01-13 16:59:38.554 (  75.507s) [main            ]topologycomputation.cpp:776   INFO| Requesting connectivity 0 - 3\n",
      "2024-01-13 16:59:38.554 (  75.507s) [main            ]topologycomputation.cpp:776   INFO| Requesting connectivity 3 - 0\n",
      "2024-01-13 16:59:38.561 (  75.514s) [main            ]topologycomputation.cpp:776   INFO| Requesting connectivity 2 - 3\n",
      "2024-01-13 16:59:38.561 (  75.514s) [main            ]topologycomputation.cpp:776   INFO| Requesting connectivity 2 - 0\n",
      "2024-01-13 16:59:38.561 (  75.514s) [main            ]topologycomputation.cpp:776   INFO| Requesting connectivity 3 - 0\n"
     ]
    },
    {
     "name": "stdout",
     "output_type": "stream",
     "text": [
      "num_cells_local = [     0      1      3 ... 221187 221188 221189]\n"
     ]
    },
    {
     "data": {
      "application/vnd.jupyter.widget-view+json": {
       "model_id": "c331f58617dc427f9d049a1560057cb8",
       "version_major": 2,
       "version_minor": 0
      },
      "text/plain": [
       "Widget(value=\"<iframe src='http://localhost:44135/index.html?ui=P_0x7f71633738e0_0&reconnect=auto' style='widt…"
      ]
     },
     "metadata": {},
     "output_type": "display_data"
    }
   ],
   "source": [
    "# Filter out ghosted cells\n",
    "num_cells_local = mesh.locate_entities_boundary(domain, model.fdim, all)\n",
    "print(f\"num_cells_local = {num_cells_local}\")\n",
    "marker = np.zeros(np.max(num_cells_local)+1, dtype=np.int32) \n",
    "marker[inlet_facets] = 0 \n",
    "marker[outlet_facets] = 50\n",
    "marker[air_facets] = 100\n",
    "\n",
    "topology, cell_types, x = dolfinx.plot.vtk_mesh(domain, model.fdim, np.arange(np.max(num_cells_local)+1, dtype=np.int32))\n",
    "\n",
    "p = pyvista.Plotter(window_size=[800, 800])\n",
    "grid = pyvista.UnstructuredGrid(topology, cell_types, x)\n",
    "grid.cell_data[\"Marker\"] = marker\n",
    "grid.set_active_scalars(\"Marker\")\n",
    "p.add_mesh(grid, show_edges=False)\n",
    "if pyvista.OFF_SCREEN:\n",
    "    figure = p.screenshot(\"subdomains_structured.png\")\n",
    "p.show()"
   ]
  },
  {
   "cell_type": "code",
   "execution_count": 39,
   "metadata": {},
   "outputs": [
    {
     "name": "stdout",
     "output_type": "stream",
     "text": [
      "[ 2.26153874e+02  2.24987119e+02  2.22665580e+02  2.19213080e+02\n",
      "  2.14665047e+02  2.09068149e+02  2.02479818e+02  1.94967659e+02\n",
      "  1.86608757e+02  1.77488886e+02  1.67701628e+02  1.57347414e+02\n",
      "  1.46532492e+02  1.35367837e+02  1.23968013e+02  1.12450000e+02\n",
      "  1.00931987e+02  8.95321635e+01  7.83675084e+01  6.75525859e+01\n",
      "  5.71983716e+01  4.74111137e+01  3.82912428e+01  2.99323412e+01\n",
      "  2.24201823e+01  1.58318513e+01  1.02349532e+01  5.68691976e+00\n",
      "  2.23442002e+00 -8.71187248e-02 -1.25387434e+00]\n"
     ]
    },
    {
     "data": {
      "text/plain": [
       "<matplotlib.collections.PathCollection at 0x7faa87a956c0>"
      ]
     },
     "execution_count": 39,
     "metadata": {},
     "output_type": "execute_result"
    },
    {
     "data": {
      "image/png": "[encoded data removed]",
      "text/plain": [
       "<Figure size 640x480 with 1 Axes>"
      ]
     },
     "metadata": {},
     "output_type": "display_data"
    }
   ],
   "source": [
    "# Chebyshev nodes for slicing\n",
    "\n",
    "NN = 31\n",
    "b = 226.3\n",
    "a = -1.4\n",
    "\n",
    "xs = []\n",
    "for i in range(1,NN+1):\n",
    "    xs.append(0.5*(a+b)+0.5*(b-a)*np.cos( ((2*i-1) * np.pi) / (2*NN)))\n",
    "\n",
    "xs = np.array(xs)\n",
    "print(xs)\n",
    "\n",
    "plt.scatter(xs, np.zeros_like(xs))\n",
    "# plt.scatter(a, 0, color='red')\n",
    "# plt.scatter(b, 0, color='red')\n",
    "# "
   ]
  },
  {
   "cell_type": "code",
   "execution_count": 40,
   "metadata": {},
   "outputs": [
    {
     "name": "stdout",
     "output_type": "stream",
     "text": [
      "112.45\n",
      "[ 113.704  112.537  110.216  106.763  102.215   96.618   90.03    82.518\n",
      "   74.159   65.039   55.252   44.897   34.082   22.918   11.518    0.\n",
      "  -11.518  -22.918  -34.082  -44.897  -55.252  -65.039  -74.159  -82.518\n",
      "  -90.03   -96.618 -102.215 -106.763 -110.216 -112.537 -113.704]\n"
     ]
    }
   ],
   "source": [
    "with np.printoptions(precision=3, suppress=True):\n",
    "    print(np.median(xs))\n",
    "    print(xs - np.median(xs))"
   ]
  }
 ],
 "metadata": {
  "kernelspec": {
   "display_name": "Python 3",
   "language": "python",
   "name": "python3"
  },
  "language_info": {
   "codemirror_mode": {
    "name": "ipython",
    "version": 3
   },
   "file_extension": ".py",
   "mimetype": "text/x-python",
   "name": "python",
   "nbconvert_exporter": "python",
   "pygments_lexer": "ipython3",
   "version": "3.10.12"
  }
 },
 "nbformat": 4,
 "nbformat_minor": 2
}
