{
 "cells": [
  {
   "cell_type": "code",
   "execution_count": 3,
   "metadata": {},
   "outputs": [
    {
     "name": "stdout",
     "output_type": "stream",
     "text": [
      "The autoreload extension is already loaded. To reload it, use:\n",
      "  %reload_ext autoreload\n",
      "0.7.2\n"
     ]
    }
   ],
   "source": [
    "import numpy as np\n",
    "import matplotlib.pyplot as plt\n",
    "import pyvista\n",
    "import ufl\n",
    "import time\n",
    "from mpi4py import MPI\n",
    "from petsc4py import PETSc\n",
    "import dolfinx\n",
    "from dolfinx import fem, mesh, plot, nls, log, io\n",
    "from dolfinx import cpp as _cpp\n",
    "import meshio\n",
    "import os\n",
    "import sys\n",
    "\n",
    "sys.path.append('../')\n",
    "%load_ext autoreload\n",
    "%autoreload 2\n",
    "\n",
    "print(dolfinx.__version__)"
   ]
  },
  {
   "cell_type": "code",
   "execution_count": 2,
   "metadata": {},
   "outputs": [],
   "source": [
    "from src.utils import *\n",
    "from src.model import *"
   ]
  },
  {
   "cell_type": "code",
   "execution_count": 3,
   "metadata": {},
   "outputs": [],
   "source": [
    "# Slab domain (single capillary)\n",
    "vertex = [120,8,8]\n",
    "num_nodes = [60,8,8]\n",
    "domain = mesh.create_box(MPI.COMM_WORLD, [[0.0, 0.0, 0.0], vertex], num_nodes, mesh.CellType.tetrahedron) "
   ]
  },
  {
   "cell_type": "code",
   "execution_count": 4,
   "metadata": {},
   "outputs": [],
   "source": [
    "# plot_mesh(domain)"
   ]
  },
  {
   "cell_type": "code",
   "execution_count": 5,
   "metadata": {},
   "outputs": [],
   "source": [
    "results_folder = r\"../../results-data/\"\n",
    "exp_folder = \"slab_test\""
   ]
  },
  {
   "cell_type": "code",
   "execution_count": 6,
   "metadata": {},
   "outputs": [],
   "source": [
    "model = PerfusionGasExchangeModel(mesh_path=None,\n",
    "                                  results_path=results_folder,\n",
    "                                  exp_path=exp_folder,\n",
    "                                  params=None)"
   ]
  },
  {
   "cell_type": "code",
   "execution_count": 7,
   "metadata": {},
   "outputs": [
    {
     "name": "stdout",
     "output_type": "stream",
     "text": [
      "max_dims = [120, 8, 8]\n",
      "min_dims = [0, 0, 0]\n",
      "Total number = 4096\n",
      "Inlet number = 128\n",
      "Outlet number = 128\n",
      "Air number = 3840\n"
     ]
    }
   ],
   "source": [
    "model.Setup(domain, max_dims = vertex)\n",
    "model.parameter_setup()"
   ]
  },
  {
   "cell_type": "code",
   "execution_count": 8,
   "metadata": {},
   "outputs": [
    {
     "data": {
      "text/plain": [
       "3840.000000000454"
      ]
     },
     "execution_count": 8,
     "metadata": {},
     "output_type": "execute_result"
    }
   ],
   "source": [
    "area = calculate_area(domain, model.ds, 3)\n",
    "area"
   ]
  },
  {
   "cell_type": "code",
   "execution_count": 9,
   "metadata": {},
   "outputs": [
    {
     "name": "stdout",
     "output_type": "stream",
     "text": [
      "Problem instanced.\n",
      "Pressure field found.\n"
     ]
    },
    {
     "data": {
      "application/vnd.jupyter.widget-view+json": {
       "model_id": "931174838f3a496a81825028b3888118",
       "version_major": 2,
       "version_minor": 0
      },
      "text/plain": [
       "Widget(value=\"<iframe src='http://localhost:34103/index.html?ui=P_0x7fd974ad63b0_0&reconnect=auto' style='widt…"
      ]
     },
     "metadata": {},
     "output_type": "display_data"
    },
    {
     "data": {
      "application/vnd.jupyter.widget-view+json": {
       "model_id": "330f49a7b45c4f97b276012e53fa3d0a",
       "version_major": 2,
       "version_minor": 0
      },
      "text/plain": [
       "Widget(value=\"<iframe src='http://localhost:34103/index.html?ui=P_0x7fd974ad6380_0&reconnect=auto' style='widt…"
      ]
     },
     "metadata": {},
     "output_type": "display_data"
    }
   ],
   "source": [
    "p, u = model.Perfusion(domain, plot=True, save=True)"
   ]
  },
  {
   "cell_type": "code",
   "execution_count": 10,
   "metadata": {},
   "outputs": [
    {
     "data": {
      "text/plain": [
       "'../../results-data/slab_test'"
      ]
     },
     "execution_count": 10,
     "metadata": {},
     "output_type": "execute_result"
    }
   ],
   "source": [
    "model.results_path"
   ]
  },
  {
   "cell_type": "code",
   "execution_count": 11,
   "metadata": {},
   "outputs": [
    {
     "name": "stdout",
     "output_type": "stream",
     "text": [
      "Finite element is CG\n"
     ]
    },
    {
     "name": "stderr",
     "output_type": "stream",
     "text": [
      "2024-04-07 15:35:19.627 (  12.897s) [main            ]              petsc.cpp:698   INFO| PETSc Krylov solver starting to solve system.\n",
      "2024-04-07 15:35:19.783 (  13.053s) [main            ]              petsc.cpp:698   INFO| PETSc Krylov solver starting to solve system.\n",
      "2024-04-07 15:35:19.844 (  13.114s) [main            ]       NewtonSolver.cpp:36    INFO| Newton iteration 2: r (abs) = 4.1025e-12 (tol = 1e-08) r (rel) = 5.46291e-16(tol = 1e-08)\n",
      "2024-04-07 15:35:19.844 (  13.114s) [main            ]       NewtonSolver.cpp:255   INFO| Newton solver finished in 2 iterations and 2 linear solver iterations.\n"
     ]
    },
    {
     "name": "stdout",
     "output_type": "stream",
     "text": [
      "Problem solved in 2 iterations.\n",
      "Finite element is CG\n",
      "Starting nonlinear problem with previous guess.\n",
      "p_val = 0.25\n"
     ]
    },
    {
     "name": "stderr",
     "output_type": "stream",
     "text": [
      "2024-04-07 15:35:20.552 (  13.821s) [main            ]              petsc.cpp:698   INFO| PETSc Krylov solver starting to solve system.\n",
      "2024-04-07 15:35:21.241 (  14.510s) [main            ]              petsc.cpp:698   INFO| PETSc Krylov solver starting to solve system.\n",
      "2024-04-07 15:35:21.416 (  14.686s) [main            ]       NewtonSolver.cpp:36    INFO| Newton iteration 2: r (abs) = 108.192 (tol = 1e-08) r (rel) = 0.210829(tol = 1e-08)\n",
      "2024-04-07 15:35:21.888 (  15.157s) [main            ]              petsc.cpp:698   INFO| PETSc Krylov solver starting to solve system.\n",
      "2024-04-07 15:35:22.059 (  15.329s) [main            ]       NewtonSolver.cpp:36    INFO| Newton iteration 3: r (abs) = 45.9292 (tol = 1e-08) r (rel) = 0.0895002(tol = 1e-08)\n",
      "2024-04-07 15:35:22.543 (  15.812s) [main            ]              petsc.cpp:698   INFO| PETSc Krylov solver starting to solve system.\n",
      "2024-04-07 15:35:22.712 (  15.981s) [main            ]       NewtonSolver.cpp:36    INFO| Newton iteration 4: r (abs) = 6.53646 (tol = 1e-08) r (rel) = 0.0127373(tol = 1e-08)\n",
      "2024-04-07 15:35:23.207 (  16.477s) [main            ]              petsc.cpp:698   INFO| PETSc Krylov solver starting to solve system.\n",
      "2024-04-07 15:35:23.382 (  16.652s) [main            ]       NewtonSolver.cpp:36    INFO| Newton iteration 5: r (abs) = 0.117993 (tol = 1e-08) r (rel) = 0.000229929(tol = 1e-08)\n",
      "2024-04-07 15:35:23.894 (  17.164s) [main            ]              petsc.cpp:698   INFO| PETSc Krylov solver starting to solve system.\n",
      "2024-04-07 15:35:24.063 (  17.333s) [main            ]       NewtonSolver.cpp:36    INFO| Newton iteration 6: r (abs) = 4.46587e-05 (tol = 1e-08) r (rel) = 8.70245e-08(tol = 1e-08)\n",
      "2024-04-07 15:35:24.538 (  17.807s) [main            ]              petsc.cpp:698   INFO| PETSc Krylov solver starting to solve system.\n",
      "2024-04-07 15:35:24.701 (  17.971s) [main            ]       NewtonSolver.cpp:36    INFO| Newton iteration 7: r (abs) = 8.43424e-12 (tol = 1e-08) r (rel) = 1.64354e-14(tol = 1e-08)\n",
      "2024-04-07 15:35:24.701 (  17.971s) [main            ]       NewtonSolver.cpp:255   INFO| Newton solver finished in 7 iterations and 7 linear solver iterations.\n"
     ]
    },
    {
     "name": "stdout",
     "output_type": "stream",
     "text": [
      "Problem solved in 7 iterations.\n",
      "Finite element is CG\n",
      "Starting nonlinear problem with previous guess.\n",
      "p_val = 0.5\n"
     ]
    },
    {
     "name": "stderr",
     "output_type": "stream",
     "text": [
      "2024-04-07 15:35:25.403 (  18.673s) [main            ]              petsc.cpp:698   INFO| PETSc Krylov solver starting to solve system.\n",
      "2024-04-07 15:35:26.091 (  19.360s) [main            ]              petsc.cpp:698   INFO| PETSc Krylov solver starting to solve system.\n",
      "2024-04-07 15:35:26.255 (  19.525s) [main            ]       NewtonSolver.cpp:36    INFO| Newton iteration 2: r (abs) = 17.1968 (tol = 1e-08) r (rel) = 0.0947052(tol = 1e-08)\n",
      "2024-04-07 15:35:26.724 (  19.994s) [main            ]              petsc.cpp:698   INFO| PETSc Krylov solver starting to solve system.\n",
      "2024-04-07 15:35:26.904 (  20.173s) [main            ]       NewtonSolver.cpp:36    INFO| Newton iteration 3: r (abs) = 0.51495 (tol = 1e-08) r (rel) = 0.0028359(tol = 1e-08)\n",
      "2024-04-07 15:35:27.413 (  20.682s) [main            ]              petsc.cpp:698   INFO| PETSc Krylov solver starting to solve system.\n",
      "2024-04-07 15:35:27.581 (  20.851s) [main            ]       NewtonSolver.cpp:36    INFO| Newton iteration 4: r (abs) = 0.000634002 (tol = 1e-08) r (rel) = 3.49154e-06(tol = 1e-08)\n",
      "2024-04-07 15:35:28.077 (  21.346s) [main            ]              petsc.cpp:698   INFO| PETSc Krylov solver starting to solve system.\n",
      "2024-04-07 15:35:28.262 (  21.532s) [main            ]       NewtonSolver.cpp:36    INFO| Newton iteration 5: r (abs) = 2.00329e-09 (tol = 1e-08) r (rel) = 1.10324e-11(tol = 1e-08)\n",
      "2024-04-07 15:35:28.262 (  21.532s) [main            ]       NewtonSolver.cpp:255   INFO| Newton solver finished in 5 iterations and 5 linear solver iterations.\n"
     ]
    },
    {
     "name": "stdout",
     "output_type": "stream",
     "text": [
      "Problem solved in 5 iterations.\n",
      "Finite element is CG\n",
      "Starting nonlinear problem with previous guess.\n",
      "p_val = 0.75\n"
     ]
    },
    {
     "name": "stderr",
     "output_type": "stream",
     "text": [
      "2024-04-07 15:35:28.973 (  22.242s) [main            ]              petsc.cpp:698   INFO| PETSc Krylov solver starting to solve system.\n",
      "2024-04-07 15:35:29.661 (  22.931s) [main            ]              petsc.cpp:698   INFO| PETSc Krylov solver starting to solve system.\n",
      "2024-04-07 15:35:29.833 (  23.102s) [main            ]       NewtonSolver.cpp:36    INFO| Newton iteration 2: r (abs) = 8.2552 (tol = 1e-08) r (rel) = 0.0622321(tol = 1e-08)\n",
      "2024-04-07 15:35:30.305 (  23.574s) [main            ]              petsc.cpp:698   INFO| PETSc Krylov solver starting to solve system.\n",
      "2024-04-07 15:35:30.469 (  23.739s) [main            ]       NewtonSolver.cpp:36    INFO| Newton iteration 3: r (abs) = 0.0960628 (tol = 1e-08) r (rel) = 0.000724173(tol = 1e-08)\n",
      "2024-04-07 15:35:30.946 (  24.216s) [main            ]              petsc.cpp:698   INFO| PETSc Krylov solver starting to solve system.\n",
      "2024-04-07 15:35:31.113 (  24.382s) [main            ]       NewtonSolver.cpp:36    INFO| Newton iteration 4: r (abs) = 2.68908e-05 (tol = 1e-08) r (rel) = 2.02718e-07(tol = 1e-08)\n",
      "2024-04-07 15:35:31.584 (  24.853s) [main            ]              petsc.cpp:698   INFO| PETSc Krylov solver starting to solve system.\n",
      "2024-04-07 15:35:31.772 (  25.041s) [main            ]       NewtonSolver.cpp:36    INFO| Newton iteration 5: r (abs) = 4.27313e-12 (tol = 1e-08) r (rel) = 3.22131e-14(tol = 1e-08)\n",
      "2024-04-07 15:35:31.772 (  25.041s) [main            ]       NewtonSolver.cpp:255   INFO| Newton solver finished in 5 iterations and 5 linear solver iterations.\n"
     ]
    },
    {
     "name": "stdout",
     "output_type": "stream",
     "text": [
      "Problem solved in 5 iterations.\n",
      "Finite element is CG\n",
      "Starting nonlinear problem with previous guess.\n",
      "p_val = 1.0\n"
     ]
    },
    {
     "name": "stderr",
     "output_type": "stream",
     "text": [
      "2024-04-07 15:35:32.579 (  25.849s) [main            ]              petsc.cpp:698   INFO| PETSc Krylov solver starting to solve system.\n",
      "2024-04-07 15:35:33.402 (  26.672s) [main            ]              petsc.cpp:698   INFO| PETSc Krylov solver starting to solve system.\n",
      "2024-04-07 15:35:33.656 (  26.926s) [main            ]       NewtonSolver.cpp:36    INFO| Newton iteration 2: r (abs) = 5.22716 (tol = 1e-08) r (rel) = 0.0476907(tol = 1e-08)\n",
      "2024-04-07 15:35:34.240 (  27.510s) [main            ]              petsc.cpp:698   INFO| PETSc Krylov solver starting to solve system.\n",
      "2024-04-07 15:35:34.414 (  27.683s) [main            ]       NewtonSolver.cpp:36    INFO| Newton iteration 3: r (abs) = 0.0312206 (tol = 1e-08) r (rel) = 0.000284845(tol = 1e-08)\n",
      "2024-04-07 15:35:34.921 (  28.190s) [main            ]              petsc.cpp:698   INFO| PETSc Krylov solver starting to solve system.\n",
      "2024-04-07 15:35:35.096 (  28.366s) [main            ]       NewtonSolver.cpp:36    INFO| Newton iteration 4: r (abs) = 2.1726e-06 (tol = 1e-08) r (rel) = 1.98221e-08(tol = 1e-08)\n",
      "2024-04-07 15:35:35.604 (  28.874s) [main            ]              petsc.cpp:698   INFO| PETSc Krylov solver starting to solve system.\n",
      "2024-04-07 15:35:35.805 (  29.074s) [main            ]       NewtonSolver.cpp:36    INFO| Newton iteration 5: r (abs) = 6.70205e-13 (tol = 1e-08) r (rel) = 6.11471e-15(tol = 1e-08)\n",
      "2024-04-07 15:35:35.805 (  29.074s) [main            ]       NewtonSolver.cpp:255   INFO| Newton solver finished in 5 iterations and 5 linear solver iterations.\n"
     ]
    },
    {
     "name": "stdout",
     "output_type": "stream",
     "text": [
      "Problem solved in 5 iterations.\n",
      "Starting postprocessing.\n",
      "Finished postprocessing at t = 1.7742400169372559 s.\n"
     ]
    }
   ],
   "source": [
    "p_val = 0\n",
    "guess = model.GasExchange(domain, guess=None, save=False, \n",
    "                          plot=False, p_val = p_val, \n",
    "                          postprocess=False, plot_lines=False)\n",
    "N = 4\n",
    "for i in range(N):\n",
    "    p_val += 1/N\n",
    "    if i != N-1:\n",
    "        guess = model.GasExchange(domain, guess=guess, save=False, \n",
    "                                  plot=False, p_val = p_val, \n",
    "                                  postprocess=False, plot_lines=False)\n",
    "    else:\n",
    "        guess = model.GasExchange(domain, guess=guess, save=False, \n",
    "                                  plot=True, p_val = p_val, \n",
    "                                  postprocess=True, plot_lines=False)"
   ]
  },
  {
   "cell_type": "code",
   "execution_count": 12,
   "metadata": {},
   "outputs": [
    {
     "name": "stdout",
     "output_type": "stream",
     "text": [
      "flux in = -10239.99877917807\n",
      "flux out = 10239.988328932688\n"
     ]
    }
   ],
   "source": [
    "flux_in = calculate_flux(domain, model.ds, 1, fem.Constant(domain, dolfinx.default_real_type(1.0)), model.u, model.n)\n",
    "print(f\"flux in = {flux_in}\")\n",
    "\n",
    "flux_out = calculate_flux(domain, model.ds, 2, fem.Constant(domain, dolfinx.default_real_type(1.0)), model.u, model.n)\n",
    "print(f\"flux out = {flux_out}\")"
   ]
  },
  {
   "cell_type": "code",
   "execution_count": 13,
   "metadata": {},
   "outputs": [
    {
     "ename": "AttributeError",
     "evalue": "'PerfusionGasExchangeModel' object has no attribute 'c_O2'",
     "output_type": "error",
     "traceback": [
      "\u001b[0;31m---------------------------------------------------------------------------\u001b[0m",
      "\u001b[0;31mAttributeError\u001b[0m                            Traceback (most recent call last)",
      "Cell \u001b[0;32mIn[13], line 1\u001b[0m\n\u001b[0;32m----> 1\u001b[0m term1 \u001b[38;5;241m=\u001b[39m calculate_integral_over_domain(domain, model\u001b[38;5;241m.\u001b[39mdx, ufl\u001b[38;5;241m.\u001b[39minner(model\u001b[38;5;241m.\u001b[39mu, ufl\u001b[38;5;241m.\u001b[39mgrad(\u001b[43mmodel\u001b[49m\u001b[38;5;241;43m.\u001b[39;49m\u001b[43mc_O2\u001b[49m)))\n\u001b[1;32m      2\u001b[0m term1 \u001b[38;5;241m=\u001b[39m term1 \u001b[38;5;241m*\u001b[39m \u001b[38;5;241m60\u001b[39m \u001b[38;5;241m*\u001b[39m \u001b[38;5;241m22400\u001b[39m \u001b[38;5;241m/\u001b[39m (model\u001b[38;5;241m.\u001b[39mt_params[\u001b[38;5;124m'\u001b[39m\u001b[38;5;124mp_O2_air\u001b[39m\u001b[38;5;124m'\u001b[39m] \u001b[38;5;241m-\u001b[39m model\u001b[38;5;241m.\u001b[39mt_params[\u001b[38;5;124m'\u001b[39m\u001b[38;5;124mp_O2_in\u001b[39m\u001b[38;5;124m'\u001b[39m]) \n\u001b[1;32m      3\u001b[0m term1\n",
      "\u001b[0;31mAttributeError\u001b[0m: 'PerfusionGasExchangeModel' object has no attribute 'c_O2'"
     ]
    }
   ],
   "source": [
    "term1 = calculate_integral_over_domain(domain, model.dx, ufl.inner(model.u, ufl.grad(model.c_O2)))\n",
    "term1 = term1 * 60 * 22400 / (model.t_params['p_O2_air'] - model.t_params['p_O2_in']) \n",
    "term1"
   ]
  },
  {
   "cell_type": "code",
   "execution_count": null,
   "metadata": {},
   "outputs": [
    {
     "data": {
      "text/plain": [
       "1620.0"
      ]
     },
     "execution_count": 55,
     "metadata": {},
     "output_type": "execute_result"
    }
   ],
   "source": [
    "model.t_params['d_pla_O2']"
   ]
  },
  {
   "cell_type": "code",
   "execution_count": null,
   "metadata": {},
   "outputs": [
    {
     "data": {
      "text/plain": [
       "0.0"
      ]
     },
     "execution_count": 54,
     "metadata": {},
     "output_type": "execute_result"
    }
   ],
   "source": [
    "term2 = calculate_integral_over_domain(domain, model.dx, -model.t_params['d_pla_O2']*ufl.div(ufl.grad(model.c_O2)))\n",
    "term2"
   ]
  },
  {
   "cell_type": "code",
   "execution_count": null,
   "metadata": {},
   "outputs": [
    {
     "data": {
      "text/plain": [
       "-9.990850430567725e-12"
      ]
     },
     "execution_count": 53,
     "metadata": {},
     "output_type": "execute_result"
    }
   ],
   "source": [
    "u = calculate_integral_over_surface(domain, model.ds, [1,2,3], ufl.inner(-1*model.t_params['d_pla_O2']*ufl.grad(model.c_O2), model.n))\n",
    "u"
   ]
  },
  {
   "cell_type": "code",
   "execution_count": 14,
   "metadata": {},
   "outputs": [
    {
     "name": "stdout",
     "output_type": "stream",
     "text": [
      "63.99999999999963\n",
      "flux_ref_in = 10239.999999999942\n"
     ]
    }
   ],
   "source": [
    "area = calculate_area(domain, model.ds, 1)\n",
    "print(area)\n",
    "flux_ref_in = area * model.p_params[\"uin\"]\n",
    "print(f\"flux_ref_in = {flux_ref_in}\")"
   ]
  },
  {
   "cell_type": "code",
   "execution_count": null,
   "metadata": {},
   "outputs": [
    {
     "name": "stdout",
     "output_type": "stream",
     "text": [
      "num_cells_local = [    0     2     4 ... 48125 48126 48127]\n"
     ]
    },
    {
     "data": {
      "application/vnd.jupyter.widget-view+json": {
       "model_id": "7bd6b99126c14fd29b303f131633941a",
       "version_major": 2,
       "version_minor": 0
      },
      "text/plain": [
       "Widget(value=\"<iframe src='http://localhost:34871/index.html?ui=P_0x7f33daf8d390_0&reconnect=auto' style='widt…"
      ]
     },
     "metadata": {},
     "output_type": "display_data"
    }
   ],
   "source": [
    "# Filter out ghosted cells\n",
    "num_cells_local = mesh.locate_entities_boundary(domain, fdim, all)\n",
    "print(f\"num_cells_local = {num_cells_local}\")\n",
    "marker = np.zeros(np.max(num_cells_local)+1, dtype=np.int32) \n",
    "# marker[right_facets] = 1\n",
    "# marker[left_facets] = 2\n",
    "# marker[top_facets] = 3\n",
    "# marker[bottom_facets] = 4\n",
    "marker[front_facets] = 5\n",
    "marker[back_facets] = 10\n",
    "marker[air_facets] = 0\n",
    "\n",
    "topology, cell_types, x = dolfinx.plot.vtk_mesh(domain, fdim, np.arange(np.max(num_cells_local)+1, dtype=np.int32))\n",
    "\n",
    "p = pyvista.Plotter(window_size=[800, 800])\n",
    "grid = pyvista.UnstructuredGrid(topology, cell_types, x)\n",
    "grid.cell_data[\"Marker\"] = marker\n",
    "grid.set_active_scalars(\"Marker\")\n",
    "p.add_mesh(grid, show_edges=True)\n",
    "if pyvista.OFF_SCREEN:\n",
    "    figure = p.screenshot(\"subdomains_structured.png\")\n",
    "p.show()"
   ]
  },
  {
   "cell_type": "code",
   "execution_count": null,
   "metadata": {},
   "outputs": [
    {
     "data": {
      "text/plain": [
       "(3712,)"
      ]
     },
     "execution_count": 78,
     "metadata": {},
     "output_type": "execute_result"
    }
   ],
   "source": [
    "air_facets.shape"
   ]
  },
  {
   "cell_type": "code",
   "execution_count": null,
   "metadata": {},
   "outputs": [
    {
     "data": {
      "text/plain": [
       "array([44596, 44597, 44598, 44824, 44825, 45019, 45026, 45027, 45057,\n",
       "       45058, 45360, 45361, 45374, 45375, 45570, 45571, 45584, 45585,\n",
       "       45746, 45753, 45754, 45808, 45809, 45866, 45867, 46048, 46049,\n",
       "       46076, 46077, 46114, 46115, 46229, 46230, 46257, 46258, 46295,\n",
       "       46379, 46386, 46387, 46441, 46442, 46513, 46514, 46635, 46636,\n",
       "       46663, 46664, 46719, 46787, 46788, 46815, 46816, 46912, 46919,\n",
       "       46920, 46974, 46975, 47024, 47025, 47122, 47123, 47150, 47151,\n",
       "       47194, 47246, 47247, 47274, 47275, 47347, 47354, 47355, 47404,\n",
       "       47405, 47437, 47438, 47511, 47512, 47539, 47540, 47571, 47607,\n",
       "       47608, 47635, 47636, 47684, 47691, 47692, 47724, 47725, 47752,\n",
       "       47753, 47802, 47803, 47823, 47824, 47850, 47870, 47871, 47891,\n",
       "       47892, 47923, 47930, 47931, 47941, 47942, 47962, 47963, 47995,\n",
       "       47996, 48004, 48005, 48024, 48035, 48036, 48044, 48045, 48065,\n",
       "       48066, 48074, 48075, 48095, 48096, 48103, 48110, 48111, 48119,\n",
       "       48120, 48127], dtype=int32)"
      ]
     },
     "execution_count": 90,
     "metadata": {},
     "output_type": "execute_result"
    }
   ],
   "source": [
    "facet_tag.find(6)"
   ]
  },
  {
   "cell_type": "code",
   "execution_count": null,
   "metadata": {},
   "outputs": [
    {
     "data": {
      "text/plain": [
       "array([   23,    27,    32, ..., 48091, 48092, 48104], dtype=int32)"
      ]
     },
     "execution_count": 89,
     "metadata": {},
     "output_type": "execute_result"
    }
   ],
   "source": [
    "facet_tag.find(7)"
   ]
  },
  {
   "cell_type": "code",
   "execution_count": null,
   "metadata": {},
   "outputs": [],
   "source": [
    "p_O2_in = 40                   # mmHg\n",
    "front_dofs_O2 = fem.locate_dofs_topological(V.sub(0), model.facet_tag.dim, model.facet_tag.find(5)) # Gamma_in\n",
    "bc_O2 = fem.dirichletbc(dolfinx.default_scalar_type(p_O2_in), front_dofs_O2, V.sub(0))"
   ]
  },
  {
   "cell_type": "code",
   "execution_count": null,
   "metadata": {},
   "outputs": [
    {
     "data": {
      "text/plain": [
       "array([   0,    1,    2,   10,   12,   20,   22,   28,   32,   34,   42,\n",
       "         46,   48,   62,   66,   68,   76,   82,   86,   88,   96,  104,\n",
       "        108,  110,  128,  136,  140,  148,  154,  162,  172,  180,  188,\n",
       "        210,  218,  224,  236,  242,  250,  264,  274,  282,  310,  320,\n",
       "        326,  340,  348,  358,  376,  386,  394,  430,  440,  446,  464,\n",
       "        474,  484,  504,  518,  524,  566,  578,  584,  606,  616,  628,\n",
       "        652,  666,  672,  722,  734,  740,  776,  788,  828,  834,  898,\n",
       "        904,  954, 1000, 1070], dtype=int32)"
      ]
     },
     "execution_count": 44,
     "metadata": {},
     "output_type": "execute_result"
    }
   ],
   "source": [
    "front_dofs_O2"
   ]
  },
  {
   "cell_type": "code",
   "execution_count": null,
   "metadata": {},
   "outputs": [],
   "source": [
    "front_dofs_CO2 = fem.locate_dofs_topological(V.sub(1), model.facet_tag.dim, model.facet_tag.find(5))"
   ]
  },
  {
   "cell_type": "code",
   "execution_count": null,
   "metadata": {},
   "outputs": [
    {
     "data": {
      "text/plain": [
       "array([   4,    5,    6,   11,   14,   21,   24,   29,   33,   36,   43,\n",
       "         47,   50,   63,   67,   70,   77,   83,   87,   90,   97,  105,\n",
       "        109,  112,  129,  137,  141,  149,  155,  163,  173,  181,  189,\n",
       "        211,  219,  225,  237,  243,  251,  265,  275,  283,  311,  321,\n",
       "        327,  341,  349,  359,  377,  387,  395,  431,  441,  447,  465,\n",
       "        475,  485,  505,  519,  525,  567,  579,  585,  607,  617,  629,\n",
       "        653,  667,  673,  723,  735,  741,  777,  789,  829,  835,  899,\n",
       "        905,  955, 1001, 1071], dtype=int32)"
      ]
     },
     "execution_count": 46,
     "metadata": {},
     "output_type": "execute_result"
    }
   ],
   "source": [
    "front_dofs_CO2"
   ]
  },
  {
   "cell_type": "code",
   "execution_count": null,
   "metadata": {},
   "outputs": [],
   "source": [
    "W = fem.FunctionSpace(domain, (\"Lagrange\", 1))"
   ]
  },
  {
   "cell_type": "code",
   "execution_count": null,
   "metadata": {},
   "outputs": [],
   "source": [
    "# f1 = fem.Function(W)\n",
    "# f2 = fem.Function(W)\n",
    "# f1mf2 = fem.Expression(f1-f2, W.element.interpolation_points())\n",
    "\n",
    "p_XY = fem.Function(V)"
   ]
  },
  {
   "cell_type": "code",
   "execution_count": null,
   "metadata": {},
   "outputs": [],
   "source": [
    "alpha_CO2 = fem.Constant(domain, dolfinx.default_scalar_type(3.27E-5))             # M mmHg^-1\n",
    "alpha_O2 = fem.Constant(domain, dolfinx.default_scalar_type(1.46E-6))              # M mmHg^-1\n",
    "\n",
    "K2p = fem.Constant(domain, dolfinx.default_scalar_type(21.5))                      # M^-1\n",
    "K2pp = fem.Constant(domain, dolfinx.default_scalar_type(1E-6))                     # M\n",
    "K3p = fem.Constant(domain, dolfinx.default_scalar_type(11.3))                      # M^-1\n",
    "K3pp = fem.Constant(domain, dolfinx.default_scalar_type(1E-6))                     # M\n",
    "K5pp = fem.Constant(domain, dolfinx.default_scalar_type(2.63E-8))                  # M\n",
    "K6pp = fem.Constant(domain, dolfinx.default_scalar_type(1.91E-8))                  # M\n",
    "\n",
    "# Red blood cell pH (with pH_plasma = 7.4).\n",
    "pH_rbc = 7.24\n",
    "c_H = fem.Constant(domain, dolfinx.default_scalar_type(10**(-pH_rbc)))\n",
    "\n",
    "# Variables defined in Dash & Bassingthwaighte (2016).\n",
    "\n",
    "phi_1 = fem.Constant(domain, dolfinx.default_scalar_type(1 + (K2pp/c_H)))\n",
    "phi_2 = fem.Constant(domain, dolfinx.default_scalar_type(1 + (K3pp/c_H)))\n",
    "phi_3 = fem.Constant(domain, dolfinx.default_scalar_type(1 + (c_H/K5pp)))\n",
    "phi_4 = fem.Constant(domain, dolfinx.default_scalar_type(1 + (c_H/K6pp)))"
   ]
  }
 ],
 "metadata": {
  "kernelspec": {
   "display_name": "Python 3",
   "language": "python",
   "name": "python3"
  },
  "language_info": {
   "codemirror_mode": {
    "name": "ipython",
    "version": 3
   },
   "file_extension": ".py",
   "mimetype": "text/x-python",
   "name": "python",
   "nbconvert_exporter": "python",
   "pygments_lexer": "ipython3",
   "version": "3.10.12"
  }
 },
 "nbformat": 4,
 "nbformat_minor": 2
}
