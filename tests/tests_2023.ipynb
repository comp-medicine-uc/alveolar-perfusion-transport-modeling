{
 "cells": [
  {
   "cell_type": "code",
   "execution_count": 106,
   "metadata": {},
   "outputs": [
    {
     "name": "stdout",
     "output_type": "stream",
     "text": [
      "The autoreload extension is already loaded. To reload it, use:\n",
      "  %reload_ext autoreload\n"
     ]
    }
   ],
   "source": [
    "import numpy as np\n",
    "import matplotlib.pyplot as plt\n",
    "import pyvista\n",
    "import ufl\n",
    "import time\n",
    "from mpi4py import MPI\n",
    "from petsc4py import PETSc\n",
    "# import dolfinx\n",
    "from dolfinx import fem, mesh, plot, nls, log, io\n",
    "from dolfinx import cpp as _cpp\n",
    "import meshio\n",
    "import os\n",
    "%load_ext autoreload\n",
    "%autoreload 2\n",
    "\n",
    "# print(dolfinx.__version__)"
   ]
  },
  {
   "cell_type": "code",
   "execution_count": 107,
   "metadata": {},
   "outputs": [],
   "source": [
    "from utils import *\n",
    "from model import *"
   ]
  },
  {
   "cell_type": "code",
   "execution_count": 108,
   "metadata": {},
   "outputs": [],
   "source": [
    "# Slab domain (single capillary)\n",
    "vertex = [8,8,120]\n",
    "num_nodes = [8,8,60]\n",
    "domain = mesh.create_box(MPI.COMM_WORLD, [[0.0, 0.0, 0.0], vertex], num_nodes, mesh.CellType.tetrahedron) "
   ]
  },
  {
   "cell_type": "code",
   "execution_count": 109,
   "metadata": {},
   "outputs": [],
   "source": [
    "# plot_mesh(domain)"
   ]
  },
  {
   "cell_type": "code",
   "execution_count": 110,
   "metadata": {},
   "outputs": [],
   "source": [
    "results_folder = r\"../../results-data/\"\n",
    "exp_folder = \"slab_test\""
   ]
  },
  {
   "cell_type": "code",
   "execution_count": 111,
   "metadata": {},
   "outputs": [],
   "source": [
    "model = PerfusionGasExchangeModel(mesh_path=None,\n",
    "                                  results_path=results_folder,\n",
    "                                  exp_path=exp_folder,\n",
    "                                  params=None)"
   ]
  },
  {
   "cell_type": "code",
   "execution_count": 112,
   "metadata": {},
   "outputs": [
    {
     "name": "stdout",
     "output_type": "stream",
     "text": [
      "max_dims = [  8.   8. 120.]\n",
      "min_dims = [0. 0. 0.]\n"
     ]
    }
   ],
   "source": [
    "model.Setup(domain)\n",
    "model.parameter_setup()"
   ]
  },
  {
   "cell_type": "code",
   "execution_count": 113,
   "metadata": {},
   "outputs": [],
   "source": [
    "# p, u = model.Perfusion(domain, plot=True, save=True)"
   ]
  },
  {
   "cell_type": "code",
   "execution_count": 114,
   "metadata": {},
   "outputs": [
    {
     "data": {
      "text/plain": [
       "'../../results-data/slab_test'"
      ]
     },
     "execution_count": 114,
     "metadata": {},
     "output_type": "execute_result"
    }
   ],
   "source": [
    "model.results_path"
   ]
  },
  {
   "cell_type": "code",
   "execution_count": 115,
   "metadata": {},
   "outputs": [],
   "source": [
    "# model.GasExchange(domain, guess=None, save=True, plot=False)"
   ]
  },
  {
   "cell_type": "code",
   "execution_count": 116,
   "metadata": {},
   "outputs": [
    {
     "data": {
      "text/plain": [
       "3"
      ]
     },
     "execution_count": 116,
     "metadata": {},
     "output_type": "execute_result"
    }
   ],
   "source": [
    "domain.topology.dim"
   ]
  },
  {
   "cell_type": "code",
   "execution_count": 117,
   "metadata": {},
   "outputs": [],
   "source": [
    "P1 = ufl.FiniteElement(\"Lagrange\", domain.ufl_cell(), 1)\n",
    "V = fem.FunctionSpace(domain, P1*P1)\n",
    "p_XY = fem.Function(V)\n",
    "p_O2, p_CO2 = p_XY.split()"
   ]
  },
  {
   "cell_type": "code",
   "execution_count": 118,
   "metadata": {},
   "outputs": [],
   "source": [
    "ds = ufl.Measure('ds', domain=domain, \n",
    "                 subdomain_data=model.facet_tag, \n",
    "                 metadata={'quadrature_degree': 2})"
   ]
  },
  {
   "cell_type": "code",
   "execution_count": 119,
   "metadata": {},
   "outputs": [
    {
     "data": {
      "text/plain": [
       "FunctionSpace(Mesh(blocked element (Basix element (P, tetrahedron, 1, gll_warped, unset, False), (3,)), 4), MixedElement(FiniteElement('Lagrange', tetrahedron, 1), FiniteElement('Lagrange', tetrahedron, 1)))"
      ]
     },
     "execution_count": 119,
     "metadata": {},
     "output_type": "execute_result"
    }
   ],
   "source": [
    "V"
   ]
  },
  {
   "cell_type": "code",
   "execution_count": 120,
   "metadata": {},
   "outputs": [
    {
     "data": {
      "text/plain": [
       "FunctionSpace(Mesh(blocked element (Basix element (P, tetrahedron, 1, gll_warped, unset, False), (3,)), 4), FiniteElement('Lagrange', tetrahedron, 1))"
      ]
     },
     "execution_count": 120,
     "metadata": {},
     "output_type": "execute_result"
    }
   ],
   "source": [
    "V.sub(0)"
   ]
  },
  {
   "cell_type": "code",
   "execution_count": 121,
   "metadata": {},
   "outputs": [
    {
     "data": {
      "text/plain": [
       "FunctionSpace(Mesh(blocked element (Basix element (P, tetrahedron, 1, gll_warped, unset, False), (3,)), 4), FiniteElement('Lagrange', tetrahedron, 1))"
      ]
     },
     "execution_count": 121,
     "metadata": {},
     "output_type": "execute_result"
    }
   ],
   "source": [
    "V.sub(1)"
   ]
  },
  {
   "cell_type": "code",
   "execution_count": 122,
   "metadata": {},
   "outputs": [
    {
     "name": "stdout",
     "output_type": "stream",
     "text": [
      "max_dims = [  8.   8. 120.]\n",
      "min_dims = [0. 0. 0.]\n"
     ]
    }
   ],
   "source": [
    "topology, cells, geometry = plot.vtk_mesh(domain, domain.topology.dim)\n",
    "\n",
    "max_dims = np.around([max(geometry[:,0]), max(geometry[:,1]), max(geometry[:,2])], 5)\n",
    "min_dims = np.around([min(geometry[:,0]), min(geometry[:,1]), min(geometry[:,2])], 5)\n",
    "\n",
    "print(f\"max_dims = {max_dims}\")\n",
    "print(f\"min_dims = {min_dims}\")"
   ]
  },
  {
   "cell_type": "code",
   "execution_count": 157,
   "metadata": {},
   "outputs": [],
   "source": [
    "atol = 1E-10\n",
    "def right(x):\n",
    "    return np.isclose(x[0], min_dims[0], atol=atol)\n",
    "def left(x):\n",
    "    return np.isclose(x[0], max_dims[0], atol=atol)\n",
    "def top(x):\n",
    "    return np.isclose(x[1], min_dims[1], atol=atol)\n",
    "def bottom(x):\n",
    "    return np.isclose(x[1], max_dims[1], atol=atol)\n",
    "def front(x):\n",
    "    return np.isclose(x[2], min_dims[2], atol=atol)\n",
    "def back(x):\n",
    "    return np.isclose(x[2], max_dims[2], atol=atol)\n",
    "def all(x):\n",
    "    return np.full(x.shape[1], True, dtype=bool)\n",
    "def air(x):\n",
    "    return np.logical_and(all(x), np.logical_not(np.logical_or(front(x), back(x))))\n",
    "\n",
    "\n",
    "fdim = domain.topology.dim -1\n",
    "\n",
    "right_facets = mesh.locate_entities_boundary(domain, fdim, right)\n",
    "left_facets = mesh.locate_entities_boundary(domain, fdim, left)\n",
    "top_facets = mesh.locate_entities_boundary(domain, fdim, top)\n",
    "bottom_facets = mesh.locate_entities_boundary(domain, fdim, bottom)\n",
    "front_facets = mesh.locate_entities_boundary(domain, fdim, front)\n",
    "back_facets = mesh.locate_entities_boundary(domain, fdim, back)\n",
    "air_facets = mesh.locate_entities_boundary(domain, fdim, air)\n",
    "\n",
    "\n",
    "marked_facets = np.hstack([right_facets, left_facets, top_facets, bottom_facets, front_facets, back_facets, air_facets])\n",
    "marked_values = np.hstack([np.full_like(right_facets, 1), np.full_like(left_facets, 2),\n",
    "                            np.full_like(top_facets, 3), np.full_like(bottom_facets, 4),\n",
    "                            np.full_like(front_facets, 5), np.full_like(back_facets, 6),\n",
    "                            np.full_like(air_facets, 7)])\n",
    "\n",
    "sorted_facets = np.argsort(marked_facets)\n",
    "facet_tag = mesh.meshtags(domain, model.fdim, marked_facets[sorted_facets], marked_values[sorted_facets])"
   ]
  },
  {
   "cell_type": "code",
   "execution_count": 158,
   "metadata": {},
   "outputs": [
    {
     "data": {
      "text/plain": [
       "array([44596, 44597, 44598, 44824, 44825, 45019, 45026, 45027, 45057,\n",
       "       45058, 45360, 45361, 45374, 45375, 45570, 45571, 45584, 45585,\n",
       "       45746, 45753, 45754, 45808, 45809, 45866, 45867, 46048, 46049,\n",
       "       46076, 46077, 46114, 46115, 46229, 46230, 46257, 46258, 46295,\n",
       "       46379, 46386, 46387, 46441, 46442, 46513, 46514, 46635, 46636,\n",
       "       46663, 46664, 46719, 46787, 46788, 46815, 46816, 46912, 46919,\n",
       "       46920, 46974, 46975, 47024, 47025, 47122, 47123, 47150, 47151,\n",
       "       47194, 47246, 47247, 47274, 47275, 47347, 47354, 47355, 47404,\n",
       "       47405, 47437, 47438, 47511, 47512, 47539, 47540, 47571, 47607,\n",
       "       47608, 47635, 47636, 47684, 47691, 47692, 47724, 47725, 47752,\n",
       "       47753, 47802, 47803, 47823, 47824, 47850, 47870, 47871, 47891,\n",
       "       47892, 47923, 47930, 47931, 47941, 47942, 47962, 47963, 47995,\n",
       "       47996, 48004, 48005, 48024, 48035, 48036, 48044, 48045, 48065,\n",
       "       48066, 48074, 48075, 48095, 48096, 48103, 48110, 48111, 48119,\n",
       "       48120, 48127], dtype=int32)"
      ]
     },
     "execution_count": 158,
     "metadata": {},
     "output_type": "execute_result"
    }
   ],
   "source": [
    "back_facets"
   ]
  },
  {
   "cell_type": "code",
   "execution_count": 160,
   "metadata": {},
   "outputs": [
    {
     "name": "stdout",
     "output_type": "stream",
     "text": [
      "num_cells_local = [    0     2     4 ... 48125 48126 48127]\n"
     ]
    },
    {
     "data": {
      "application/vnd.jupyter.widget-view+json": {
       "model_id": "7bd6b99126c14fd29b303f131633941a",
       "version_major": 2,
       "version_minor": 0
      },
      "text/plain": [
       "Widget(value=\"<iframe src='http://localhost:34871/index.html?ui=P_0x7f33daf8d390_0&reconnect=auto' style='widt…"
      ]
     },
     "metadata": {},
     "output_type": "display_data"
    }
   ],
   "source": [
    "# Filter out ghosted cells\n",
    "num_cells_local = mesh.locate_entities_boundary(domain, fdim, all)\n",
    "print(f\"num_cells_local = {num_cells_local}\")\n",
    "marker = np.zeros(np.max(num_cells_local)+1, dtype=np.int32) \n",
    "# marker[right_facets] = 1\n",
    "# marker[left_facets] = 2\n",
    "# marker[top_facets] = 3\n",
    "# marker[bottom_facets] = 4\n",
    "marker[front_facets] = 5\n",
    "marker[back_facets] = 10\n",
    "marker[air_facets] = 0\n",
    "\n",
    "topology, cell_types, x = dolfinx.plot.vtk_mesh(domain, fdim, np.arange(np.max(num_cells_local)+1, dtype=np.int32))\n",
    "\n",
    "p = pyvista.Plotter(window_size=[800, 800])\n",
    "grid = pyvista.UnstructuredGrid(topology, cell_types, x)\n",
    "grid.cell_data[\"Marker\"] = marker\n",
    "grid.set_active_scalars(\"Marker\")\n",
    "p.add_mesh(grid, show_edges=True)\n",
    "if pyvista.OFF_SCREEN:\n",
    "    figure = p.screenshot(\"subdomains_structured.png\")\n",
    "p.show()"
   ]
  },
  {
   "cell_type": "code",
   "execution_count": null,
   "metadata": {},
   "outputs": [
    {
     "data": {
      "text/plain": [
       "(3712,)"
      ]
     },
     "execution_count": 78,
     "metadata": {},
     "output_type": "execute_result"
    }
   ],
   "source": [
    "air_facets.shape"
   ]
  },
  {
   "cell_type": "code",
   "execution_count": null,
   "metadata": {},
   "outputs": [
    {
     "data": {
      "text/plain": [
       "array([44596, 44597, 44598, 44824, 44825, 45019, 45026, 45027, 45057,\n",
       "       45058, 45360, 45361, 45374, 45375, 45570, 45571, 45584, 45585,\n",
       "       45746, 45753, 45754, 45808, 45809, 45866, 45867, 46048, 46049,\n",
       "       46076, 46077, 46114, 46115, 46229, 46230, 46257, 46258, 46295,\n",
       "       46379, 46386, 46387, 46441, 46442, 46513, 46514, 46635, 46636,\n",
       "       46663, 46664, 46719, 46787, 46788, 46815, 46816, 46912, 46919,\n",
       "       46920, 46974, 46975, 47024, 47025, 47122, 47123, 47150, 47151,\n",
       "       47194, 47246, 47247, 47274, 47275, 47347, 47354, 47355, 47404,\n",
       "       47405, 47437, 47438, 47511, 47512, 47539, 47540, 47571, 47607,\n",
       "       47608, 47635, 47636, 47684, 47691, 47692, 47724, 47725, 47752,\n",
       "       47753, 47802, 47803, 47823, 47824, 47850, 47870, 47871, 47891,\n",
       "       47892, 47923, 47930, 47931, 47941, 47942, 47962, 47963, 47995,\n",
       "       47996, 48004, 48005, 48024, 48035, 48036, 48044, 48045, 48065,\n",
       "       48066, 48074, 48075, 48095, 48096, 48103, 48110, 48111, 48119,\n",
       "       48120, 48127], dtype=int32)"
      ]
     },
     "execution_count": 90,
     "metadata": {},
     "output_type": "execute_result"
    }
   ],
   "source": [
    "facet_tag.find(6)"
   ]
  },
  {
   "cell_type": "code",
   "execution_count": null,
   "metadata": {},
   "outputs": [
    {
     "data": {
      "text/plain": [
       "array([   23,    27,    32, ..., 48091, 48092, 48104], dtype=int32)"
      ]
     },
     "execution_count": 89,
     "metadata": {},
     "output_type": "execute_result"
    }
   ],
   "source": [
    "facet_tag.find(7)"
   ]
  },
  {
   "cell_type": "code",
   "execution_count": null,
   "metadata": {},
   "outputs": [],
   "source": [
    "p_O2_in = 40                   # mmHg\n",
    "front_dofs_O2 = fem.locate_dofs_topological(V.sub(0), model.facet_tag.dim, model.facet_tag.find(5)) # Gamma_in\n",
    "bc_O2 = fem.dirichletbc(dolfinx.default_scalar_type(p_O2_in), front_dofs_O2, V.sub(0))"
   ]
  },
  {
   "cell_type": "code",
   "execution_count": null,
   "metadata": {},
   "outputs": [
    {
     "data": {
      "text/plain": [
       "array([   0,    1,    2,   10,   12,   20,   22,   28,   32,   34,   42,\n",
       "         46,   48,   62,   66,   68,   76,   82,   86,   88,   96,  104,\n",
       "        108,  110,  128,  136,  140,  148,  154,  162,  172,  180,  188,\n",
       "        210,  218,  224,  236,  242,  250,  264,  274,  282,  310,  320,\n",
       "        326,  340,  348,  358,  376,  386,  394,  430,  440,  446,  464,\n",
       "        474,  484,  504,  518,  524,  566,  578,  584,  606,  616,  628,\n",
       "        652,  666,  672,  722,  734,  740,  776,  788,  828,  834,  898,\n",
       "        904,  954, 1000, 1070], dtype=int32)"
      ]
     },
     "execution_count": 44,
     "metadata": {},
     "output_type": "execute_result"
    }
   ],
   "source": [
    "front_dofs_O2"
   ]
  },
  {
   "cell_type": "code",
   "execution_count": null,
   "metadata": {},
   "outputs": [],
   "source": [
    "front_dofs_CO2 = fem.locate_dofs_topological(V.sub(1), model.facet_tag.dim, model.facet_tag.find(5))"
   ]
  },
  {
   "cell_type": "code",
   "execution_count": null,
   "metadata": {},
   "outputs": [
    {
     "data": {
      "text/plain": [
       "array([   4,    5,    6,   11,   14,   21,   24,   29,   33,   36,   43,\n",
       "         47,   50,   63,   67,   70,   77,   83,   87,   90,   97,  105,\n",
       "        109,  112,  129,  137,  141,  149,  155,  163,  173,  181,  189,\n",
       "        211,  219,  225,  237,  243,  251,  265,  275,  283,  311,  321,\n",
       "        327,  341,  349,  359,  377,  387,  395,  431,  441,  447,  465,\n",
       "        475,  485,  505,  519,  525,  567,  579,  585,  607,  617,  629,\n",
       "        653,  667,  673,  723,  735,  741,  777,  789,  829,  835,  899,\n",
       "        905,  955, 1001, 1071], dtype=int32)"
      ]
     },
     "execution_count": 46,
     "metadata": {},
     "output_type": "execute_result"
    }
   ],
   "source": [
    "front_dofs_CO2"
   ]
  },
  {
   "cell_type": "code",
   "execution_count": null,
   "metadata": {},
   "outputs": [],
   "source": [
    "W = fem.FunctionSpace(domain, (\"Lagrange\", 1))"
   ]
  },
  {
   "cell_type": "code",
   "execution_count": null,
   "metadata": {},
   "outputs": [],
   "source": [
    "# f1 = fem.Function(W)\n",
    "# f2 = fem.Function(W)\n",
    "# f1mf2 = fem.Expression(f1-f2, W.element.interpolation_points())\n",
    "\n",
    "p_XY = fem.Function(V)"
   ]
  },
  {
   "cell_type": "code",
   "execution_count": null,
   "metadata": {},
   "outputs": [],
   "source": [
    "alpha_CO2 = fem.Constant(domain, dolfinx.default_scalar_type(3.27E-5))             # M mmHg^-1\n",
    "alpha_O2 = fem.Constant(domain, dolfinx.default_scalar_type(1.46E-6))              # M mmHg^-1\n",
    "\n",
    "K2p = fem.Constant(domain, dolfinx.default_scalar_type(21.5))                      # M^-1\n",
    "K2pp = fem.Constant(domain, dolfinx.default_scalar_type(1E-6))                     # M\n",
    "K3p = fem.Constant(domain, dolfinx.default_scalar_type(11.3))                      # M^-1\n",
    "K3pp = fem.Constant(domain, dolfinx.default_scalar_type(1E-6))                     # M\n",
    "K5pp = fem.Constant(domain, dolfinx.default_scalar_type(2.63E-8))                  # M\n",
    "K6pp = fem.Constant(domain, dolfinx.default_scalar_type(1.91E-8))                  # M\n",
    "\n",
    "# Red blood cell pH (with pH_plasma = 7.4).\n",
    "pH_rbc = 7.24\n",
    "c_H = fem.Constant(domain, dolfinx.default_scalar_type(10**(-pH_rbc)))\n",
    "\n",
    "# Variables defined in Dash & Bassingthwaighte (2016).\n",
    "\n",
    "phi_1 = fem.Constant(domain, dolfinx.default_scalar_type(1 + (K2pp/c_H)))\n",
    "phi_2 = fem.Constant(domain, dolfinx.default_scalar_type(1 + (K3pp/c_H)))\n",
    "phi_3 = fem.Constant(domain, dolfinx.default_scalar_type(1 + (c_H/K5pp)))\n",
    "phi_4 = fem.Constant(domain, dolfinx.default_scalar_type(1 + (c_H/K6pp)))"
   ]
  },
  {
   "cell_type": "code",
   "execution_count": null,
   "metadata": {},
   "outputs": [
    {
     "ename": "TypeError",
     "evalue": "unsupported operand type(s) for -: 'Expression' and 'int'",
     "output_type": "error",
     "traceback": [
      "\u001b[0;31m---------------------------------------------------------------------------\u001b[0m",
      "\u001b[0;31mTypeError\u001b[0m                                 Traceback (most recent call last)",
      "Cell \u001b[0;32mIn[50], line 13\u001b[0m\n\u001b[1;32m      9\u001b[0m gamma \u001b[38;5;241m=\u001b[39m fem\u001b[38;5;241m.\u001b[39mConstant(domain, dolfinx\u001b[38;5;241m.\u001b[39mdefault_scalar_type(\u001b[38;5;241m29.25\u001b[39m))\n\u001b[1;32m     11\u001b[0m nH \u001b[38;5;241m=\u001b[39m fem\u001b[38;5;241m.\u001b[39mExpression(alpha \u001b[38;5;241m-\u001b[39m beta\u001b[38;5;241m*\u001b[39m\u001b[38;5;241m10\u001b[39m\u001b[38;5;241m*\u001b[39m\u001b[38;5;241m*\u001b[39m(\u001b[38;5;241m-\u001b[39mp_O2\u001b[38;5;241m/\u001b[39mgamma),\n\u001b[1;32m     12\u001b[0m                     V\u001b[38;5;241m.\u001b[39msub(\u001b[38;5;241m1\u001b[39m)\u001b[38;5;241m.\u001b[39melement\u001b[38;5;241m.\u001b[39minterpolation_points())\n\u001b[0;32m---> 13\u001b[0m K4p \u001b[38;5;241m=\u001b[39m fem\u001b[38;5;241m.\u001b[39mExpression(((alpha_O2\u001b[38;5;241m*\u001b[39mp_O2)\u001b[38;5;241m*\u001b[39m\u001b[38;5;241m*\u001b[39m(\u001b[43mnH\u001b[49m\u001b[38;5;241;43m-\u001b[39;49m\u001b[38;5;241;43m1\u001b[39;49m))\u001b[38;5;241m*\u001b[39m(K2p\u001b[38;5;241m*\u001b[39malpha_CO2\u001b[38;5;241m*\u001b[39mp_CO2\u001b[38;5;241m*\u001b[39mphi_1 \u001b[38;5;241m+\u001b[39m phi_3)\u001b[38;5;241m/\u001b[39m(((alpha_O2\u001b[38;5;241m*\u001b[39mP50)\u001b[38;5;241m*\u001b[39m\u001b[38;5;241m*\u001b[39m(nH))\u001b[38;5;241m*\u001b[39m(K3p\u001b[38;5;241m*\u001b[39malpha_CO2\u001b[38;5;241m*\u001b[39mp_CO2\u001b[38;5;241m*\u001b[39mphi_2 \u001b[38;5;241m+\u001b[39m phi_4)),\n\u001b[1;32m     14\u001b[0m                      V\u001b[38;5;241m.\u001b[39msub())\n\u001b[1;32m     16\u001b[0m \u001b[38;5;66;03m# K_HbO2 = (K4p*(K3p*phi_2*alpha_CO2*P_CO2 + phi_4))\u001b[39;00m\n\u001b[1;32m     17\u001b[0m \u001b[38;5;66;03m# K_HbO2 /= (K2p*phi_1*alpha_CO2*P_CO2 + phi_3)\u001b[39;00m\n\u001b[1;32m     18\u001b[0m \n\u001b[0;32m   (...)\u001b[0m\n\u001b[1;32m     22\u001b[0m \u001b[38;5;66;03m# S_HbO2 = (K_HbO2*alpha_O2*P_O2)/(1+(K_HbO2*alpha_O2*P_O2))\u001b[39;00m\n\u001b[1;32m     23\u001b[0m \u001b[38;5;66;03m# S_HbCO2 = (K_HbCO2*alpha_CO2*P_CO2)/(1+(K_HbCO2*alpha_CO2*P_CO2))\u001b[39;00m\n",
      "\u001b[0;31mTypeError\u001b[0m: unsupported operand type(s) for -: 'Expression' and 'int'"
     ]
    }
   ],
   "source": [
    "P50_std = fem.Constant(domain, dolfinx.default_scalar_type(26.8))                  # mmHg\n",
    "P_CO2_std = fem.Constant(domain, dolfinx.default_scalar_type(40))                  # mmHg\n",
    "P50 = fem.Expression(P50_std + 1.273E-1*(p_CO2-P_CO2_std) + 1.083E-4*(p_CO2-P_CO2_std)**2,\n",
    "                    V.sub(0).element.interpolation_points())\n",
    "\n",
    "# Variable nH (Hill equation exponent), fit to data.\n",
    "alpha = fem.Constant(domain, dolfinx.default_scalar_type(2.82))\n",
    "beta = fem.Constant(domain, dolfinx.default_scalar_type(1.20))\n",
    "gamma = fem.Constant(domain, dolfinx.default_scalar_type(29.25))\n",
    "\n",
    "nH = fem.Expression(alpha - beta*10**(-p_O2/gamma),\n",
    "                    V.sub(1).element.interpolation_points())\n",
    "K4p = fem.Expression(((alpha_O2*p_O2)**(nH-1))*(K2p*alpha_CO2*p_CO2*phi_1 + phi_3)/(((alpha_O2*P50)**(nH))*(K3p*alpha_CO2*p_CO2*phi_2 + phi_4)),\n",
    "                     V.sub())\n",
    "\n",
    "# K_HbO2 = (K4p*(K3p*phi_2*alpha_CO2*P_CO2 + phi_4))\n",
    "# K_HbO2 /= (K2p*phi_1*alpha_CO2*P_CO2 + phi_3)\n",
    "\n",
    "# K_HbCO2 = (K2p*phi_1 + K3p*K4p*phi_2*alpha_O2*P_O2)\n",
    "# K_HbCO2 /= (phi_3 + K4p*phi_4*alpha_O2*P_O2)\n",
    "\n",
    "# S_HbO2 = (K_HbO2*alpha_O2*P_O2)/(1+(K_HbO2*alpha_O2*P_O2))\n",
    "# S_HbCO2 = (K_HbCO2*alpha_CO2*P_CO2)/(1+(K_HbCO2*alpha_CO2*P_CO2))"
   ]
  }
 ],
 "metadata": {
  "kernelspec": {
   "display_name": "Python 3",
   "language": "python",
   "name": "python3"
  },
  "language_info": {
   "codemirror_mode": {
    "name": "ipython",
    "version": 3
   },
   "file_extension": ".py",
   "mimetype": "text/x-python",
   "name": "python",
   "nbconvert_exporter": "python",
   "pygments_lexer": "ipython3",
   "version": "3.10.12"
  }
 },
 "nbformat": 4,
 "nbformat_minor": 2
}
