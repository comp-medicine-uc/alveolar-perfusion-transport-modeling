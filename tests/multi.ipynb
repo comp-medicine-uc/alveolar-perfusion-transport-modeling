{
 "cells": [
  {
   "cell_type": "code",
   "execution_count": null,
   "metadata": {},
   "outputs": [],
   "source": [
    "__author__ = 'biherrera'\n",
    "__email__ = 'biherrera@uc.cl'\n",
    "\n",
    "import sys\n",
    "import os\n",
    "import time\n",
    "sys.path.append(os.getcwd()[:-6])\n",
    "print(\"Relative path: \", os.getcwd()[:-6])\n",
    "import dolfin\n",
    "from fenics import *\n",
    "from src.model import PerfusionGasExchangeModel\n",
    "from src.params import params\n",
    "\n",
    "def run_model(name, fname, solver, preconditioner, boxmesh, max_dims, min_dims, n_jobs=1):\n",
    "    print(f\"Running model on {n_jobs} jobs.\")\n",
    "    print(\"Imported src files\")\n",
    "    print(\"Starting...\")\n",
    "    folder = fname + \"/\" + name\n",
    "    path = os.path.join(\"../local-results-data\", folder)\n",
    "    model = PerfusionGasExchangeModel(folder_path=path, params=params, solver='gmres', f_dim = 2, vecf_dim=1)\n",
    "    print(\"Model initialised\")\n",
    "    \n",
    "    model.import_mesh(\n",
    "        os.path.join(\"../raw-data/40_h_repaired\", \"40_h_repaired.xdmf\"), type=\"xdmf\", \n",
    "        periodic=False, max_dims=max_dims, min_dims=min_dims, tol=0.1\n",
    "    )\n",
    "    print(\"Mesh imported\")\n",
    "    \n",
    "    model.mesh = boxmesh\n",
    "    model.mesh = dolfin.refine(model.mesh)\n",
    "    print(\"Mesh refined\")\n",
    "    \n",
    "    print(\"Starting (P) simulation\")\n",
    "    model.sim_p(save=True, meshtype=\"tkd\")\n",
    "    print(\"(P) simulation done\")\n",
    "    \n",
    "    print(\"Starting (T) simulation\")\n",
    "    x = model.sim_t(hb=False, save=True, solver=\"bicgstab\")\n",
    "    print(\"Finished (linear) guess generation\")\n",
    "    solution = model.sim_t(hb=True, save=True, guess=x, solver=solver, preconditioner=preconditioner)\n",
    "    print(\"Done\")\n",
    "    \n",
    "# amounts = [5,10,20,30,50,100]\n",
    "# edges = [5,25,50]\n",
    "\n",
    "amount = 5\n",
    "side_length = 5\n",
    "\n",
    "print(f\"Comienza la iteración con amount = {str(amount)} y side_length = {str(side_length)}.\")\n",
    "\n",
    "max_dims = [side_length,side_length,side_length]\n",
    "min_dims = [0,0,0]\n",
    "\n",
    "boxmesh = BoxMesh(Point(0,0,0), Point(side_length,side_length,side_length), amount, amount, amount)\n",
    "\n",
    "name = \"amount_\" + str(amount)\n",
    "fname = \"edge_\" + str(side_length)\n",
    "\n",
    "run_model(name, fname, \"bicgstab\", \"default\", boxmesh, max_dims, min_dims)"
   ]
  },
  {
   "cell_type": "raw",
   "metadata": {},
   "source": [
    "Local (n_jobs = 1)\n",
    "\n",
    "side_length = 5\n",
    "    amount = 3 converge\n",
    "    amount = 5 sin memoria\n",
    "    \n",
    "side_length = 50\n",
    "    amount = 3 converge"
   ]
  },
  {
   "cell_type": "raw",
   "metadata": {},
   "source": [
    "Cluster\n",
    "\n",
    "Solver = bicgstab, preconditioner = default\n",
    "    side_length = 5\n",
    "        amount = 3\n",
    "            n_jobs = 1 converge, sin problemas, 50 seg\n",
    "            n_jobs = 5 no converge, \"Solution failed to converge in 247 iterations (PETSc reason DIVERGED_BREAKDOWN, residual norm ||r|| = 1.286558e+03).\"\n",
    "        amount = 5\n",
    "            n_jobs = 1 no converge\n",
    "            n_jobs = 5 no converge, error residual explota\n",
    "        amount = 10\n",
    "            n_jobs = 1 no converge, sin memoria\n",
    "            n_jobs = 5 no converge, \"Solution failed to converge in 1 iterations (PETSc reason DIVERGED_NANORINF, residual norm ||r|| = 1.714826e+84).\"\n",
    "            \n",
    "    side_length = 50\n",
    "        amount = 10\n",
    "            n_jobs = 5"
   ]
  }
 ],
 "metadata": {
  "kernelspec": {
   "display_name": "Python 3",
   "language": "python",
   "name": "python3"
  },
  "language_info": {
   "codemirror_mode": {
    "name": "ipython",
    "version": 3
   },
   "file_extension": ".py",
   "mimetype": "text/x-python",
   "name": "python",
   "nbconvert_exporter": "python",
   "pygments_lexer": "ipython3",
   "version": "3.6.9"
  }
 },
 "nbformat": 4,
 "nbformat_minor": 2
}
