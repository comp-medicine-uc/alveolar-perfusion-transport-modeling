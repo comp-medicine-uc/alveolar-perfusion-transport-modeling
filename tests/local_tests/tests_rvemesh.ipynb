{
 "cells": [
  {
   "cell_type": "code",
   "execution_count": 1,
   "metadata": {},
   "outputs": [
    {
     "name": "stdout",
     "output_type": "stream",
     "text": [
      "0.7.2\n"
     ]
    }
   ],
   "source": [
    "import numpy as np\n",
    "import matplotlib.pyplot as plt\n",
    "import pyvista\n",
    "import ufl\n",
    "import time\n",
    "from mpi4py import MPI\n",
    "from petsc4py import PETSc\n",
    "import dolfinx\n",
    "from dolfinx import fem, mesh, plot, nls, log, io\n",
    "from dolfinx import cpp as _cpp\n",
    "import meshio\n",
    "import os\n",
    "import sys\n",
    "\n",
    "sys.path.append('../')\n",
    "%load_ext autoreload\n",
    "%autoreload 2\n",
    "\n",
    "print(dolfinx.__version__)"
   ]
  },
  {
   "cell_type": "code",
   "execution_count": 3,
   "metadata": {},
   "outputs": [],
   "source": [
    "from src.utils import *\n",
    "from src.model import *"
   ]
  },
  {
   "cell_type": "code",
   "execution_count": 4,
   "metadata": {},
   "outputs": [],
   "source": [
    "# 3D geometry\n",
    "\n",
    "\n",
    "with io.XDMFFile(MPI.COMM_WORLD, '../raw-data/mesh225_normal/rve_225_normal.xdmf', 'r') as xdmf:\n",
    "    domain = xdmf.read_mesh(name='Grid')\n",
    "    # cells_local = np.arange(domain.topology.index_map(domain.topology.dim).size_local, dtype=np.int32)\n",
    "    # midpoints = dolfinx.mesh.compute_midpoints(domain, domain.topology.dim, cells_local).T\n",
    "    # should_refine = np.flatnonzero(all(midpoints)).astype(np.int32)\n",
    "    # domain.topology.create_entities(1)\n",
    "    # local_edges = dolfinx.mesh.compute_incident_entities(domain, should_refine, domain.topology.dim, 1)\n",
    "    # domain = dolfinx.mesh.refine(domain, local_edges)\n",
    "\n",
    "    # edges = mesh.locate_entities(domain, domain.topology.dim - 1, all)\n",
    "    # domain.topology\n",
    "    # domain = mesh.refine(domain, edges)\n",
    "    # V = fem.VectorFunctionSpace(domain, ('Lagrange', 2))"
   ]
  },
  {
   "cell_type": "code",
   "execution_count": 5,
   "metadata": {},
   "outputs": [],
   "source": [
    "topology, cells, geometry = plot.vtk_mesh(domain, domain.topology.dim)"
   ]
  },
  {
   "cell_type": "code",
   "execution_count": 5,
   "metadata": {},
   "outputs": [
    {
     "data": {
      "text/plain": [
       "(30094, 3)"
      ]
     },
     "execution_count": 5,
     "metadata": {},
     "output_type": "execute_result"
    }
   ],
   "source": [
    "geometry.shape"
   ]
  },
  {
   "cell_type": "code",
   "execution_count": 6,
   "metadata": {},
   "outputs": [
    {
     "data": {
      "text/plain": [
       "(115022,)"
      ]
     },
     "execution_count": 6,
     "metadata": {},
     "output_type": "execute_result"
    }
   ],
   "source": [
    "cells.shape"
   ]
  },
  {
   "cell_type": "code",
   "execution_count": 7,
   "metadata": {},
   "outputs": [
    {
     "data": {
      "text/plain": [
       "(575110,)"
      ]
     },
     "execution_count": 7,
     "metadata": {},
     "output_type": "execute_result"
    }
   ],
   "source": [
    "topology.shape"
   ]
  },
  {
   "cell_type": "code",
   "execution_count": 8,
   "metadata": {},
   "outputs": [
    {
     "data": {
      "application/vnd.jupyter.widget-view+json": {
       "model_id": "afc003da634f4ac383c27aaf633f37d8",
       "version_major": 2,
       "version_minor": 0
      },
      "text/plain": [
       "Widget(value=\"<iframe src='http://localhost:37633/index.html?ui=P_0x7f4b70029a50_0&reconnect=auto' style='widt…"
      ]
     },
     "metadata": {},
     "output_type": "display_data"
    },
    {
     "name": "stderr",
     "output_type": "stream",
     "text": [
      "ERROR:root:Exception raised\n",
      "ERROR:root:AttributeError(\"'NoneType' object has no attribute 'interactor'\")\n",
      "ERROR:root:Traceback (most recent call last):\n",
      "  File \"/home/bnherrerac/.local/lib/python3.10/site-packages/wslink/protocol.py\", line 321, in onMessage\n",
      "    results = func(*args, **kwargs)\n",
      "  File \"/home/bnherrerac/.local/lib/python3.10/site-packages/trame_server/protocol.py\", line 199, in update_state\n",
      "    with self.server.state:\n",
      "  File \"/home/bnherrerac/.local/lib/python3.10/site-packages/trame_server/state.py\", line 226, in __exit__\n",
      "    self.flush()\n",
      "  File \"/home/bnherrerac/.local/lib/python3.10/site-packages/trame_server/state.py\", line 199, in flush\n",
      "    coroutine = callback(**self._pushed_state)\n",
      "  File \"/home/bnherrerac/.local/lib/python3.10/site-packages/pyvista/trame/ui.py\", line 220, in on_axis_visiblity_change\n",
      "    renderer.show_axes()\n",
      "  File \"/home/bnherrerac/.local/lib/python3.10/site-packages/pyvista/plotting/renderer.py\", line 1171, in show_axes\n",
      "    self.add_axes()\n",
      "  File \"/home/bnherrerac/.local/lib/python3.10/site-packages/pyvista/plotting/renderer.py\", line 1137, in add_axes\n",
      "    axes_widget = self.add_orientation_widget(\n",
      "  File \"/home/bnherrerac/.local/lib/python3.10/site-packages/pyvista/plotting/renderer.py\", line 970, in add_orientation_widget\n",
      "    self.axes_widget.SetInteractor(self.parent.iren.interactor)\n",
      "AttributeError: 'NoneType' object has no attribute 'interactor'\n",
      "\n"
     ]
    },
    {
     "ename": "",
     "evalue": "",
     "output_type": "error",
     "traceback": [
      "\u001b[1;31mThe Kernel crashed while executing code in the current cell or a previous cell. \n",
      "\u001b[1;31mPlease review the code in the cell(s) to identify a possible cause of the failure. \n",
      "\u001b[1;31mClick <a href='https://aka.ms/vscodeJupyterKernelCrash'>here</a> for more info. \n",
      "\u001b[1;31mView Jupyter <a href='command:jupyter.viewOutput'>log</a> for further details."
     ]
    }
   ],
   "source": [
    "plot_mesh(domain)"
   ]
  },
  {
   "cell_type": "code",
   "execution_count": 6,
   "metadata": {},
   "outputs": [],
   "source": [
    "results_folder = r\"../../results-data/\"\n",
    "exp_folder = \"rve_225\""
   ]
  },
  {
   "cell_type": "code",
   "execution_count": 7,
   "metadata": {},
   "outputs": [],
   "source": [
    "model = PerfusionGasExchangeModel(mesh_path=None,\n",
    "                                  results_path=results_folder,\n",
    "                                  exp_path=exp_folder,\n",
    "                                  params=None)"
   ]
  },
  {
   "cell_type": "code",
   "execution_count": 8,
   "metadata": {},
   "outputs": [
    {
     "name": "stdout",
     "output_type": "stream",
     "text": [
      "max_dims = [226.4988, 225.138, 225.2962]\n",
      "min_dims = [-1.4086, 0.08677, 0.0389]\n",
      "Total number = 42710\n",
      "Inlet number = 633\n",
      "Outlet number = 668\n",
      "Air number = 41409\n"
     ]
    }
   ],
   "source": [
    "# max_dims = [76.07255, 74.9075,  74.99651]\n",
    "# min_dims = [-1.12887,  0.07919,  0.09616]\n",
    "\n",
    "# rve_225\n",
    "max_dims = [226.4988, 225.138, 225.2962]\n",
    "min_dims = [-1.4086, 0.08677, 0.0389]\n",
    "\n",
    "# rve_225_normal\n",
    "# max_dims = [226.4988, 225.1387, 225.2962]\n",
    "# min_dims = [-1.4082, 0.0866, 0.03899]\n",
    "\n",
    "# mesh225_dilated\n",
    "# max_dims = [226.3880, 224.8622, 225.0170]\n",
    "# min_dims = [-1.14634, -0.0851, 0.2545]\n",
    "\n",
    "# mesh225_eroded\n",
    "# max_dims = [226.01744, 224.76256, 224.7918]\n",
    "# min_dims = [-1.2616, 0.4544, 0.2872]\n",
    "\n",
    "model.Setup(domain, atol = 1E-3, max_dims = max_dims, min_dims = min_dims, imported=True, infinite=False)\n",
    "model.parameter_setup()\n",
    "model.p_params[\"uin\"] = 800/3"
   ]
  },
  {
   "cell_type": "code",
   "execution_count": 8,
   "metadata": {},
   "outputs": [],
   "source": [
    "p, u = model.Perfusion(domain, plot=True, save=True)"
   ]
  },
  {
   "cell_type": "code",
   "execution_count": null,
   "metadata": {},
   "outputs": [
    {
     "data": {
      "text/plain": [
       "'../../results-data/rve_test'"
      ]
     },
     "execution_count": 9,
     "metadata": {},
     "output_type": "execute_result"
    }
   ],
   "source": [
    "model.results_path"
   ]
  },
  {
   "cell_type": "code",
   "execution_count": null,
   "metadata": {},
   "outputs": [],
   "source": [
    "p_val = 0\n",
    "guess = model.GasExchange(domain, guess=None, save=False, \n",
    "                          plot=False, p_val = p_val, \n",
    "                          postprocess=False, plot_lines=False)\n",
    "N = 10\n",
    "for i in range(N):\n",
    "    p_val += 1/N\n",
    "    if i != N-1:\n",
    "        guess = model.GasExchange(domain, guess=guess, save=False, \n",
    "                                  plot=False, p_val = p_val, \n",
    "                                  postprocess=False, plot_lines=False)\n",
    "    else:\n",
    "        guess = model.GasExchange(domain, guess=guess, save=True, \n",
    "                                  plot=False, p_val = p_val, \n",
    "                                  postprocess=True, plot_lines=False)"
   ]
  },
  {
   "cell_type": "code",
   "execution_count": 9,
   "metadata": {},
   "outputs": [
    {
     "name": "stdout",
     "output_type": "stream",
     "text": [
      "6964.902262204516\n"
     ]
    }
   ],
   "source": [
    "area = calculate_area(domain, model.ds, 1)\n",
    "print(area)"
   ]
  },
  {
   "cell_type": "code",
   "execution_count": 15,
   "metadata": {},
   "outputs": [],
   "source": [
    "def inlet(x):\n",
    "    return np.isclose(x[0], model.min_dims[0], atol=0.5)\n",
    "def outlet(x):\n",
    "    return np.isclose(x[0], model.max_dims[0], atol=0.5)\n",
    "def all(x):\n",
    "    return np.full(x.shape[1], True, dtype=bool)\n",
    "def both(x):\n",
    "    return np.logical_or(inlet(x), outlet(x))\n",
    "def sides(x):\n",
    "    return np.logical_or(np.isclose(x[2], model.min_dims[2], atol=1), np.isclose(x[2], model.max_dims[2], atol=3))"
   ]
  },
  {
   "cell_type": "code",
   "execution_count": 16,
   "metadata": {},
   "outputs": [],
   "source": [
    "inlet_facets = mesh.locate_entities_boundary(domain, model.fdim, inlet)\n",
    "outlet_facets = mesh.locate_entities_boundary(domain, model.fdim, outlet)\n",
    "all_facets = mesh.locate_entities_boundary(domain, model.fdim, all)\n",
    "both_facets = mesh.locate_entities_boundary(domain, model.fdim, both)\n",
    "air_facets = np.setdiff1d(all_facets, both_facets)\n",
    "side_facets = mesh.locate_entities_boundary(domain, model.fdim, sides)"
   ]
  },
  {
   "cell_type": "code",
   "execution_count": 22,
   "metadata": {},
   "outputs": [
    {
     "data": {
      "text/plain": [
       "array([  1035,   1127,   1304,   1638,   1639,   1777,   2020,   2027,\n",
       "         2149,   2151,   2159,   2163,   2166,   2171,   2407,   3187,\n",
       "         3774,   3777,   3779,   3782,   3789,   3790,   4171,   4172,\n",
       "         4177,   4304,   4305,   4307,   4312,   4331,   4334,   4335,\n",
       "         4428,   4435,   4439,   4465,   4585,   4695,   4774,   5130,\n",
       "         5131,   5133,   5278,   5280,   5501,   5903,   6454,   6455,\n",
       "         6456,   6459,   6461,   6466,   6498,   6514,   6721,   6727,\n",
       "         7001,   7005,   7183,   7184,   7189,   7190,   8105,   9147,\n",
       "         9149,   9153,   9175,   9181,   9182,   9196,   9207,   9211,\n",
       "         9216,   9242,   9246,   9264,   9265,   9266,   9373,   9523,\n",
       "         9527,   9536,   9540,   9547,   9585,   9603,   9612,   9876,\n",
       "         9877,   9879,   9882,  10216,  10219,  10340,  10341,  10397,\n",
       "        10404,  10405,  10413,  10465,  10466,  10468,  10473,  10475,\n",
       "        10478,  10480,  10485,  10491,  10492,  10622,  10624,  10626,\n",
       "        10633,  10645,  10654,  10656,  10681,  10686,  10705,  10707,\n",
       "        11551,  11553,  11554,  11705,  11840,  11842,  11846,  11902,\n",
       "        12402,  12450,  12764,  12767,  12852,  12939,  12941,  12944,\n",
       "        12953,  12956,  12957,  12960,  12998,  12999,  13001,  13004,\n",
       "        13308,  13309,  13677,  13683,  13930,  13934,  13935,  14261,\n",
       "        14265,  14266,  14351,  14352,  14454,  14456,  14769,  14771,\n",
       "        14772,  14773,  14897,  14911,  14993,  14998,  15009,  15191,\n",
       "        15195,  15233,  15235,  15237,  15242,  15243,  15244,  15246,\n",
       "        15251,  15253,  15255,  15261,  15263,  15419,  15421,  15423,\n",
       "        15637,  15639,  15675,  15677,  15680,  16199,  16201,  16415,\n",
       "        16417,  16423,  16426,  16489,  16508,  16562,  16566,  16601,\n",
       "        16618,  16619,  16620,  16623,  16632,  16634,  16883,  16888,\n",
       "        16891,  16947,  16948,  16962,  17030,  17186,  17365,  17414,\n",
       "        17419,  17621,  17678,  17942,  17945,  18158,  18162,  18270,\n",
       "        18272,  18274,  18285,  18287,  18309,  18398,  18446,  18449,\n",
       "        18494,  18495,  18511,  18567,  18570,  18573,  18576,  18703,\n",
       "        18723,  19084,  19494,  19497,  19502,  19508,  19573,  19578,\n",
       "        19584,  19585,  19628,  19632,  19822,  19823,  19843,  19850,\n",
       "        19853,  20039,  20041,  20048,  20074,  20077,  20079,  20084,\n",
       "        20090,  20099,  20367,  20371,  20379,  20415,  20627,  20628,\n",
       "        20634,  20635,  20791,  20870,  20878,  20879,  20886,  21021,\n",
       "        21024,  21219,  21225,  21231,  21232,  21551,  21735,  21739,\n",
       "        21741,  21927,  22238,  22243,  22381,  22385,  22386,  22611,\n",
       "        22612,  22691,  22692,  22693,  23062,  23154,  23220,  23248,\n",
       "        23249,  23252,  23253,  23405,  24216,  24218,  24465,  24469,\n",
       "        24470,  24616,  24617,  24618,  24829,  24834,  24853,  24855,\n",
       "        24860,  25131,  25133,  25139,  25921,  26165,  26168,  26240,\n",
       "        26242,  26301,  26306,  26330,  26332,  27597,  27598,  27671,\n",
       "        27676,  27724,  27758,  28460,  29395,  29397,  29406,  29409,\n",
       "        29558,  29560,  29563,  29745,  29798,  29803,  29805,  29809,\n",
       "        29811,  30643,  30645,  31265,  31266,  31267,  31461,  31536,\n",
       "        31558,  31561,  31663,  31667,  31670,  31732,  31737,  32635,\n",
       "        32823,  32824,  32843,  33032,  33219,  33866,  34005,  34009,\n",
       "        34459,  34463,  34465,  34540,  35253,  35254,  35300,  35346,\n",
       "        35348,  35366,  35462,  36069,  36178,  36237,  37010,  37379,\n",
       "        37402,  37403,  37545,  37546,  38276,  38277,  39817,  39819,\n",
       "        40258,  40263,  40410,  40412,  40526,  40899,  42411,  42415,\n",
       "        42426,  42427,  42519,  42520,  42761,  42824,  42826,  43499,\n",
       "        43502,  45487,  46340,  46749,  46757,  47350,  47355,  47357,\n",
       "        47368,  47391,  47396,  47400,  47407,  47408,  47845,  48143,\n",
       "        48743,  49053,  49055,  49255,  49259,  49260,  49297,  49565,\n",
       "        49567,  49579,  49583,  49585,  49588,  49706,  49708,  49988,\n",
       "        50299,  50301,  50304,  50636,  50748,  50928,  50929,  51094,\n",
       "        51099,  51355,  51362,  51368,  51440,  51489,  51497,  51521,\n",
       "        51526,  51529,  51706,  52167,  52831,  52832,  53526,  53552,\n",
       "        53559,  53562,  53566,  53799,  54007,  54012,  54017,  54041,\n",
       "        54904,  54905,  54907,  54909,  54914,  54915,  54916,  54918,\n",
       "        54920,  54926,  54932,  54933,  54991,  55241,  56088,  56091,\n",
       "        56094,  56309,  56443,  56445,  57000,  57002,  57007,  57009,\n",
       "        57011,  57013,  57016,  57280,  57286,  58269,  58271,  58664,\n",
       "        58667,  59102,  59530,  59537,  59691,  59694,  60225,  60480,\n",
       "        60483,  60484,  60486,  60489,  60492,  60498,  60499,  60501,\n",
       "        60502,  60543,  60546,  60548,  61102,  61105,  61615,  61969,\n",
       "        61971,  61974,  62580,  62583,  62766,  62963,  63272,  63274,\n",
       "        63279,  63280,  63343,  63355,  63356,  63361,  63364,  63753,\n",
       "        63754,  63756,  63782,  63784,  63786,  64588,  64593,  65631,\n",
       "        67088,  67090,  69428,  70926,  70927,  70961,  71699,  71701,\n",
       "        72186,  72191,  72469,  72471,  72475,  72581,  72801,  72805,\n",
       "        72892,  72966,  73841,  74065,  74074,  74075,  74076,  74320,\n",
       "        74330,  74338,  74339,  75813,  75863,  76508,  76510,  76515,\n",
       "        77491,  77495,  77497,  77617,  77619,  77623,  77626,  78051,\n",
       "        78052,  78056,  78059,  79691,  79694,  80436,  80485,  80487,\n",
       "        80496,  80603,  81112,  81678,  82263,  82972,  83797,  83800,\n",
       "        84507,  84509,  84512,  84516,  84523,  84526,  84579,  85307,\n",
       "        85309,  85318,  85350,  85353,  86651,  86659,  87251,  87623,\n",
       "        87625,  87649,  88085,  88088,  89372,  89373,  90221,  90225,\n",
       "        90308,  90310,  90493,  90512,  90513,  91199,  91377,  91378,\n",
       "        91725,  91731,  91738,  91742,  91837,  91878,  91891,  91898,\n",
       "        91929,  91932,  94445,  94448,  94603,  94742,  96344,  96345,\n",
       "        97037,  97996,  98512,  98515,  98765,  98766,  98769,  98774,\n",
       "        98778,  98782,  99233, 102653, 104830, 106154, 106157, 109132,\n",
       "       109676, 109680, 109683, 112661, 113375, 113398, 116386],\n",
       "      dtype=int32)"
      ]
     },
     "execution_count": 22,
     "metadata": {},
     "output_type": "execute_result"
    }
   ],
   "source": [
    "outlet_facets"
   ]
  },
  {
   "cell_type": "code",
   "execution_count": 17,
   "metadata": {},
   "outputs": [],
   "source": [
    "pyvista.set_jupyter_backend('client')\n",
    "pyvista.global_theme.background = 'white'\n",
    "pyvista.global_theme.cmap = 'Blues'\n",
    "pyvista.global_theme.line_width = 0.2\n",
    "pyvista.global_theme.lighting_params.diffuse = 1\n",
    "pyvista.global_theme.lighting_params.roughness = 1\n",
    "pyvista.global_theme.lighting_params.metallic = 1\n",
    "pyvista.global_theme.lighting_params.specular = 0"
   ]
  },
  {
   "cell_type": "code",
   "execution_count": 18,
   "metadata": {},
   "outputs": [
    {
     "name": "stderr",
     "output_type": "stream",
     "text": [
      "ERROR:root:Attempt to use a texture buffer exceeding your hardware's limits. This can happen when trying to color by cell data with a large dataset. Hardware limit is 65536 values while 251399 was requested.\n",
      "\u001b[0m\u001b[31m2024-02-09 22:08:37.722 ( 116.917s) [        13EF11C0]   vtkTextureObject.cxx:1025   ERR| vtkTextureObject (0x562ba1b16f30): Attempt to use a texture buffer exceeding your hardware's limits. This can happen when trying to color by cell data with a large dataset. Hardware limit is 65536 values while 251399 was requested.\u001b[0m\n",
      "\u001b[0m\u001b[31m2024-02-09 22:08:37.773 ( 116.968s) [        13EF11C0]   vtkTextureObject.cxx:1025   ERR| vtkTextureObject (0x562ba27e5c50): Attempt to use a texture buffer exceeding your hardware's limits. This can happen when trying to color by cell data with a large dataset. Hardware limit is 65536 values while 251399 was requested.\u001b[0m\n",
      "ERROR:root:Attempt to use a texture buffer exceeding your hardware's limits. This can happen when trying to color by cell data with a large dataset. Hardware limit is 65536 values while 251399 was requested.\n"
     ]
    },
    {
     "name": "stdout",
     "output_type": "stream",
     "text": [
      "num_cells_local = [     0      1      4 ... 251393 251396 251398]\n"
     ]
    },
    {
     "data": {
      "application/vnd.jupyter.widget-view+json": {
       "model_id": "a79436c5d5494714a32cb3583c8cc681",
       "version_major": 2,
       "version_minor": 0
      },
      "text/plain": [
       "Widget(value=\"<iframe src='http://localhost:34033/index.html?ui=P_0x7f9dbf3a1de0_1&reconnect=auto' style='widt…"
      ]
     },
     "metadata": {},
     "output_type": "display_data"
    }
   ],
   "source": [
    "# Filter out ghosted cells\n",
    "num_cells_local = mesh.locate_entities_boundary(domain, model.fdim, all)\n",
    "print(f\"num_cells_local = {num_cells_local}\")\n",
    "marker = np.zeros(np.max(num_cells_local)+1, dtype=np.int32) \n",
    "marker[inlet_facets] = 1 \n",
    "marker[outlet_facets] = 2\n",
    "# marker[air_facets] = 1\n",
    "\n",
    "topology, cell_types, x = dolfinx.plot.vtk_mesh(domain, model.fdim, np.arange(np.max(num_cells_local)+1, dtype=np.int32))\n",
    "\n",
    "p = pyvista.Plotter(window_size=[1700,1200], lighting='three lights')\n",
    "# p.camera_position = [(549.2903053536529, 549.3577041036528, 450),\n",
    "#  (112.54529812499999, 112.612696875, 112.667614875),\n",
    "#  (0.0, 0.0, 1.0)]\n",
    "grid = pyvista.UnstructuredGrid(topology, cell_types, x)\n",
    "grid.cell_data[\"Marker\"] = marker\n",
    "grid.set_active_scalars(\"Marker\")\n",
    "p.add_mesh(grid, show_edges=True, edge_color=\"#000000\")\n",
    "p.remove_scalar_bar()\n",
    "# if pyvista.OFF_SCREEN:\n",
    "figure = p.screenshot(\"marked_mesh.png\")\n",
    "p.show()"
   ]
  },
  {
   "cell_type": "code",
   "execution_count": 16,
   "metadata": {},
   "outputs": [
    {
     "data": {
      "text/plain": [
       "[(549.2903053536529, 549.3577041036528, 549.4126221036529),\n",
       " (112.54529812499999, 112.612696875, 112.667614875),\n",
       " (0.0, 0.0, 1.0)]"
      ]
     },
     "execution_count": 16,
     "metadata": {},
     "output_type": "execute_result"
    }
   ],
   "source": [
    "p.camera_position"
   ]
  },
  {
   "cell_type": "code",
   "execution_count": 27,
   "metadata": {},
   "outputs": [
    {
     "name": "stdout",
     "output_type": "stream",
     "text": [
      "[ -0.95   3.78   8.5   13.23  17.95  22.68  27.4   32.12  36.85  41.57\n",
      "  46.3   55.74  65.19  74.64  84.09  93.54 102.99 112.44 121.88 131.33\n",
      " 140.78 150.23 159.68 169.13 178.57 188.02 197.47 206.92 216.37 225.82\n",
      "   1.42   6.14  10.86  15.59  20.31]\n"
     ]
    },
    {
     "data": {
      "text/plain": [
       "<matplotlib.collections.PathCollection at 0x7f4f1253fd30>"
      ]
     },
     "execution_count": 27,
     "metadata": {},
     "output_type": "execute_result"
    },
    {
     "data": {
      "image/png": "[encoded data removed]",
      "text/plain": [
       "<Figure size 640x480 with 1 Axes>"
      ]
     },
     "metadata": {},
     "output_type": "display_data"
    }
   ],
   "source": [
    "# Nodes for slicing\n",
    "\n",
    "NN = 25\n",
    "b = 226.017\n",
    "a = -1.146\n",
    "edge = 0.2\n",
    "\n",
    "# Chebyshev\n",
    "# xs = []\n",
    "# for i in range(1,NN+1):\n",
    "    # xs.append(0.5*(a+b)+0.5*(b-a)*np.cos( ((2*i-1) * np.pi) / (2*NN))) \n",
    "# xs = np.array(xs)\n",
    "\n",
    "# Equispaced\n",
    "xs = np.linspace(a+edge, b-edge, NN)\n",
    "\n",
    "m = np.median(xs)\n",
    "\n",
    "t = []\n",
    "for i in range(5):\n",
    "    t.append((xs[i]+xs[i+1])/2)\n",
    "\n",
    "xs = np.sort(np.round(np.array((xs.tolist() + t)), 2))\n",
    "\n",
    "t = []\n",
    "for i in range(5):\n",
    "    t.append((xs[i]+xs[i+1])/2)\n",
    "\n",
    "xs = np.round(np.array((xs.tolist() + t)), 2)\n",
    "\n",
    "print(xs)\n",
    "\n",
    "plt.scatter(xs, np.zeros_like(xs))\n",
    "# plt.scatter(a, 0, color='red')\n",
    "# plt.scatter(b, 0, color='red')\n",
    "# "
   ]
  },
  {
   "cell_type": "code",
   "execution_count": 28,
   "metadata": {},
   "outputs": [
    {
     "name": "stdout",
     "output_type": "stream",
     "text": [
      "112.43549999999999\n",
      "[-113.39 -108.66 -103.94  -99.21  -94.49  -89.76  -85.04  -80.32  -75.59\n",
      "  -70.87  -66.14  -56.7   -47.25  -37.8   -28.35  -18.9    -9.45    0.\n",
      "    9.44   18.89   28.34   37.79   47.24   56.69   66.13   75.58   85.03\n",
      "   94.48  103.93  113.38 -111.02 -106.3  -101.58  -96.85  -92.13]\n"
     ]
    }
   ],
   "source": [
    "with np.printoptions(precision=3, suppress=True):\n",
    "    print(m)\n",
    "    print(np.round(xs-m, 2))"
   ]
  }
 ],
 "metadata": {
  "kernelspec": {
   "display_name": "Python 3",
   "language": "python",
   "name": "python3"
  },
  "language_info": {
   "codemirror_mode": {
    "name": "ipython",
    "version": 3
   },
   "file_extension": ".py",
   "mimetype": "text/x-python",
   "name": "python",
   "nbconvert_exporter": "python",
   "pygments_lexer": "ipython3",
   "version": "3.10.12"
  }
 },
 "nbformat": 4,
 "nbformat_minor": 2
}
