{
 "cells": [
  {
   "cell_type": "code",
   "execution_count": 1,
   "metadata": {},
   "outputs": [],
   "source": [
    "%load_ext autoreload\n"
   ]
  },
  {
   "cell_type": "code",
   "execution_count": 2,
   "metadata": {},
   "outputs": [
    {
     "name": "stdout",
     "output_type": "stream",
     "text": [
      "Relative path:  /home/bnherrerac/alveolar-perfusion-transport-modeling\n"
     ]
    }
   ],
   "source": [
    "__author__ = 'biherrera'\n",
    "__email__ = 'biherrera@uc.cl'\n",
    "\n",
    "%autoreload\n",
    "\n",
    "import sys\n",
    "import os\n",
    "import time\n",
    "\n",
    "# The following line adds the directory to the path in order to cross-reference\n",
    "# files in the repo\n",
    "sys.path.append(os.getcwd()[:-6])\n",
    "print(\"Relative path: \", os.getcwd()[:-6])\n",
    "import dolfin\n",
    "from fenics import *\n",
    "from src.model import PerfusionGasExchangeModel\n",
    "from src.params import params"
   ]
  },
  {
   "cell_type": "code",
   "execution_count": 3,
   "metadata": {},
   "outputs": [],
   "source": [
    "box_mesh = BoxMesh(Point(0,0,0),Point(5,5,5),10,10,10)"
   ]
  },
  {
   "cell_type": "code",
   "execution_count": 4,
   "metadata": {},
   "outputs": [
    {
     "name": "stdout",
     "output_type": "stream",
     "text": [
      "Imported src files\n",
      "Starting...\n",
      "../local-results-data/box_mesh\n",
      "Model initialised\n",
      "Mesh imported\n",
      "Coordinates have shape  (879, 3)\n",
      "Mesh imported\n",
      "Starting (P) simulation\n",
      "began sim_p\n",
      "Instancing boundaries\n",
      "gamma_in.dir_min =  0\n",
      "gamma_in.dir_max =  5\n",
      "gamma_out.dir_min =  0\n",
      "gamma_out.dir_max =  5\n",
      "gamma_air.dir_min_y =  0\n",
      "gamma_air.dir_max_y =  5\n",
      "gamma_air.dir_min_z =  0\n",
      "gamma_air.dir_max_z =  5\n",
      "boundaries instanced\n",
      "self.f_dim = 2\n",
      "self.vecf_dim = 1\n",
      "P problem solved\n",
      "u problem solved\n",
      "Saving solutions\n",
      "saved\n",
      "Time elapsed:  0.7631916999816895\n",
      "(P) simulation done\n"
     ]
    }
   ],
   "source": [
    "print(\"Imported src files\")\n",
    "print(\"Starting...\")\n",
    "folder = \"box_mesh\"\n",
    "path = os.path.join(\"../local-results-data\", folder)\n",
    "print(path)\n",
    "model = PerfusionGasExchangeModel(folder_path=path, params=params, solver='mumps', f_dim = 2, vecf_dim=1)\n",
    "print(\"Model initialised\")\n",
    "# max_dimsh = [12.005523, 12.005658, 12.005917]\n",
    "# min_dimsh = [1.994504, 1.993421, 1.994056]\n",
    "max_dimsh = [5,5,5]\n",
    "min_dimsh = [0,0,0]\n",
    "\n",
    "model.import_mesh(\n",
    "    os.path.join(\"../raw-data/small_cube\", \"small_cube.xdmf\"), type=\"xdmf\", \n",
    "    periodic=False, max_dims = max_dimsh, min_dims = min_dimsh, tol=0.1\n",
    ")\n",
    "print(\"Mesh imported\")\n",
    "# model.mesh = dolfin.refine(model.mesh)\n",
    "model.mesh = box_mesh\n",
    "# print(\"Mesh refined\")\n",
    "print(\"Starting (P) simulation\")\n",
    "t_1 = time.time()\n",
    "model.sim_p(save=True, meshtype=\"tkd\")\n",
    "print(\"Time elapsed: \", time.time()-t_1)\n",
    "print(\"(P) simulation done\")\n"
   ]
  },
  {
   "cell_type": "code",
   "execution_count": 35,
   "metadata": {},
   "outputs": [],
   "source": [
    "list_linear_solver_methods()\n",
    "list_krylov_solver_preconditioners()"
   ]
  },
  {
   "cell_type": "code",
   "execution_count": 6,
   "metadata": {},
   "outputs": [
    {
     "name": "stdout",
     "output_type": "stream",
     "text": [
      "2019.2.0.dev0\n"
     ]
    }
   ],
   "source": [
    "print(dolfin.__version__)"
   ]
  },
  {
   "cell_type": "code",
   "execution_count": 7,
   "metadata": {},
   "outputs": [
    {
     "name": "stdout",
     "output_type": "stream",
     "text": [
      "Starting (T) simulation\n",
      "began sim_t, with solver =  bicgstab\n",
      "Solving with solver = bicgstab and without preconditioner.\n",
      "Time elapsed: 2.0005040168762207\n",
      "Finished (linear) guess generation\n"
     ]
    }
   ],
   "source": [
    "%autoreload\n",
    "print(\"Starting (T) simulation\")\n",
    "t1 = time.time()\n",
    "x = model.sim_t(hb=False, save=True, solver=\"bicgstab\")\n",
    "print(f\"Time elapsed: {time.time()-t1}\")\n",
    "print(\"Finished (linear) guess generation\")"
   ]
  },
  {
   "cell_type": "code",
   "execution_count": 36,
   "metadata": {},
   "outputs": [
    {
     "name": "stdout",
     "output_type": "stream",
     "text": [
      "began sim_t, with solver =  mumps\n",
      "Solving with solver = mumps and preconditioner = default.\n",
      "Time elapsed: 175.40535950660706\n",
      "Done\n"
     ]
    }
   ],
   "source": [
    "t1 = time.time()\n",
    "solution = model.sim_t(\n",
    "    hb=True, save=True, guess=x, \n",
    "    solver=\"mumps\", preconditioner=\"default\")\n",
    "print(f\"Time elapsed: {time.time()-t1}\")\n",
    "print(\"Done\")"
   ]
  },
  {
   "cell_type": "code",
   "execution_count": 29,
   "metadata": {},
   "outputs": [
    {
     "data": {
      "text/plain": [
       "()"
      ]
     },
     "execution_count": 29,
     "metadata": {},
     "output_type": "execute_result"
    }
   ],
   "source": [
    "import inspect\n",
    "# inspect.signature(PerfusionGasExchangeModel.import_mesh)"
   ]
  },
  {
   "cell_type": "code",
   "execution_count": null,
   "metadata": {},
   "outputs": [],
   "source": []
  }
 ],
 "metadata": {
  "kernelspec": {
   "display_name": "Python 3",
   "language": "python",
   "name": "python3"
  },
  "language_info": {
   "codemirror_mode": {
    "name": "ipython",
    "version": 3
   },
   "file_extension": ".py",
   "mimetype": "text/x-python",
   "name": "python",
   "nbconvert_exporter": "python",
   "pygments_lexer": "ipython3",
   "version": "3.6.9"
  },
  "vscode": {
   "interpreter": {
    "hash": "bea30a23734f6a2aead2e5dd37b1dca05eb619cb7357383b89621e05014a3f63"
   }
  }
 },
 "nbformat": 4,
 "nbformat_minor": 2
}
