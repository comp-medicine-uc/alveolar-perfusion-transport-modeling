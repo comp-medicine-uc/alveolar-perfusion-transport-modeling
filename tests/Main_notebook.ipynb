{
 "cells": [
  {
   "cell_type": "code",
   "execution_count": 1,
   "metadata": {},
   "outputs": [],
   "source": [
    "%load_ext autoreload\n"
   ]
  },
  {
   "cell_type": "code",
   "execution_count": 2,
   "metadata": {},
   "outputs": [
    {
     "name": "stdout",
     "output_type": "stream",
     "text": [
      "Relative path:  /home/bnherrerac/alveolar-perfusion-transport-modeling\n"
     ]
    },
    {
     "ename": "SyntaxError",
     "evalue": "invalid syntax (model.py, line 434)",
     "output_type": "error",
     "traceback": [
      "Traceback \u001b[0;36m(most recent call last)\u001b[0m:\n",
      "  File \u001b[1;32m\"/home/bnherrerac/.local/lib/python3.6/site-packages/IPython/core/interactiveshell.py\"\u001b[0m, line \u001b[1;32m3343\u001b[0m, in \u001b[1;35mrun_code\u001b[0m\n    exec(code_obj, self.user_global_ns, self.user_ns)\n",
      "\u001b[0;36m  File \u001b[0;32m\"<ipython-input-2-cb0af2cd06a1>\"\u001b[0;36m, line \u001b[0;32m15\u001b[0;36m, in \u001b[0;35m<module>\u001b[0;36m\u001b[0m\n\u001b[0;31m    from src.model import PerfusionGasExchangeModel\u001b[0m\n",
      "\u001b[0;36m  File \u001b[0;32m\"/home/bnherrerac/alveolar-perfusion-transport-modeling/src/model.py\"\u001b[0;36m, line \u001b[0;32m434\u001b[0m\n\u001b[0;31m    elif preconditioner ==\u001b[0m\n\u001b[0m                           ^\u001b[0m\n\u001b[0;31mSyntaxError\u001b[0m\u001b[0;31m:\u001b[0m invalid syntax\n"
     ]
    }
   ],
   "source": [
    "__author__ = 'biherrera'\n",
    "__email__ = 'biherrera@uc.cl'\n",
    "\n",
    "%autoreload\n",
    "\n",
    "import sys\n",
    "import os\n",
    "\n",
    "# The following line adds the directory to the path in order to cross-reference\n",
    "# files in the repo\n",
    "sys.path.append(os.getcwd()[:-6])\n",
    "print(\"Relative path: \", os.getcwd()[:-6])\n",
    "import dolfin\n",
    "from fenics import *\n",
    "from src.model import PerfusionGasExchangeModel\n",
    "from src.params import params"
   ]
  },
  {
   "cell_type": "code",
   "execution_count": null,
   "metadata": {},
   "outputs": [
    {
     "name": "stdout",
     "output_type": "stream",
     "text": [
      "Relative path:  /home/bnherrerac/alveolar-perfusion-transport-modeling\n",
      "Imported src files\n",
      "Starting...\n",
      "../local-results-data/rve_25_smooth\n",
      "Model initialised\n",
      "Mesh imported\n",
      "Coordinates have shape  (4575, 3)\n",
      "Mesh imported\n",
      "Mesh refined\n",
      "Starting (P) simulation\n",
      "began sim_p\n",
      "Instancing boundaries\n",
      "gamma_in.dir_min =  0.337988\n",
      "gamma_in.dir_max =  24.630131\n",
      "gamma_out.dir_min =  0.337988\n",
      "gamma_out.dir_max =  24.630131\n",
      "gamma_air.dir_min_y =  0.372257\n",
      "gamma_air.dir_max_y =  24.657419\n",
      "gamma_air.dir_min_z =  0.350474\n",
      "gamma_air.dir_max_z =  24.623438\n",
      "boundaries instanced\n",
      "P problem solved\n",
      "u problem solved\n",
      "Saving solutions\n",
      "saved\n",
      "(P) simulation done\n",
      "Starting (T) simulation\n",
      "Finished (linear) guess generation\n"
     ]
    }
   ],
   "source": [
    "# print(\"Imported src files\")\n",
    "# print(\"Starting...\")\n",
    "# folder = \"rve_25_smooth\"\n",
    "# path = os.path.join(\"../local-results-data\", folder)\n",
    "# print(path)\n",
    "# model = PerfusionGasExchangeModel(folder_path=path, params=params)\n",
    "# print(\"Model initialised\")\n",
    "# model.import_mesh(\n",
    "#     os.path.join(\"../raw-data/rve_25_smooth\", \"tetra_mesh_25_smooth.xdmf\"), type=\"xdmf\", \n",
    "#     periodic=False, max_dims = [24.630131, 24.657419, 24.623438], min_dims = [0.337988, 0.372257, 0.350474], tol=0.7\n",
    "# )\n",
    "# print(\"Mesh imported\")\n",
    "# model.mesh = dolfin.refine(model.mesh)\n",
    "# print(\"Mesh refined\")\n",
    "# print(\"Starting (P) simulation\")\n",
    "# model.sim_p(save=True, meshtype=\"tkd\")\n",
    "# print(\"(P) simulation done\")\n",
    "# print(\"Starting (T) simulation\")\n",
    "# x = model.sim_t(hb=False, save=True)\n",
    "# print(\"Finished (linear) guess generation\")\n",
    "# solution = model.sim_t(hb=True, save=True, guess=x)\n",
    "# print(\"Done\")"
   ]
  },
  {
   "cell_type": "code",
   "execution_count": 19,
   "metadata": {},
   "outputs": [],
   "source": [
    "list_linear_solver_methods()\n",
    "list_krylov_solver_preconditioners()"
   ]
  },
  {
   "cell_type": "code",
   "execution_count": 5,
   "metadata": {},
   "outputs": [
    {
     "name": "stdout",
     "output_type": "stream",
     "text": [
      "2019.2.0.dev0\n"
     ]
    }
   ],
   "source": [
    "print(dolfin.__version__)"
   ]
  },
  {
   "cell_type": "code",
   "execution_count": null,
   "metadata": {},
   "outputs": [],
   "source": []
  }
 ],
 "metadata": {
  "kernelspec": {
   "display_name": "Python 3",
   "language": "python",
   "name": "python3"
  },
  "language_info": {
   "codemirror_mode": {
    "name": "ipython",
    "version": 3
   },
   "file_extension": ".py",
   "mimetype": "text/x-python",
   "name": "python",
   "nbconvert_exporter": "python",
   "pygments_lexer": "ipython3",
   "version": "3.6.9"
  },
  "vscode": {
   "interpreter": {
    "hash": "bea30a23734f6a2aead2e5dd37b1dca05eb619cb7357383b89621e05014a3f63"
   }
  }
 },
 "nbformat": 4,
 "nbformat_minor": 2
}
