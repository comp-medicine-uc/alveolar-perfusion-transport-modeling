{
 "cells": [
  {
   "cell_type": "code",
   "execution_count": null,
   "metadata": {},
   "outputs": [
    {
     "name": "stdout",
     "output_type": "stream",
     "text": [
      "Relative path:  /home/bnherrerac/alveolar-perfusion-transport-modeling\n",
      "Starting...\n",
      "../raw-and-results-data/rve_40_vol\n",
      "Model initialised\n",
      "Mesh imported\n",
      "Coordinates have shape  (15877, 3)\n",
      "self.dir_max_flow =  40.6758673128\n",
      "self.dir_min_flow =  -0.6561989643999999\n",
      "self.dir_max_y =  40.6559837499\n",
      "self.dir_min_y =  -0.6702492376\n",
      "self.dir_max_z =  40.6433994556\n",
      "Mesh refined\n",
      "Starting (P) simulation\n",
      "began sim_p\n",
      "Instancing boundaries\n",
      "gamma_in.dir_min =  -0.6561989643999999\n",
      "gamma_in.dir_max =  40.6758673128\n",
      "gamma_out.dir_min =  -0.6561989643999999\n",
      "gamma_out.dir_max =  40.6758673128\n",
      "gamma_air.dir_min_y =  -0.6702492376\n",
      "gamma_air.dir_max_y =  40.6559837499\n",
      "gamma_air.dir_min_z =  -0.6591004764\n",
      "gamma_air.dir_max_z =  40.6433994556\n",
      "boundaries instanced\n"
     ]
    }
   ],
   "source": [
    "'''Main file for alveolar perfusion and gas exchange simulations in TKD\n",
    "mesh.\n",
    "'''\n",
    "\n",
    "__author__ = 'biherrera'\n",
    "__email__ = 'biherrera@uc.cl'\n",
    "\n",
    "import sys\n",
    "import os\n",
    "# The following line adds the directory to the path in order to cross-reference\n",
    "# files in the repo\n",
    "# sys.path.append(os.getcwd()[:-14])\n",
    "# print(\"Relative path: \", os.getcwd()[:-14])\n",
    "sys.path.append(os.getcwd()[:-6])\n",
    "print(\"Relative path: \", os.getcwd()[:-6])\n",
    "import dolfin\n",
    "from src.model import PerfusionGasExchangeModel\n",
    "from src.params import params\n",
    "\n",
    "print(\"Starting...\")\n",
    "folder = \"rve_40_vol\"\n",
    "path = os.path.join(\"../raw-and-results-data\", folder)\n",
    "print(path)\n",
    "model = PerfusionGasExchangeModel(folder_path=path, params=params)\n",
    "print(\"Model initialised\")\n",
    "model.import_mesh(\n",
    "    os.path.join(\"../raw-and-results-data/rve_40_vol\", \"rve_40_flat.xdmf\"), type=\"xdmf\", \n",
    "    periodic=False\n",
    ")\n",
    "model.mesh = dolfin.refine(model.mesh)\n",
    "print(\"Mesh refined\")\n",
    "print(\"Starting (P) simulation\")\n",
    "model.sim_p(save=True, meshtype=\"tkd\")\n",
    "print(\"(P) simulation done\")\n",
    "\n",
    "# print(\"Starting (T) simulation\")\n",
    "# x = model.sim_t(hb=False, save=False)\n",
    "# solution = model.sim_t(hb=True, save=True, guess=x)\n",
    "# print(\"Done\")"
   ]
  },
  {
   "cell_type": "code",
   "execution_count": null,
   "metadata": {},
   "outputs": [],
   "source": []
  },
  {
   "cell_type": "code",
   "execution_count": null,
   "metadata": {},
   "outputs": [],
   "source": []
  }
 ],
 "metadata": {
  "kernelspec": {
   "display_name": "Python 3",
   "language": "python",
   "name": "python3"
  },
  "language_info": {
   "codemirror_mode": {
    "name": "ipython",
    "version": 3
   },
   "file_extension": ".py",
   "mimetype": "text/x-python",
   "name": "python",
   "nbconvert_exporter": "python",
   "pygments_lexer": "ipython3",
   "version": "3.6.9"
  },
  "vscode": {
   "interpreter": {
    "hash": "bea30a23734f6a2aead2e5dd37b1dca05eb619cb7357383b89621e05014a3f63"
   }
  }
 },
 "nbformat": 4,
 "nbformat_minor": 2
}
